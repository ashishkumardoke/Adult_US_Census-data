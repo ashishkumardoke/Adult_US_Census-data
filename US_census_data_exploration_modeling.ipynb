{
 "cells": [
  {
   "cell_type": "code",
   "execution_count": 152,
   "metadata": {},
   "outputs": [],
   "source": [
    "#import dependencies\n",
    "import numpy as np\n",
    "import pandas as pd\n",
    "import matplotlib.pyplot as plt\n",
    "import matplotlib as matplot\n",
    "import seaborn as sns\n",
    "%matplotlib inline\n",
    "from sklearn.preprocessing import LabelEncoder\n",
    "from sklearn import model_selection\n",
    "from sklearn.linear_model import LogisticRegression\n",
    "from sklearn.cross_validation import train_test_split\n",
    "from sklearn.model_selection import StratifiedKFold\n",
    "from sklearn.metrics import confusion_matrix, classification_report, roc_curve, roc_auc_score,accuracy_score\n",
    "from scipy import stats\n",
    "from sklearn import metrics\n",
    "from sklearn.metrics import confusion_matrix, classification_report\n",
    "from sklearn.model_selection import train_test_split \n",
    "from sklearn.model_selection import cross_val_score  \n",
    "from sklearn.model_selection import GridSearchCV\n",
    "import pandas as pd\n",
    "import statsmodels.api as sm\n",
    "import pylab as pl\n",
    "from sklearn.model_selection import train_test_split\n",
    "from scipy import stats"
   ]
  },
  {
   "cell_type": "code",
   "execution_count": 153,
   "metadata": {
    "collapsed": true
   },
   "outputs": [],
   "source": [
    "#reading the train dataset\n",
    "\n",
    "df=pd.read_csv('census_income_learn.csv')\n",
    "\n",
    "#reading the test dataset\n",
    "df1=pd.read_csv('census_income_test.csv')"
   ]
  },
  {
   "cell_type": "code",
   "execution_count": 154,
   "metadata": {},
   "outputs": [
    {
     "data": {
      "text/html": [
       "<div>\n",
       "<style>\n",
       "    .dataframe thead tr:only-child th {\n",
       "        text-align: right;\n",
       "    }\n",
       "\n",
       "    .dataframe thead th {\n",
       "        text-align: left;\n",
       "    }\n",
       "\n",
       "    .dataframe tbody tr th {\n",
       "        vertical-align: top;\n",
       "    }\n",
       "</style>\n",
       "<table border=\"1\" class=\"dataframe\">\n",
       "  <thead>\n",
       "    <tr style=\"text-align: right;\">\n",
       "      <th></th>\n",
       "      <th>73</th>\n",
       "      <th>Not in universe</th>\n",
       "      <th>0</th>\n",
       "      <th>0.1</th>\n",
       "      <th>High school graduate</th>\n",
       "      <th>0.2</th>\n",
       "      <th>Not in universe.1</th>\n",
       "      <th>Widowed</th>\n",
       "      <th>Not in universe or children</th>\n",
       "      <th>Not in universe.2</th>\n",
       "      <th>...</th>\n",
       "      <th>United-States</th>\n",
       "      <th>United-States.1</th>\n",
       "      <th>United-States.2</th>\n",
       "      <th>Native- Born in the United States</th>\n",
       "      <th>0.7</th>\n",
       "      <th>Not in universe.8</th>\n",
       "      <th>2</th>\n",
       "      <th>0.8</th>\n",
       "      <th>95</th>\n",
       "      <th>- 50000.</th>\n",
       "    </tr>\n",
       "  </thead>\n",
       "  <tbody>\n",
       "    <tr>\n",
       "      <th>0</th>\n",
       "      <td>58</td>\n",
       "      <td>Self-employed-not incorporated</td>\n",
       "      <td>4</td>\n",
       "      <td>34</td>\n",
       "      <td>Some college but no degree</td>\n",
       "      <td>0</td>\n",
       "      <td>Not in universe</td>\n",
       "      <td>Divorced</td>\n",
       "      <td>Construction</td>\n",
       "      <td>Precision production craft &amp; repair</td>\n",
       "      <td>...</td>\n",
       "      <td>United-States</td>\n",
       "      <td>United-States</td>\n",
       "      <td>United-States</td>\n",
       "      <td>Native- Born in the United States</td>\n",
       "      <td>0</td>\n",
       "      <td>Not in universe</td>\n",
       "      <td>2</td>\n",
       "      <td>52</td>\n",
       "      <td>94</td>\n",
       "      <td>- 50000.</td>\n",
       "    </tr>\n",
       "    <tr>\n",
       "      <th>1</th>\n",
       "      <td>18</td>\n",
       "      <td>Not in universe</td>\n",
       "      <td>0</td>\n",
       "      <td>0</td>\n",
       "      <td>10th grade</td>\n",
       "      <td>0</td>\n",
       "      <td>High school</td>\n",
       "      <td>Never married</td>\n",
       "      <td>Not in universe or children</td>\n",
       "      <td>Not in universe</td>\n",
       "      <td>...</td>\n",
       "      <td>Vietnam</td>\n",
       "      <td>Vietnam</td>\n",
       "      <td>Vietnam</td>\n",
       "      <td>Foreign born- Not a citizen of U S</td>\n",
       "      <td>0</td>\n",
       "      <td>Not in universe</td>\n",
       "      <td>2</td>\n",
       "      <td>0</td>\n",
       "      <td>95</td>\n",
       "      <td>- 50000.</td>\n",
       "    </tr>\n",
       "    <tr>\n",
       "      <th>2</th>\n",
       "      <td>9</td>\n",
       "      <td>Not in universe</td>\n",
       "      <td>0</td>\n",
       "      <td>0</td>\n",
       "      <td>Children</td>\n",
       "      <td>0</td>\n",
       "      <td>Not in universe</td>\n",
       "      <td>Never married</td>\n",
       "      <td>Not in universe or children</td>\n",
       "      <td>Not in universe</td>\n",
       "      <td>...</td>\n",
       "      <td>United-States</td>\n",
       "      <td>United-States</td>\n",
       "      <td>United-States</td>\n",
       "      <td>Native- Born in the United States</td>\n",
       "      <td>0</td>\n",
       "      <td>Not in universe</td>\n",
       "      <td>0</td>\n",
       "      <td>0</td>\n",
       "      <td>94</td>\n",
       "      <td>- 50000.</td>\n",
       "    </tr>\n",
       "    <tr>\n",
       "      <th>3</th>\n",
       "      <td>10</td>\n",
       "      <td>Not in universe</td>\n",
       "      <td>0</td>\n",
       "      <td>0</td>\n",
       "      <td>Children</td>\n",
       "      <td>0</td>\n",
       "      <td>Not in universe</td>\n",
       "      <td>Never married</td>\n",
       "      <td>Not in universe or children</td>\n",
       "      <td>Not in universe</td>\n",
       "      <td>...</td>\n",
       "      <td>United-States</td>\n",
       "      <td>United-States</td>\n",
       "      <td>United-States</td>\n",
       "      <td>Native- Born in the United States</td>\n",
       "      <td>0</td>\n",
       "      <td>Not in universe</td>\n",
       "      <td>0</td>\n",
       "      <td>0</td>\n",
       "      <td>94</td>\n",
       "      <td>- 50000.</td>\n",
       "    </tr>\n",
       "    <tr>\n",
       "      <th>4</th>\n",
       "      <td>48</td>\n",
       "      <td>Private</td>\n",
       "      <td>40</td>\n",
       "      <td>10</td>\n",
       "      <td>Some college but no degree</td>\n",
       "      <td>1200</td>\n",
       "      <td>Not in universe</td>\n",
       "      <td>Married-civilian spouse present</td>\n",
       "      <td>Entertainment</td>\n",
       "      <td>Professional specialty</td>\n",
       "      <td>...</td>\n",
       "      <td>Philippines</td>\n",
       "      <td>United-States</td>\n",
       "      <td>United-States</td>\n",
       "      <td>Native- Born in the United States</td>\n",
       "      <td>2</td>\n",
       "      <td>Not in universe</td>\n",
       "      <td>2</td>\n",
       "      <td>52</td>\n",
       "      <td>95</td>\n",
       "      <td>- 50000.</td>\n",
       "    </tr>\n",
       "  </tbody>\n",
       "</table>\n",
       "<p>5 rows × 42 columns</p>\n",
       "</div>"
      ],
      "text/plain": [
       "   73                  Not in universe   0   0.1         High school graduate  \\\n",
       "0  58   Self-employed-not incorporated   4    34   Some college but no degree   \n",
       "1  18                  Not in universe   0     0                   10th grade   \n",
       "2   9                  Not in universe   0     0                     Children   \n",
       "3  10                  Not in universe   0     0                     Children   \n",
       "4  48                          Private  40    10   Some college but no degree   \n",
       "\n",
       "    0.2  Not in universe.1                           Widowed  \\\n",
       "0     0    Not in universe                          Divorced   \n",
       "1     0        High school                     Never married   \n",
       "2     0    Not in universe                     Never married   \n",
       "3     0    Not in universe                     Never married   \n",
       "4  1200    Not in universe   Married-civilian spouse present   \n",
       "\n",
       "    Not in universe or children                     Not in universe.2  \\\n",
       "0                  Construction   Precision production craft & repair   \n",
       "1   Not in universe or children                       Not in universe   \n",
       "2   Not in universe or children                       Not in universe   \n",
       "3   Not in universe or children                       Not in universe   \n",
       "4                 Entertainment                Professional specialty   \n",
       "\n",
       "     ...       United-States  United-States.1  United-States.2  \\\n",
       "0    ...       United-States    United-States    United-States   \n",
       "1    ...             Vietnam          Vietnam          Vietnam   \n",
       "2    ...       United-States    United-States    United-States   \n",
       "3    ...       United-States    United-States    United-States   \n",
       "4    ...         Philippines    United-States    United-States   \n",
       "\n",
       "      Native- Born in the United States  0.7  Not in universe.8   2   0.8  \\\n",
       "0     Native- Born in the United States    0    Not in universe   2    52   \n",
       "1   Foreign born- Not a citizen of U S     0    Not in universe   2     0   \n",
       "2     Native- Born in the United States    0    Not in universe   0     0   \n",
       "3     Native- Born in the United States    0    Not in universe   0     0   \n",
       "4     Native- Born in the United States    2    Not in universe   2    52   \n",
       "\n",
       "    95   - 50000.  \n",
       "0   94   - 50000.  \n",
       "1   95   - 50000.  \n",
       "2   94   - 50000.  \n",
       "3   94   - 50000.  \n",
       "4   95   - 50000.  \n",
       "\n",
       "[5 rows x 42 columns]"
      ]
     },
     "execution_count": 154,
     "metadata": {},
     "output_type": "execute_result"
    }
   ],
   "source": [
    "#view train set \n",
    "\n",
    "df.head()"
   ]
  },
  {
   "cell_type": "code",
   "execution_count": 155,
   "metadata": {},
   "outputs": [
    {
     "data": {
      "text/plain": [
       "73                                             int64\n",
       " Not in universe                              object\n",
       " 0                                             int64\n",
       " 0.1                                           int64\n",
       " High school graduate                         object\n",
       " 0.2                                           int64\n",
       " Not in universe.1                            object\n",
       " Widowed                                      object\n",
       " Not in universe or children                  object\n",
       " Not in universe.2                            object\n",
       " White                                        object\n",
       " All other                                    object\n",
       " Female                                       object\n",
       " Not in universe.3                            object\n",
       " Not in universe.4                            object\n",
       " Not in labor force                           object\n",
       " 0.3                                           int64\n",
       " 0.4                                           int64\n",
       " 0.5                                           int64\n",
       " Nonfiler                                     object\n",
       " Not in universe.5                            object\n",
       " Not in universe.6                            object\n",
       " Other Rel 18+ ever marr not in subfamily     object\n",
       " Other relative of householder                object\n",
       " 1700.09                                     float64\n",
       " ?                                            object\n",
       " ?.1                                          object\n",
       " ?.2                                          object\n",
       " Not in universe under 1 year old             object\n",
       " ?.3                                          object\n",
       " 0.6                                           int64\n",
       " Not in universe.7                            object\n",
       " United-States                                object\n",
       " United-States.1                              object\n",
       " United-States.2                              object\n",
       " Native- Born in the United States            object\n",
       " 0.7                                           int64\n",
       " Not in universe.8                            object\n",
       " 2                                             int64\n",
       " 0.8                                           int64\n",
       " 95                                            int64\n",
       " - 50000.                                     object\n",
       "dtype: object"
      ]
     },
     "execution_count": 155,
     "metadata": {},
     "output_type": "execute_result"
    }
   ],
   "source": [
    "#column types\n",
    "df.dtypes"
   ]
  },
  {
   "cell_type": "code",
   "execution_count": 156,
   "metadata": {},
   "outputs": [
    {
     "data": {
      "text/plain": [
       "(199522, 42)"
      ]
     },
     "execution_count": 156,
     "metadata": {},
     "output_type": "execute_result"
    }
   ],
   "source": [
    "#size of the dataset\n",
    "df.shape"
   ]
  },
  {
   "cell_type": "code",
   "execution_count": 157,
   "metadata": {},
   "outputs": [
    {
     "data": {
      "text/plain": [
       "Index([u'73', u' Not in universe', u' 0', u' 0.1', u' High school graduate',\n",
       "       u' 0.2', u' Not in universe.1', u' Widowed',\n",
       "       u' Not in universe or children', u' Not in universe.2', u' White',\n",
       "       u' All other', u' Female', u' Not in universe.3', u' Not in universe.4',\n",
       "       u' Not in labor force', u' 0.3', u' 0.4', u' 0.5', u' Nonfiler',\n",
       "       u' Not in universe.5', u' Not in universe.6',\n",
       "       u' Other Rel 18+ ever marr not in subfamily',\n",
       "       u' Other relative of householder', u' 1700.09', u' ?', u' ?.1', u' ?.2',\n",
       "       u' Not in universe under 1 year old', u' ?.3', u' 0.6',\n",
       "       u' Not in universe.7', u' United-States', u' United-States.1',\n",
       "       u' United-States.2', u' Native- Born in the United States', u' 0.7',\n",
       "       u' Not in universe.8', u' 2', u' 0.8', u' 95', u' - 50000.'],\n",
       "      dtype='object')"
      ]
     },
     "execution_count": 157,
     "metadata": {},
     "output_type": "execute_result"
    }
   ],
   "source": [
    "#looking at the column names: we have to rename them for interpretation\n",
    "df.columns"
   ]
  },
  {
   "cell_type": "code",
   "execution_count": 158,
   "metadata": {},
   "outputs": [
    {
     "data": {
      "text/plain": [
       "Index([u'73', u'Not in universe', u'0', u'01', u'High school graduate', u'02',\n",
       "       u'Not in universe1', u'Widowed', u'Not in universe or children',\n",
       "       u'Not in universe2', u'White', u'All other', u'Female',\n",
       "       u'Not in universe3', u'Not in universe4', u'Not in labor force', u'03',\n",
       "       u'04', u'05', u'Nonfiler', u'Not in universe5', u'Not in universe6',\n",
       "       u'Other Rel 18 ever marr not in subfamily',\n",
       "       u'Other relative of householder', u'170009', u'', u'1', u'2',\n",
       "       u'Not in universe under 1 year old', u'3', u'06', u'Not in universe7',\n",
       "       u'UnitedStates', u'UnitedStates1', u'UnitedStates2',\n",
       "       u'Native Born in the United States', u'07', u'Not in universe8', u'2',\n",
       "       u'08', u'95', u'50000'],\n",
       "      dtype='object')"
      ]
     },
     "execution_count": 158,
     "metadata": {},
     "output_type": "execute_result"
    }
   ],
   "source": [
    "#stripping punctuations from columns\n",
    "df.columns = df.columns.str.replace('[^\\w\\s]','')\n",
    "df.columns.str.strip()"
   ]
  },
  {
   "cell_type": "code",
   "execution_count": 159,
   "metadata": {
    "collapsed": true
   },
   "outputs": [],
   "source": [
    "#Rename the target variable \n",
    "\n",
    "df=df.rename(columns={ df.columns[41]: \"income\" })"
   ]
  },
  {
   "cell_type": "code",
   "execution_count": 160,
   "metadata": {},
   "outputs": [
    {
     "data": {
      "text/plain": [
       "array([' - 50000.', ' 50000+.'], dtype=object)"
      ]
     },
     "execution_count": 160,
     "metadata": {},
     "output_type": "execute_result"
    }
   ],
   "source": [
    "df['income'].unique()"
   ]
  },
  {
   "cell_type": "code",
   "execution_count": 161,
   "metadata": {
    "collapsed": true
   },
   "outputs": [],
   "source": [
    "#Renaming the column categories in train set\n",
    "# 0 is for income below 50,000 and 1 for income above 50,000 \n",
    "\n",
    "df['income'] = df['income'].replace([' - 50000.'], 0)\n",
    "\n",
    "df['income'] = df['income'].replace([' 50000+.'],  1)"
   ]
  },
  {
   "cell_type": "code",
   "execution_count": 162,
   "metadata": {
    "collapsed": true
   },
   "outputs": [],
   "source": [
    "# in the test set\n",
    "df1=df1.rename(columns={ df1.columns[41]: \"income\" })\n",
    "df1['income'] = df1['income'].replace([' - 50000.'], 0)\n",
    "df1['income'] = df1['income'].replace([' 50000+.'],  1)"
   ]
  },
  {
   "cell_type": "code",
   "execution_count": 163,
   "metadata": {},
   "outputs": [
    {
     "data": {
      "text/plain": [
       "0    0.937942\n",
       "1    0.062058\n",
       "Name: income, dtype: float64"
      ]
     },
     "execution_count": 163,
     "metadata": {},
     "output_type": "execute_result"
    }
   ],
   "source": [
    "#count of the people who are above and below 50,000\n",
    "#the target column is highly imbalanced\n",
    "\n",
    "income_rate = df.income.value_counts() / len(df)\n",
    "income_rate"
   ]
  },
  {
   "cell_type": "markdown",
   "metadata": {},
   "source": [
    "#as per the data dictionary\n",
    " #0 (age) continuous\n",
    "|    9 distinct values for attribute #1 (class of worker) nominal\n",
    "|   52 distinct values for attribute #2 (detailed industry recode) nominal\n",
    "|   47 distinct values for attribute #3 (detailed occupation recode) nominal\n",
    "|   17 distinct values for attribute #4 (education) nominal\n",
    "| 1240 distinct values for attribute #5 (wage per hour) continuous\n",
    "|    3 distinct values for attribute #6 (enroll in edu inst last wk) nominal\n",
    "|    7 distinct values for attribute #7 (marital stat) nominal\n",
    "|   24 distinct values for attribute #8 (major industry code) nominal\n",
    "|   15 distinct values for attribute #9 (major occupation code) nominal\n",
    "|    5 distinct values for attribute #10 (race) nominal\n",
    "|   10 distinct values for attribute #11 (hispanic origin) nominal\n",
    "|    2 distinct values for attribute #12 (sex) nominal\n",
    "|    3 distinct values for attribute #13 (member of a labor union) nominal\n",
    "|    6 distinct values for attribute #14 (reason for unemployment) nominal\n",
    "|    8 distinct values for attribute #15 (full or part time employment stat) nominal\n",
    "|  132 distinct values for attribute #16 (capital gains) continuous\n",
    "|  113 distinct values for attribute #17 (capital losses) continuous\n",
    "| 1478 distinct values for attribute #18 (dividends from stocks) continuous\n",
    "|    6 distinct values for attribute #19 (tax filer stat) nominal\n",
    "|    6 distinct values for attribute #20 (region of previous residence) nominal\n",
    "|   51 distinct values for attribute #21 (state of previous residence) nominal\n",
    "|   38 distinct values for attribute #22 (detailed household and family stat) nominal\n",
    "|    8 distinct values for attribute #23 (detailed household summary in household) nominal\n",
    "|   10 distinct values for attribute #24 (migration code-change in msa) nominal\n",
    "|    9 distinct values for attribute #25 (migration code-change in reg) nominal\n",
    "|   10 distinct values for attribute #26 (migration code-move within reg) nominal\n",
    "|    3 distinct values for attribute #27 (live in this house 1 year ago) nominal\n",
    "|    4 distinct values for attribute #28 (migration prev res in sunbelt) nominal\n",
    "|    7 distinct values for attribute #29 (num persons worked for employer) continuous\n",
    "|    5 distinct values for attribute #30 (family members under 18) nominal\n",
    "|   43 distinct values for attribute #31 (country of birth father) nominal\n",
    "|   43 distinct values for attribute #32 (country of birth mother) nominal\n",
    "|   43 distinct values for attribute #33 (country of birth self) nominal\n",
    "|    5 distinct values for attribute #34 (citizenship) nominal\n",
    "|    3 distinct values for attribute #35 (own business or self employed) nominal\n",
    "|    3 distinct values for attribute #36 (fill inc questionnaire for veteran's admin) nominal\n",
    "|    3 distinct values for attribute #37 (veterans benefits) nominal\n",
    "|   53 distinct values for attribute #38 (weeks worked in year) continuous\n",
    "|    2 distinct values for attribute #39 (year) nominal\n",
    "| "
   ]
  },
  {
   "cell_type": "code",
   "execution_count": 164,
   "metadata": {
    "collapsed": true
   },
   "outputs": [],
   "source": [
    "#renaming columns for readabilitiy\n",
    "df=df.rename(columns={ df.columns[0]: \"age\" })\n",
    "df=df.rename(columns={ df.columns[1]: \"class\" })\n",
    "df=df.rename(columns={ df.columns[2]: \"detail_industry\" })\n",
    "df=df.rename(columns={ df.columns[3]: \"detail_occupation\" })\n",
    "df=df.rename(columns={ df.columns[4]: \"education\" })\n",
    "df=df.rename(columns={ df.columns[5]: \"wage_hr\" })\n",
    "df=df.rename(columns={ df.columns[6]: \"enroll_inst_last_wk\" })\n",
    "df=df.rename(columns={ df.columns[7]: \"marital_Status\" })\n",
    "df=df.rename(columns={ df.columns[8]: \"major_industry\" })\n",
    "df=df.rename(columns={ df.columns[9]: \"major_occupation\" })\n",
    "df=df.rename(columns={ df.columns[10]: \"race\" })\n",
    "df=df.rename(columns={ df.columns[11]: \"origin\" })\n",
    "df=df.rename(columns={ df.columns[12]: \"sex\" })\n",
    "df=df.rename(columns={ df.columns[13]: \"mem_laborUnion\" })\n",
    "df=df.rename(columns={ df.columns[14]: \"reason_unemp\" })\n",
    "df=df.rename(columns={ df.columns[15]: \"emp_stat\" })\n",
    "df=df.rename(columns={ df.columns[16]: \"capgain\" })\n",
    "df=df.rename(columns={ df.columns[17]: \"caploss\" })\n",
    "df=df.rename(columns={ df.columns[18]: \"dividends\" })\n",
    "df=df.rename(columns={ df.columns[19]: \"tax_stat\" })\n",
    "df=df.rename(columns={ df.columns[20]: \"prev_region\" })\n",
    "df=df.rename(columns={ df.columns[21]: \"prev_state\" })\n",
    "df=df.rename(columns={ df.columns[22]: \"dfamily_stat\" })\n",
    "df=df.rename(columns={ df.columns[23]: \"shousehold_stat\" })\n",
    "df=df.rename(columns={ df.columns[24]: \"inst_weight\" })\n",
    "df=df.rename(columns={ df.columns[27]: \"mig_within_reg\" })\n",
    "df=df.rename(columns={ df.columns[25]: \"mig_msa\" })\n",
    "df=df.rename(columns={ df.columns[26]: \"mig_in_reg\" })\n",
    "df=df.rename(columns={ df.columns[28]: \"inHouse_oneyr\" })\n",
    "df=df.rename(columns={ df.columns[29]: \"mig_prev_sun\" })\n",
    "df=df.rename(columns={ df.columns[30]: \"num_emp_Empl\" })\n",
    "df=df.rename(columns={ df.columns[31]: \"fam_under_18\" })\n",
    "df=df.rename(columns={ df.columns[32]: \"father_birth\" })\n",
    "df=df.rename(columns={ df.columns[33]: \"mother_birth\" })\n",
    "df=df.rename(columns={ df.columns[34]: \"birth_country\" })\n",
    "df=df.rename(columns={ df.columns[35]: \"citizenship\" })\n",
    "df=df.rename(columns={ df.columns[36]: \"business_or_Selfemp\" })\n",
    "df=df.rename(columns={ df.columns[37]: \"veteran_ques\" })\n",
    "df=df.rename(columns={ df.columns[38]: \"veteran_benefits\" })\n",
    "df=df.rename(columns={ df.columns[39]: \"weeks_yr\" })\n",
    "df=df.rename(columns={ df.columns[40]: \"year\" })"
   ]
  },
  {
   "cell_type": "code",
   "execution_count": 165,
   "metadata": {
    "collapsed": true
   },
   "outputs": [],
   "source": [
    "#renaming test columns for readabilitiy\n",
    "df1=df1.rename(columns={ df1.columns[0]: \"age\" })\n",
    "df1=df1.rename(columns={ df1.columns[1]: \"class\" })\n",
    "df1=df1.rename(columns={ df1.columns[2]: \"detail_industry\" })\n",
    "df1=df1.rename(columns={ df1.columns[3]: \"detail_occupation\" })\n",
    "df1=df1.rename(columns={ df1.columns[4]: \"education\" })\n",
    "df1=df1.rename(columns={ df1.columns[5]: \"wage_hr\" })\n",
    "df1=df1.rename(columns={ df1.columns[6]: \"enroll_inst_last_wk\" })\n",
    "df1=df1.rename(columns={ df1.columns[7]: \"marital_Status\" })\n",
    "df1=df1.rename(columns={ df1.columns[8]: \"major_industry\" })\n",
    "df1=df1.rename(columns={ df1.columns[9]: \"major_occupation\" })\n",
    "df1=df1.rename(columns={ df1.columns[10]: \"race\" })\n",
    "df1=df1.rename(columns={ df1.columns[11]: \"origin\" })\n",
    "df1=df1.rename(columns={ df1.columns[12]: \"sex\" })\n",
    "df1=df1.rename(columns={ df1.columns[13]: \"mem_laborUnion\" })\n",
    "df1=df1.rename(columns={ df1.columns[14]: \"reason_unemp\" })\n",
    "df1=df1.rename(columns={ df1.columns[15]: \"emp_stat\" })\n",
    "df1=df1.rename(columns={ df1.columns[16]: \"capgain\" })\n",
    "df1=df1.rename(columns={ df1.columns[17]: \"caploss\" })\n",
    "df1=df1.rename(columns={ df1.columns[18]: \"dividends\" })\n",
    "df1=df1.rename(columns={ df1.columns[19]: \"tax_stat\" })\n",
    "df1=df1.rename(columns={ df1.columns[20]: \"prev_region\" })\n",
    "df1=df1.rename(columns={ df1.columns[21]: \"prev_state\" })\n",
    "df1=df1.rename(columns={ df1.columns[22]: \"dfamily_stat\" })\n",
    "df1=df1.rename(columns={ df1.columns[23]: \"shousehold_stat\" })\n",
    "df1=df1.rename(columns={ df1.columns[24]: \"inst_weight\" })\n",
    "df1=df1.rename(columns={ df1.columns[27]: \"mig_within_reg\" })\n",
    "df1=df1.rename(columns={ df1.columns[25]: \"mig_msa\" })\n",
    "df1=df1.rename(columns={ df1.columns[26]: \"mig_in_reg\" })\n",
    "df1=df1.rename(columns={ df1.columns[28]: \"inHouse_oneyr\" })\n",
    "df1=df1.rename(columns={ df1.columns[29]: \"mig_prev_sun\" })\n",
    "df1=df1.rename(columns={ df1.columns[30]: \"num_emp_Empl\" })\n",
    "df1=df1.rename(columns={ df1.columns[31]: \"fam_under_18\" })\n",
    "df1=df1.rename(columns={ df1.columns[32]: \"father_birth\" })\n",
    "df1=df1.rename(columns={ df1.columns[33]: \"mother_birth\" })\n",
    "df1=df1.rename(columns={ df1.columns[34]: \"birth_country\" })\n",
    "df1=df1.rename(columns={ df1.columns[35]: \"citizenship\" })\n",
    "df1=df1.rename(columns={ df1.columns[36]: \"business_or_Selfemp\" })\n",
    "df1=df1.rename(columns={ df1.columns[37]: \"veteran_ques\" })\n",
    "df1=df1.rename(columns={ df1.columns[38]: \"veteran_benefits\" })\n",
    "df1=df1.rename(columns={ df1.columns[39]: \"weeks_yr\" })\n",
    "df1=df1.rename(columns={ df1.columns[40]: \"year\" })"
   ]
  },
  {
   "cell_type": "code",
   "execution_count": 166,
   "metadata": {},
   "outputs": [
    {
     "data": {
      "text/html": [
       "<div>\n",
       "<style>\n",
       "    .dataframe thead tr:only-child th {\n",
       "        text-align: right;\n",
       "    }\n",
       "\n",
       "    .dataframe thead th {\n",
       "        text-align: left;\n",
       "    }\n",
       "\n",
       "    .dataframe tbody tr th {\n",
       "        vertical-align: top;\n",
       "    }\n",
       "</style>\n",
       "<table border=\"1\" class=\"dataframe\">\n",
       "  <thead>\n",
       "    <tr style=\"text-align: right;\">\n",
       "      <th></th>\n",
       "      <th>age</th>\n",
       "      <th>class</th>\n",
       "      <th>detail_industry</th>\n",
       "      <th>detail_occupation</th>\n",
       "      <th>education</th>\n",
       "      <th>wage_hr</th>\n",
       "      <th>enroll_inst_last_wk</th>\n",
       "      <th>marital_Status</th>\n",
       "      <th>major_industry</th>\n",
       "      <th>major_occupation</th>\n",
       "      <th>...</th>\n",
       "      <th>father_birth</th>\n",
       "      <th>mother_birth</th>\n",
       "      <th>birth_country</th>\n",
       "      <th>citizenship</th>\n",
       "      <th>business_or_Selfemp</th>\n",
       "      <th>veteran_ques</th>\n",
       "      <th>veteran_benefits</th>\n",
       "      <th>weeks_yr</th>\n",
       "      <th>year</th>\n",
       "      <th>income</th>\n",
       "    </tr>\n",
       "  </thead>\n",
       "  <tbody>\n",
       "    <tr>\n",
       "      <th>0</th>\n",
       "      <td>44</td>\n",
       "      <td>Self-employed-not incorporated</td>\n",
       "      <td>37</td>\n",
       "      <td>12</td>\n",
       "      <td>Associates degree-occup /vocational</td>\n",
       "      <td>0</td>\n",
       "      <td>Not in universe</td>\n",
       "      <td>Married-civilian spouse present</td>\n",
       "      <td>Business and repair services</td>\n",
       "      <td>Professional specialty</td>\n",
       "      <td>...</td>\n",
       "      <td>United-States</td>\n",
       "      <td>United-States</td>\n",
       "      <td>United-States</td>\n",
       "      <td>Native- Born in the United States</td>\n",
       "      <td>0</td>\n",
       "      <td>Not in universe</td>\n",
       "      <td>2</td>\n",
       "      <td>26</td>\n",
       "      <td>95</td>\n",
       "      <td>0</td>\n",
       "    </tr>\n",
       "    <tr>\n",
       "      <th>1</th>\n",
       "      <td>2</td>\n",
       "      <td>Not in universe</td>\n",
       "      <td>0</td>\n",
       "      <td>0</td>\n",
       "      <td>Children</td>\n",
       "      <td>0</td>\n",
       "      <td>Not in universe</td>\n",
       "      <td>Never married</td>\n",
       "      <td>Not in universe or children</td>\n",
       "      <td>Not in universe</td>\n",
       "      <td>...</td>\n",
       "      <td>United-States</td>\n",
       "      <td>United-States</td>\n",
       "      <td>United-States</td>\n",
       "      <td>Native- Born in the United States</td>\n",
       "      <td>0</td>\n",
       "      <td>Not in universe</td>\n",
       "      <td>0</td>\n",
       "      <td>0</td>\n",
       "      <td>95</td>\n",
       "      <td>0</td>\n",
       "    </tr>\n",
       "    <tr>\n",
       "      <th>2</th>\n",
       "      <td>35</td>\n",
       "      <td>Private</td>\n",
       "      <td>29</td>\n",
       "      <td>3</td>\n",
       "      <td>High school graduate</td>\n",
       "      <td>0</td>\n",
       "      <td>Not in universe</td>\n",
       "      <td>Divorced</td>\n",
       "      <td>Transportation</td>\n",
       "      <td>Executive admin and managerial</td>\n",
       "      <td>...</td>\n",
       "      <td>United-States</td>\n",
       "      <td>United-States</td>\n",
       "      <td>United-States</td>\n",
       "      <td>Native- Born in the United States</td>\n",
       "      <td>2</td>\n",
       "      <td>Not in universe</td>\n",
       "      <td>2</td>\n",
       "      <td>52</td>\n",
       "      <td>94</td>\n",
       "      <td>0</td>\n",
       "    </tr>\n",
       "    <tr>\n",
       "      <th>3</th>\n",
       "      <td>49</td>\n",
       "      <td>Private</td>\n",
       "      <td>4</td>\n",
       "      <td>34</td>\n",
       "      <td>High school graduate</td>\n",
       "      <td>0</td>\n",
       "      <td>Not in universe</td>\n",
       "      <td>Divorced</td>\n",
       "      <td>Construction</td>\n",
       "      <td>Precision production craft &amp; repair</td>\n",
       "      <td>...</td>\n",
       "      <td>United-States</td>\n",
       "      <td>United-States</td>\n",
       "      <td>United-States</td>\n",
       "      <td>Native- Born in the United States</td>\n",
       "      <td>0</td>\n",
       "      <td>Not in universe</td>\n",
       "      <td>2</td>\n",
       "      <td>50</td>\n",
       "      <td>95</td>\n",
       "      <td>0</td>\n",
       "    </tr>\n",
       "    <tr>\n",
       "      <th>4</th>\n",
       "      <td>13</td>\n",
       "      <td>Not in universe</td>\n",
       "      <td>0</td>\n",
       "      <td>0</td>\n",
       "      <td>Children</td>\n",
       "      <td>0</td>\n",
       "      <td>Not in universe</td>\n",
       "      <td>Never married</td>\n",
       "      <td>Not in universe or children</td>\n",
       "      <td>Not in universe</td>\n",
       "      <td>...</td>\n",
       "      <td>Germany</td>\n",
       "      <td>United-States</td>\n",
       "      <td>United-States</td>\n",
       "      <td>Native- Born in the United States</td>\n",
       "      <td>0</td>\n",
       "      <td>Not in universe</td>\n",
       "      <td>0</td>\n",
       "      <td>0</td>\n",
       "      <td>94</td>\n",
       "      <td>0</td>\n",
       "    </tr>\n",
       "  </tbody>\n",
       "</table>\n",
       "<p>5 rows × 42 columns</p>\n",
       "</div>"
      ],
      "text/plain": [
       "   age                            class  detail_industry  detail_occupation  \\\n",
       "0   44   Self-employed-not incorporated               37                 12   \n",
       "1    2                  Not in universe                0                  0   \n",
       "2   35                          Private               29                  3   \n",
       "3   49                          Private                4                 34   \n",
       "4   13                  Not in universe                0                  0   \n",
       "\n",
       "                              education  wage_hr enroll_inst_last_wk  \\\n",
       "0   Associates degree-occup /vocational        0     Not in universe   \n",
       "1                              Children        0     Not in universe   \n",
       "2                  High school graduate        0     Not in universe   \n",
       "3                  High school graduate        0     Not in universe   \n",
       "4                              Children        0     Not in universe   \n",
       "\n",
       "                     marital_Status                 major_industry  \\\n",
       "0   Married-civilian spouse present   Business and repair services   \n",
       "1                     Never married    Not in universe or children   \n",
       "2                          Divorced                 Transportation   \n",
       "3                          Divorced                   Construction   \n",
       "4                     Never married    Not in universe or children   \n",
       "\n",
       "                       major_occupation  ...      father_birth  \\\n",
       "0                Professional specialty  ...     United-States   \n",
       "1                       Not in universe  ...     United-States   \n",
       "2        Executive admin and managerial  ...     United-States   \n",
       "3   Precision production craft & repair  ...     United-States   \n",
       "4                       Not in universe  ...           Germany   \n",
       "\n",
       "     mother_birth   birth_country                         citizenship  \\\n",
       "0   United-States   United-States   Native- Born in the United States   \n",
       "1   United-States   United-States   Native- Born in the United States   \n",
       "2   United-States   United-States   Native- Born in the United States   \n",
       "3   United-States   United-States   Native- Born in the United States   \n",
       "4   United-States   United-States   Native- Born in the United States   \n",
       "\n",
       "  business_or_Selfemp      veteran_ques  veteran_benefits  weeks_yr  year  \\\n",
       "0                   0   Not in universe                 2        26    95   \n",
       "1                   0   Not in universe                 0         0    95   \n",
       "2                   2   Not in universe                 2        52    94   \n",
       "3                   0   Not in universe                 2        50    95   \n",
       "4                   0   Not in universe                 0         0    94   \n",
       "\n",
       "  income  \n",
       "0      0  \n",
       "1      0  \n",
       "2      0  \n",
       "3      0  \n",
       "4      0  \n",
       "\n",
       "[5 rows x 42 columns]"
      ]
     },
     "execution_count": 166,
     "metadata": {},
     "output_type": "execute_result"
    }
   ],
   "source": [
    "#with columns renamed test set\n",
    "df1.head()"
   ]
  },
  {
   "cell_type": "code",
   "execution_count": 167,
   "metadata": {},
   "outputs": [
    {
     "data": {
      "image/png": "[encoded data removed]",
      "text/plain": [
       "<matplotlib.figure.Figure at 0x7f8b67321590>"
      ]
     },
     "metadata": {},
     "output_type": "display_data"
    }
   ],
   "source": [
    "#correlation matrix\n",
    "\n",
    "plt.figure(figsize=(15,10))\n",
    "sns.heatmap(df.drop(['income'],axis=1).corr(),annot=True) #draws  heatmap with input as the correlation matrix calculted by(iris.corr())\n",
    "plt.show()\n",
    "#detail_industry predictor shows strong correlations with other predictors (weeks_yr, num_emp_Empl)\n"
   ]
  },
  {
   "cell_type": "code",
   "execution_count": 168,
   "metadata": {},
   "outputs": [
    {
     "data": {
      "text/html": [
       "<div>\n",
       "<style>\n",
       "    .dataframe thead tr:only-child th {\n",
       "        text-align: right;\n",
       "    }\n",
       "\n",
       "    .dataframe thead th {\n",
       "        text-align: left;\n",
       "    }\n",
       "\n",
       "    .dataframe tbody tr th {\n",
       "        vertical-align: top;\n",
       "    }\n",
       "</style>\n",
       "<table border=\"1\" class=\"dataframe\">\n",
       "  <thead>\n",
       "    <tr style=\"text-align: right;\">\n",
       "      <th></th>\n",
       "      <th>age</th>\n",
       "      <th>detail_industry</th>\n",
       "      <th>detail_occupation</th>\n",
       "      <th>wage_hr</th>\n",
       "      <th>capgain</th>\n",
       "      <th>caploss</th>\n",
       "      <th>dividends</th>\n",
       "      <th>inst_weight</th>\n",
       "      <th>num_emp_Empl</th>\n",
       "      <th>business_or_Selfemp</th>\n",
       "      <th>veteran_benefits</th>\n",
       "      <th>weeks_yr</th>\n",
       "      <th>year</th>\n",
       "      <th>income</th>\n",
       "    </tr>\n",
       "  </thead>\n",
       "  <tbody>\n",
       "    <tr>\n",
       "      <th>age</th>\n",
       "      <td>1.000000</td>\n",
       "      <td>0.157831</td>\n",
       "      <td>0.117422</td>\n",
       "      <td>0.036940</td>\n",
       "      <td>0.053592</td>\n",
       "      <td>0.063353</td>\n",
       "      <td>0.104978</td>\n",
       "      <td>-0.001610</td>\n",
       "      <td>0.140895</td>\n",
       "      <td>-0.002263</td>\n",
       "      <td>0.674845</td>\n",
       "      <td>0.206191</td>\n",
       "      <td>0.004405</td>\n",
       "      <td>0.135724</td>\n",
       "    </tr>\n",
       "    <tr>\n",
       "      <th>detail_industry</th>\n",
       "      <td>0.157831</td>\n",
       "      <td>1.000000</td>\n",
       "      <td>0.563491</td>\n",
       "      <td>0.165979</td>\n",
       "      <td>0.066016</td>\n",
       "      <td>0.072586</td>\n",
       "      <td>0.012773</td>\n",
       "      <td>0.029388</td>\n",
       "      <td>0.642095</td>\n",
       "      <td>0.252693</td>\n",
       "      <td>0.476479</td>\n",
       "      <td>0.754471</td>\n",
       "      <td>0.003434</td>\n",
       "      <td>0.196189</td>\n",
       "    </tr>\n",
       "    <tr>\n",
       "      <th>detail_occupation</th>\n",
       "      <td>0.117422</td>\n",
       "      <td>0.563491</td>\n",
       "      <td>1.000000</td>\n",
       "      <td>0.194498</td>\n",
       "      <td>0.002534</td>\n",
       "      <td>0.043680</td>\n",
       "      <td>-0.026727</td>\n",
       "      <td>0.027047</td>\n",
       "      <td>0.515552</td>\n",
       "      <td>0.228951</td>\n",
       "      <td>0.438683</td>\n",
       "      <td>0.655612</td>\n",
       "      <td>-0.003136</td>\n",
       "      <td>0.013413</td>\n",
       "    </tr>\n",
       "    <tr>\n",
       "      <th>wage_hr</th>\n",
       "      <td>0.036940</td>\n",
       "      <td>0.165979</td>\n",
       "      <td>0.194498</td>\n",
       "      <td>1.000000</td>\n",
       "      <td>-0.001082</td>\n",
       "      <td>0.010993</td>\n",
       "      <td>-0.005731</td>\n",
       "      <td>0.012353</td>\n",
       "      <td>0.191542</td>\n",
       "      <td>0.054051</td>\n",
       "      <td>0.113095</td>\n",
       "      <td>0.195687</td>\n",
       "      <td>0.002284</td>\n",
       "      <td>0.024528</td>\n",
       "    </tr>\n",
       "    <tr>\n",
       "      <th>capgain</th>\n",
       "      <td>0.053592</td>\n",
       "      <td>0.066016</td>\n",
       "      <td>0.002534</td>\n",
       "      <td>-0.001082</td>\n",
       "      <td>1.000000</td>\n",
       "      <td>-0.012700</td>\n",
       "      <td>0.131476</td>\n",
       "      <td>0.002549</td>\n",
       "      <td>0.058015</td>\n",
       "      <td>0.015048</td>\n",
       "      <td>0.051530</td>\n",
       "      <td>0.083549</td>\n",
       "      <td>0.005244</td>\n",
       "      <td>0.240725</td>\n",
       "    </tr>\n",
       "    <tr>\n",
       "      <th>caploss</th>\n",
       "      <td>0.063353</td>\n",
       "      <td>0.072586</td>\n",
       "      <td>0.043680</td>\n",
       "      <td>0.010993</td>\n",
       "      <td>-0.012700</td>\n",
       "      <td>1.000000</td>\n",
       "      <td>0.042427</td>\n",
       "      <td>0.008052</td>\n",
       "      <td>0.084255</td>\n",
       "      <td>0.024115</td>\n",
       "      <td>0.075392</td>\n",
       "      <td>0.100761</td>\n",
       "      <td>0.000096</td>\n",
       "      <td>0.147417</td>\n",
       "    </tr>\n",
       "    <tr>\n",
       "      <th>dividends</th>\n",
       "      <td>0.104978</td>\n",
       "      <td>0.012773</td>\n",
       "      <td>-0.026727</td>\n",
       "      <td>-0.005731</td>\n",
       "      <td>0.131476</td>\n",
       "      <td>0.042427</td>\n",
       "      <td>1.000000</td>\n",
       "      <td>-0.000009</td>\n",
       "      <td>0.007206</td>\n",
       "      <td>-0.004885</td>\n",
       "      <td>0.054585</td>\n",
       "      <td>0.013823</td>\n",
       "      <td>0.001913</td>\n",
       "      <td>0.175779</td>\n",
       "    </tr>\n",
       "    <tr>\n",
       "      <th>inst_weight</th>\n",
       "      <td>-0.001610</td>\n",
       "      <td>0.029388</td>\n",
       "      <td>0.027047</td>\n",
       "      <td>0.012353</td>\n",
       "      <td>0.002549</td>\n",
       "      <td>0.008052</td>\n",
       "      <td>-0.000009</td>\n",
       "      <td>1.000000</td>\n",
       "      <td>0.042778</td>\n",
       "      <td>0.012328</td>\n",
       "      <td>0.040507</td>\n",
       "      <td>0.029240</td>\n",
       "      <td>0.011765</td>\n",
       "      <td>0.014463</td>\n",
       "    </tr>\n",
       "    <tr>\n",
       "      <th>num_emp_Empl</th>\n",
       "      <td>0.140895</td>\n",
       "      <td>0.642095</td>\n",
       "      <td>0.515552</td>\n",
       "      <td>0.191542</td>\n",
       "      <td>0.058015</td>\n",
       "      <td>0.084255</td>\n",
       "      <td>0.007206</td>\n",
       "      <td>0.042778</td>\n",
       "      <td>1.000000</td>\n",
       "      <td>0.240552</td>\n",
       "      <td>0.463337</td>\n",
       "      <td>0.747301</td>\n",
       "      <td>0.018778</td>\n",
       "      <td>0.222683</td>\n",
       "    </tr>\n",
       "    <tr>\n",
       "      <th>business_or_Selfemp</th>\n",
       "      <td>-0.002263</td>\n",
       "      <td>0.252693</td>\n",
       "      <td>0.228951</td>\n",
       "      <td>0.054051</td>\n",
       "      <td>0.015048</td>\n",
       "      <td>0.024115</td>\n",
       "      <td>-0.004885</td>\n",
       "      <td>0.012328</td>\n",
       "      <td>0.240552</td>\n",
       "      <td>1.000000</td>\n",
       "      <td>0.177449</td>\n",
       "      <td>0.265871</td>\n",
       "      <td>0.007379</td>\n",
       "      <td>0.040472</td>\n",
       "    </tr>\n",
       "    <tr>\n",
       "      <th>veteran_benefits</th>\n",
       "      <td>0.674845</td>\n",
       "      <td>0.476479</td>\n",
       "      <td>0.438683</td>\n",
       "      <td>0.113095</td>\n",
       "      <td>0.051530</td>\n",
       "      <td>0.075392</td>\n",
       "      <td>0.054585</td>\n",
       "      <td>0.040507</td>\n",
       "      <td>0.463337</td>\n",
       "      <td>0.177449</td>\n",
       "      <td>1.000000</td>\n",
       "      <td>0.532284</td>\n",
       "      <td>0.003119</td>\n",
       "      <td>0.140931</td>\n",
       "    </tr>\n",
       "    <tr>\n",
       "      <th>weeks_yr</th>\n",
       "      <td>0.206191</td>\n",
       "      <td>0.754471</td>\n",
       "      <td>0.655612</td>\n",
       "      <td>0.195687</td>\n",
       "      <td>0.083549</td>\n",
       "      <td>0.100761</td>\n",
       "      <td>0.013823</td>\n",
       "      <td>0.029240</td>\n",
       "      <td>0.747301</td>\n",
       "      <td>0.265871</td>\n",
       "      <td>0.532284</td>\n",
       "      <td>1.000000</td>\n",
       "      <td>0.005257</td>\n",
       "      <td>0.262316</td>\n",
       "    </tr>\n",
       "    <tr>\n",
       "      <th>year</th>\n",
       "      <td>0.004405</td>\n",
       "      <td>0.003434</td>\n",
       "      <td>-0.003136</td>\n",
       "      <td>0.002284</td>\n",
       "      <td>0.005244</td>\n",
       "      <td>0.000096</td>\n",
       "      <td>0.001913</td>\n",
       "      <td>0.011765</td>\n",
       "      <td>0.018778</td>\n",
       "      <td>0.007379</td>\n",
       "      <td>0.003119</td>\n",
       "      <td>0.005257</td>\n",
       "      <td>1.000000</td>\n",
       "      <td>0.014795</td>\n",
       "    </tr>\n",
       "    <tr>\n",
       "      <th>income</th>\n",
       "      <td>0.135724</td>\n",
       "      <td>0.196189</td>\n",
       "      <td>0.013413</td>\n",
       "      <td>0.024528</td>\n",
       "      <td>0.240725</td>\n",
       "      <td>0.147417</td>\n",
       "      <td>0.175779</td>\n",
       "      <td>0.014463</td>\n",
       "      <td>0.222683</td>\n",
       "      <td>0.040472</td>\n",
       "      <td>0.140931</td>\n",
       "      <td>0.262316</td>\n",
       "      <td>0.014795</td>\n",
       "      <td>1.000000</td>\n",
       "    </tr>\n",
       "  </tbody>\n",
       "</table>\n",
       "</div>"
      ],
      "text/plain": [
       "                          age  detail_industry  detail_occupation   wage_hr  \\\n",
       "age                  1.000000         0.157831           0.117422  0.036940   \n",
       "detail_industry      0.157831         1.000000           0.563491  0.165979   \n",
       "detail_occupation    0.117422         0.563491           1.000000  0.194498   \n",
       "wage_hr              0.036940         0.165979           0.194498  1.000000   \n",
       "capgain              0.053592         0.066016           0.002534 -0.001082   \n",
       "caploss              0.063353         0.072586           0.043680  0.010993   \n",
       "dividends            0.104978         0.012773          -0.026727 -0.005731   \n",
       "inst_weight         -0.001610         0.029388           0.027047  0.012353   \n",
       "num_emp_Empl         0.140895         0.642095           0.515552  0.191542   \n",
       "business_or_Selfemp -0.002263         0.252693           0.228951  0.054051   \n",
       "veteran_benefits     0.674845         0.476479           0.438683  0.113095   \n",
       "weeks_yr             0.206191         0.754471           0.655612  0.195687   \n",
       "year                 0.004405         0.003434          -0.003136  0.002284   \n",
       "income               0.135724         0.196189           0.013413  0.024528   \n",
       "\n",
       "                      capgain   caploss  dividends  inst_weight  num_emp_Empl  \\\n",
       "age                  0.053592  0.063353   0.104978    -0.001610      0.140895   \n",
       "detail_industry      0.066016  0.072586   0.012773     0.029388      0.642095   \n",
       "detail_occupation    0.002534  0.043680  -0.026727     0.027047      0.515552   \n",
       "wage_hr             -0.001082  0.010993  -0.005731     0.012353      0.191542   \n",
       "capgain              1.000000 -0.012700   0.131476     0.002549      0.058015   \n",
       "caploss             -0.012700  1.000000   0.042427     0.008052      0.084255   \n",
       "dividends            0.131476  0.042427   1.000000    -0.000009      0.007206   \n",
       "inst_weight          0.002549  0.008052  -0.000009     1.000000      0.042778   \n",
       "num_emp_Empl         0.058015  0.084255   0.007206     0.042778      1.000000   \n",
       "business_or_Selfemp  0.015048  0.024115  -0.004885     0.012328      0.240552   \n",
       "veteran_benefits     0.051530  0.075392   0.054585     0.040507      0.463337   \n",
       "weeks_yr             0.083549  0.100761   0.013823     0.029240      0.747301   \n",
       "year                 0.005244  0.000096   0.001913     0.011765      0.018778   \n",
       "income               0.240725  0.147417   0.175779     0.014463      0.222683   \n",
       "\n",
       "                     business_or_Selfemp  veteran_benefits  weeks_yr  \\\n",
       "age                            -0.002263          0.674845  0.206191   \n",
       "detail_industry                 0.252693          0.476479  0.754471   \n",
       "detail_occupation               0.228951          0.438683  0.655612   \n",
       "wage_hr                         0.054051          0.113095  0.195687   \n",
       "capgain                         0.015048          0.051530  0.083549   \n",
       "caploss                         0.024115          0.075392  0.100761   \n",
       "dividends                      -0.004885          0.054585  0.013823   \n",
       "inst_weight                     0.012328          0.040507  0.029240   \n",
       "num_emp_Empl                    0.240552          0.463337  0.747301   \n",
       "business_or_Selfemp             1.000000          0.177449  0.265871   \n",
       "veteran_benefits                0.177449          1.000000  0.532284   \n",
       "weeks_yr                        0.265871          0.532284  1.000000   \n",
       "year                            0.007379          0.003119  0.005257   \n",
       "income                          0.040472          0.140931  0.262316   \n",
       "\n",
       "                         year    income  \n",
       "age                  0.004405  0.135724  \n",
       "detail_industry      0.003434  0.196189  \n",
       "detail_occupation   -0.003136  0.013413  \n",
       "wage_hr              0.002284  0.024528  \n",
       "capgain              0.005244  0.240725  \n",
       "caploss              0.000096  0.147417  \n",
       "dividends            0.001913  0.175779  \n",
       "inst_weight          0.011765  0.014463  \n",
       "num_emp_Empl         0.018778  0.222683  \n",
       "business_or_Selfemp  0.007379  0.040472  \n",
       "veteran_benefits     0.003119  0.140931  \n",
       "weeks_yr             0.005257  0.262316  \n",
       "year                 1.000000  0.014795  \n",
       "income               0.014795  1.000000  "
      ]
     },
     "execution_count": 168,
     "metadata": {},
     "output_type": "execute_result"
    },
    {
     "data": {
      "image/png": "[encoded data removed]",
      "text/plain": [
       "<matplotlib.figure.Figure at 0x7f8b6754ed90>"
      ]
     },
     "metadata": {},
     "output_type": "display_data"
    }
   ],
   "source": [
    "#Correlation Matrix for understanding the correlations with 'income'\n",
    "\n",
    "corr = df.corr()\n",
    "corr = (corr)\n",
    "sns.heatmap(corr, \n",
    "            xticklabels=corr.columns.values,\n",
    "            yticklabels=corr.columns.values)\n",
    "\n",
    "corr\n",
    "\n",
    "#detail_industry, num_emp_Emp, weeks_yr,capgain have a correlation comparable with respect to others"
   ]
  },
  {
   "cell_type": "code",
   "execution_count": 169,
   "metadata": {},
   "outputs": [
    {
     "data": {
      "text/html": [
       "<div>\n",
       "<style>\n",
       "    .dataframe thead tr:only-child th {\n",
       "        text-align: right;\n",
       "    }\n",
       "\n",
       "    .dataframe thead th {\n",
       "        text-align: left;\n",
       "    }\n",
       "\n",
       "    .dataframe tbody tr th {\n",
       "        vertical-align: top;\n",
       "    }\n",
       "</style>\n",
       "<table border=\"1\" class=\"dataframe\">\n",
       "  <thead>\n",
       "    <tr style=\"text-align: right;\">\n",
       "      <th></th>\n",
       "      <th>age</th>\n",
       "      <th>detail_industry</th>\n",
       "      <th>detail_occupation</th>\n",
       "      <th>wage_hr</th>\n",
       "      <th>capgain</th>\n",
       "      <th>caploss</th>\n",
       "      <th>dividends</th>\n",
       "      <th>inst_weight</th>\n",
       "      <th>num_emp_Empl</th>\n",
       "      <th>business_or_Selfemp</th>\n",
       "      <th>veteran_benefits</th>\n",
       "      <th>weeks_yr</th>\n",
       "      <th>year</th>\n",
       "    </tr>\n",
       "    <tr>\n",
       "      <th>income</th>\n",
       "      <th></th>\n",
       "      <th></th>\n",
       "      <th></th>\n",
       "      <th></th>\n",
       "      <th></th>\n",
       "      <th></th>\n",
       "      <th></th>\n",
       "      <th></th>\n",
       "      <th></th>\n",
       "      <th></th>\n",
       "      <th></th>\n",
       "      <th></th>\n",
       "      <th></th>\n",
       "    </tr>\n",
       "  </thead>\n",
       "  <tbody>\n",
       "    <tr>\n",
       "      <th>0</th>\n",
       "      <td>33.715106</td>\n",
       "      <td>14.440649</td>\n",
       "      <td>11.256744</td>\n",
       "      <td>53.692813</td>\n",
       "      <td>143.848782</td>\n",
       "      <td>27.003874</td>\n",
       "      <td>107.817094</td>\n",
       "      <td>1736.683484</td>\n",
       "      <td>1.820717</td>\n",
       "      <td>0.169675</td>\n",
       "      <td>1.483964</td>\n",
       "      <td>21.527878</td>\n",
       "      <td>94.497766</td>\n",
       "    </tr>\n",
       "    <tr>\n",
       "      <th>1</th>\n",
       "      <td>46.266193</td>\n",
       "      <td>29.132450</td>\n",
       "      <td>12.060330</td>\n",
       "      <td>81.640284</td>\n",
       "      <td>4830.930060</td>\n",
       "      <td>193.139557</td>\n",
       "      <td>1553.448070</td>\n",
       "      <td>1796.256279</td>\n",
       "      <td>4.003715</td>\n",
       "      <td>0.262559</td>\n",
       "      <td>1.981344</td>\n",
       "      <td>48.069617</td>\n",
       "      <td>94.528428</td>\n",
       "    </tr>\n",
       "  </tbody>\n",
       "</table>\n",
       "</div>"
      ],
      "text/plain": [
       "              age  detail_industry  detail_occupation    wage_hr      capgain  \\\n",
       "income                                                                          \n",
       "0       33.715106        14.440649          11.256744  53.692813   143.848782   \n",
       "1       46.266193        29.132450          12.060330  81.640284  4830.930060   \n",
       "\n",
       "           caploss    dividends  inst_weight  num_emp_Empl  \\\n",
       "income                                                       \n",
       "0        27.003874   107.817094  1736.683484      1.820717   \n",
       "1       193.139557  1553.448070  1796.256279      4.003715   \n",
       "\n",
       "        business_or_Selfemp  veteran_benefits   weeks_yr       year  \n",
       "income                                                               \n",
       "0                  0.169675          1.483964  21.527878  94.497766  \n",
       "1                  0.262559          1.981344  48.069617  94.528428  "
      ]
     },
     "execution_count": 169,
     "metadata": {},
     "output_type": "execute_result"
    }
   ],
   "source": [
    "# Overview of summary (above 50,000  V.S. below 50,000)\n",
    "income_Summary = df.groupby('income')\n",
    "income_Summary.mean()\n",
    "\n",
    "#average stats for person earning above and below 50,000\n",
    "\n",
    "#for a person who earns below 50,0000\n",
    "#average stats \n",
    "#age: 33.71 years wage_hr:53.69 capgain: 143.84 caploss:27.00 dividends: 107.817, weeks_yr=21.52\n",
    "\n",
    "\n",
    "#for a person who earns above 50,000 \n",
    "#average\n",
    "#age: 46.26 yrs #wage_hr: 81.64 #weeks_yr: 48.06 "
   ]
  },
  {
   "cell_type": "code",
   "execution_count": 170,
   "metadata": {},
   "outputs": [
    {
     "data": {
      "text/plain": [
       "count    199522.000000\n",
       "mean         34.494006\n",
       "std          22.310785\n",
       "min           0.000000\n",
       "25%          15.000000\n",
       "50%          33.000000\n",
       "75%          50.000000\n",
       "max          90.000000\n",
       "Name: age, dtype: float64"
      ]
     },
     "execution_count": 170,
     "metadata": {},
     "output_type": "execute_result"
    }
   ],
   "source": [
    "#exploring some continuous predictors \n",
    "#1. age\n",
    "# mean age of the population is 34.49 yrs and maximum age is 90 this can be used to calculate the IQR and outlier detection process if any\n",
    "\n",
    "df['age'].describe()\n"
   ]
  },
  {
   "cell_type": "code",
   "execution_count": 171,
   "metadata": {},
   "outputs": [
    {
     "data": {
      "text/plain": [
       "[]"
      ]
     },
     "execution_count": 171,
     "metadata": {},
     "output_type": "execute_result"
    },
    {
     "data": {
      "image/png": "[encoded data removed]",
      "text/plain": [
       "<matplotlib.figure.Figure at 0x7f8b67200090>"
      ]
     },
     "metadata": {},
     "output_type": "display_data"
    }
   ],
   "source": [
    "#box plot can be used to detect outliers # we cant find any with respect to age\n",
    "plt.boxplot(df.age)\n",
    "plt.plot()"
   ]
  },
  {
   "cell_type": "code",
   "execution_count": 172,
   "metadata": {
    "collapsed": true
   },
   "outputs": [],
   "source": [
    "#just making sure to validate our plot with calculation for detecting outliers with std deviations\n",
    "\n",
    "df=df[np.abs(df.age-df.age.mean())<=(3*df.age.std())] #keep only the ones that are within +3 to -3 standard deviations in the column 'Data'.\n",
    "\n",
    "#including only finite values for age\n",
    "\n",
    "df = df[np.isfinite(df['age'])]"
   ]
  },
  {
   "cell_type": "code",
   "execution_count": 173,
   "metadata": {},
   "outputs": [
    {
     "data": {
      "text/plain": [
       "[]"
      ]
     },
     "execution_count": 173,
     "metadata": {},
     "output_type": "execute_result"
    },
    {
     "data": {
      "image/png": "[encoded data removed]",
      "text/plain": [
       "<matplotlib.figure.Figure at 0x7f8b675b8e90>"
      ]
     },
     "metadata": {},
     "output_type": "display_data"
    }
   ],
   "source": [
    "#2.Exploring wages per hour variable\n",
    "#evidence of outliers\n",
    "plt.boxplot(df.wage_hr)\n",
    "plt.plot()"
   ]
  },
  {
   "cell_type": "code",
   "execution_count": 174,
   "metadata": {},
   "outputs": [
    {
     "data": {
      "text/plain": [
       "count    199522.000000\n",
       "mean         55.427186\n",
       "std         274.897115\n",
       "min           0.000000\n",
       "25%           0.000000\n",
       "50%           0.000000\n",
       "75%           0.000000\n",
       "max        9999.000000\n",
       "Name: wage_hr, dtype: float64"
      ]
     },
     "execution_count": 174,
     "metadata": {},
     "output_type": "execute_result"
    }
   ],
   "source": [
    "#stats\n",
    "\n",
    "df['wage_hr'].describe()"
   ]
  },
  {
   "cell_type": "code",
   "execution_count": 175,
   "metadata": {
    "collapsed": true
   },
   "outputs": [],
   "source": [
    "#outlier detection and removal\n",
    "df=df[np.abs(df.wage_hr-df.wage_hr.mean())<=(3*df.wage_hr.std())] #keep only the ones that are within +3 to -3 standard deviations in the column 'Data'.\n",
    "df = df[np.isfinite(df['wage_hr'])]"
   ]
  },
  {
   "cell_type": "code",
   "execution_count": 176,
   "metadata": {},
   "outputs": [
    {
     "data": {
      "text/plain": [
       "[]"
      ]
     },
     "execution_count": 176,
     "metadata": {},
     "output_type": "execute_result"
    },
    {
     "data": {
      "image/png": "[encoded data removed]",
      "text/plain": [
       "<matplotlib.figure.Figure at 0x7f8b66d7da90>"
      ]
     },
     "metadata": {},
     "output_type": "display_data"
    }
   ],
   "source": [
    "#3. Exploring capital gains\n",
    "#evidence of outliers\n",
    "\n",
    "plt.boxplot(df.capgain)\n",
    "plt.plot()\n",
    "\n"
   ]
  },
  {
   "cell_type": "code",
   "execution_count": 177,
   "metadata": {},
   "outputs": [
    {
     "data": {
      "text/plain": [
       "count    194555.000000\n",
       "mean        434.251343\n",
       "std        4727.422040\n",
       "min           0.000000\n",
       "25%           0.000000\n",
       "50%           0.000000\n",
       "75%           0.000000\n",
       "max       99999.000000\n",
       "Name: capgain, dtype: float64"
      ]
     },
     "execution_count": 177,
     "metadata": {},
     "output_type": "execute_result"
    }
   ],
   "source": [
    "#Capital gain stats\n",
    "df['capgain'].describe()"
   ]
  },
  {
   "cell_type": "code",
   "execution_count": 178,
   "metadata": {
    "collapsed": true
   },
   "outputs": [],
   "source": [
    "#Removing outliers \n",
    "\n",
    "df=df[np.abs(df.capgain-df.capgain.mean())<=(3*df.capgain.std())]\n",
    "df = df[np.isfinite(df['capgain'])]\n"
   ]
  },
  {
   "cell_type": "code",
   "execution_count": 179,
   "metadata": {},
   "outputs": [
    {
     "data": {
      "text/plain": [
       "[]"
      ]
     },
     "execution_count": 179,
     "metadata": {},
     "output_type": "execute_result"
    },
    {
     "data": {
      "image/png": "[encoded data removed]",
      "text/plain": [
       "<matplotlib.figure.Figure at 0x7f8b66ca7850>"
      ]
     },
     "metadata": {},
     "output_type": "display_data"
    }
   ],
   "source": [
    "#4. Exploring instance weight\n",
    "#outliers are detected\n",
    "\n",
    "plt.boxplot(df.inst_weight)\n",
    "plt.plot()"
   ]
  },
  {
   "cell_type": "code",
   "execution_count": 180,
   "metadata": {},
   "outputs": [
    {
     "data": {
      "text/plain": [
       "count    193120.000000\n",
       "mean       1738.629365\n",
       "std         993.829378\n",
       "min          37.870000\n",
       "25%        1060.100000\n",
       "50%        1616.190000\n",
       "75%        2185.822500\n",
       "max       18656.300000\n",
       "Name: inst_weight, dtype: float64"
      ]
     },
     "execution_count": 180,
     "metadata": {},
     "output_type": "execute_result"
    }
   ],
   "source": [
    "#capital loss stats\n",
    "\n",
    "df['inst_weight'].describe()"
   ]
  },
  {
   "cell_type": "code",
   "execution_count": 181,
   "metadata": {
    "collapsed": true
   },
   "outputs": [],
   "source": [
    "#remove outliers and nan\n",
    "df=df[np.abs(df.inst_weight-df.inst_weight.mean())<=(3*df.inst_weight.std())]\n",
    "df = df[np.isfinite(df['inst_weight'])]\n"
   ]
  },
  {
   "cell_type": "code",
   "execution_count": 182,
   "metadata": {},
   "outputs": [
    {
     "data": {
      "text/plain": [
       "[]"
      ]
     },
     "execution_count": 182,
     "metadata": {},
     "output_type": "execute_result"
    },
    {
     "data": {
      "image/png": "[encoded data removed]",
      "text/plain": [
       "<matplotlib.figure.Figure at 0x7f8b66b8d090>"
      ]
     },
     "metadata": {},
     "output_type": "display_data"
    }
   ],
   "source": [
    "#5.Exploring capital loss\n",
    "#outliers are detected\n",
    "\n",
    "plt.boxplot(df.caploss)\n",
    "plt.plot()"
   ]
  },
  {
   "cell_type": "code",
   "execution_count": 183,
   "metadata": {
    "collapsed": true
   },
   "outputs": [],
   "source": [
    "#remove outliers and nan\n",
    "df=df[np.abs(df.caploss-df.caploss.mean())<=(3*df.caploss.std())]\n",
    "df = df[np.isfinite(df['caploss'])]\n"
   ]
  },
  {
   "cell_type": "code",
   "execution_count": 184,
   "metadata": {},
   "outputs": [
    {
     "data": {
      "text/plain": [
       "[]"
      ]
     },
     "execution_count": 184,
     "metadata": {},
     "output_type": "execute_result"
    },
    {
     "data": {
      "image/png": "[encoded data removed]",
      "text/plain": [
       "<matplotlib.figure.Figure at 0x7f8b6660ea90>"
      ]
     },
     "metadata": {},
     "output_type": "display_data"
    }
   ],
   "source": [
    "#6. Exploring dividends\n",
    "#outliers are detected\n",
    "plt.boxplot(df.dividends)\n",
    "plt.plot()\n",
    "\n"
   ]
  },
  {
   "cell_type": "code",
   "execution_count": 185,
   "metadata": {
    "collapsed": true
   },
   "outputs": [],
   "source": [
    "#outlier removal\n",
    "df=df[np.abs(df.dividends-df.dividends.mean())<=(3*df.dividends.std())]\n",
    "df = df[np.isfinite(df['dividends'])]"
   ]
  },
  {
   "cell_type": "code",
   "execution_count": 186,
   "metadata": {},
   "outputs": [
    {
     "data": {
      "text/plain": [
       "[]"
      ]
     },
     "execution_count": 186,
     "metadata": {},
     "output_type": "execute_result"
    },
    {
     "data": {
      "image/png": "[encoded data removed]",
      "text/plain": [
       "<matplotlib.figure.Figure at 0x7f8b66adb150>"
      ]
     },
     "metadata": {},
     "output_type": "display_data"
    }
   ],
   "source": [
    "#7.Exploring number of persons worked for the employer\n",
    "plt.boxplot(df.num_emp_Empl)\n",
    "plt.plot()\n"
   ]
  },
  {
   "cell_type": "code",
   "execution_count": 187,
   "metadata": {},
   "outputs": [
    {
     "data": {
      "text/plain": [
       "count    186086.000000\n",
       "mean          1.850171\n",
       "std           2.333085\n",
       "min           0.000000\n",
       "25%           0.000000\n",
       "50%           0.000000\n",
       "75%           4.000000\n",
       "max           6.000000\n",
       "Name: num_emp_Empl, dtype: float64"
      ]
     },
     "execution_count": 187,
     "metadata": {},
     "output_type": "execute_result"
    }
   ],
   "source": [
    "#number of employers\n",
    "\n",
    "df['num_emp_Empl'].describe()"
   ]
  },
  {
   "cell_type": "code",
   "execution_count": 188,
   "metadata": {},
   "outputs": [
    {
     "data": {
      "text/plain": [
       "<matplotlib.axes._subplots.AxesSubplot at 0x7f8b669cc610>"
      ]
     },
     "execution_count": 188,
     "metadata": {},
     "output_type": "execute_result"
    },
    {
     "data": {
      "image/png": "[encoded data removed]",
      "text/plain": [
       "<matplotlib.figure.Figure at 0x7f8b665925d0>"
      ]
     },
     "metadata": {},
     "output_type": "display_data"
    }
   ],
   "source": [
    "#kde plot and no evidence of outliers\n",
    "\n",
    "sns.distplot(df.num_emp_Empl, bins=20, kde=True, rug=False)"
   ]
  },
  {
   "cell_type": "code",
   "execution_count": 189,
   "metadata": {},
   "outputs": [
    {
     "data": {
      "text/plain": [
       "[]"
      ]
     },
     "execution_count": 189,
     "metadata": {},
     "output_type": "execute_result"
    },
    {
     "data": {
      "image/png": "[encoded data removed]",
      "text/plain": [
       "<matplotlib.figure.Figure at 0x7f8b6694b710>"
      ]
     },
     "metadata": {},
     "output_type": "display_data"
    }
   ],
   "source": [
    "#8. Exploring number of weeks worked in a year\n",
    "\n",
    "plt.boxplot(df.weeks_yr)\n",
    "plt.plot()\n",
    "\n"
   ]
  },
  {
   "cell_type": "code",
   "execution_count": 190,
   "metadata": {},
   "outputs": [
    {
     "data": {
      "text/plain": [
       "<matplotlib.axes._subplots.AxesSubplot at 0x7f8b664d20d0>"
      ]
     },
     "execution_count": 190,
     "metadata": {},
     "output_type": "execute_result"
    },
    {
     "data": {
      "image/png": "[encoded data removed]",
      "text/plain": [
       "<matplotlib.figure.Figure at 0x7f8b669bb210>"
      ]
     },
     "metadata": {},
     "output_type": "display_data"
    }
   ],
   "source": [
    "#kde plot for weeks worked\n",
    "\n",
    "sns.distplot(df.weeks_yr, bins=20, kde=True, rug=False)\n"
   ]
  },
  {
   "cell_type": "code",
   "execution_count": 191,
   "metadata": {
    "collapsed": true
   },
   "outputs": [],
   "source": [
    "#removing outliers as we see some values below 0\n",
    "df=df[np.abs(df.weeks_yr-df.weeks_yr.mean())<=(3*df.weeks_yr.std())]\n"
   ]
  },
  {
   "cell_type": "code",
   "execution_count": 192,
   "metadata": {},
   "outputs": [
    {
     "data": {
      "text/plain": [
       "count    186086.000000\n",
       "mean         21.954182\n",
       "std          24.243315\n",
       "min           0.000000\n",
       "25%           0.000000\n",
       "50%           0.000000\n",
       "75%          52.000000\n",
       "max          52.000000\n",
       "Name: weeks_yr, dtype: float64"
      ]
     },
     "execution_count": 192,
     "metadata": {},
     "output_type": "execute_result"
    }
   ],
   "source": [
    "#stats\n",
    "#number of weeks worked in a year by the employee\n",
    "\n",
    "df['weeks_yr'].describe()"
   ]
  },
  {
   "cell_type": "code",
   "execution_count": 193,
   "metadata": {},
   "outputs": [
    {
     "data": {
      "text/plain": [
       "<matplotlib.axes._subplots.AxesSubplot at 0x7f8b66bdc350>"
      ]
     },
     "execution_count": 193,
     "metadata": {},
     "output_type": "execute_result"
    },
    {
     "data": {
      "image/png": "[encoded data removed]",
      "text/plain": [
       "<matplotlib.figure.Figure at 0x7f8b6662c890>"
      ]
     },
     "metadata": {},
     "output_type": "display_data"
    }
   ],
   "source": [
    "#Exploring some categorical variables\n",
    "#1.Class variable\n",
    "\n",
    "cross_tab = pd.crosstab(index = df[\"class\"],           # crosstab and count\n",
    "                             columns=\"count\")          # plot \n",
    "cross_tab.plot.bar()\n",
    "\n",
    "#Not in universe:the observations were not part of the sample or missing"
   ]
  },
  {
   "cell_type": "code",
   "execution_count": 194,
   "metadata": {},
   "outputs": [
    {
     "name": "stdout",
     "output_type": "stream",
     "text": [
      "(col_0\n",
      "count    186086\n",
      "dtype: int64, '\\n')\n",
      "((9, 1), '\\n')\n"
     ]
    },
    {
     "data": {
      "text/html": [
       "<div>\n",
       "<style>\n",
       "    .dataframe thead tr:only-child th {\n",
       "        text-align: right;\n",
       "    }\n",
       "\n",
       "    .dataframe thead th {\n",
       "        text-align: left;\n",
       "    }\n",
       "\n",
       "    .dataframe tbody tr th {\n",
       "        vertical-align: top;\n",
       "    }\n",
       "</style>\n",
       "<table border=\"1\" class=\"dataframe\">\n",
       "  <thead>\n",
       "    <tr style=\"text-align: right;\">\n",
       "      <th>col_0</th>\n",
       "      <th>count</th>\n",
       "    </tr>\n",
       "    <tr>\n",
       "      <th>class</th>\n",
       "      <th></th>\n",
       "    </tr>\n",
       "  </thead>\n",
       "  <tbody>\n",
       "    <tr>\n",
       "      <th>Local government</th>\n",
       "      <td>6913</td>\n",
       "    </tr>\n",
       "    <tr>\n",
       "      <th>Never worked</th>\n",
       "      <td>434</td>\n",
       "    </tr>\n",
       "    <tr>\n",
       "      <th>Not in universe</th>\n",
       "      <td>97762</td>\n",
       "    </tr>\n",
       "    <tr>\n",
       "      <th>Private</th>\n",
       "      <td>64064</td>\n",
       "    </tr>\n",
       "    <tr>\n",
       "      <th>Self-employed-incorporated</th>\n",
       "      <td>2773</td>\n",
       "    </tr>\n",
       "    <tr>\n",
       "      <th>Self-employed-not incorporated</th>\n",
       "      <td>7798</td>\n",
       "    </tr>\n",
       "    <tr>\n",
       "      <th>State government</th>\n",
       "      <td>3763</td>\n",
       "    </tr>\n",
       "  </tbody>\n",
       "</table>\n",
       "</div>"
      ],
      "text/plain": [
       "col_0                            count\n",
       "class                                 \n",
       " Local government                 6913\n",
       " Never worked                      434\n",
       " Not in universe                 97762\n",
       " Private                         64064\n",
       " Self-employed-incorporated       2773\n",
       " Self-employed-not incorporated   7798\n",
       " State government                 3763"
      ]
     },
     "execution_count": 194,
     "metadata": {},
     "output_type": "execute_result"
    }
   ],
   "source": [
    "#counts of categories in classes\n",
    "print (cross_tab.sum(), \"\\n\")   # Sum the counts\n",
    "print (cross_tab.shape, \"\\n\")   # Check number of rows and cols\n",
    "cross_tab.iloc[1:8]   "
   ]
  },
  {
   "cell_type": "code",
   "execution_count": 195,
   "metadata": {},
   "outputs": [
    {
     "data": {
      "text/plain": [
       "<matplotlib.axes._subplots.AxesSubplot at 0x7f8b66c2fc10>"
      ]
     },
     "execution_count": 195,
     "metadata": {},
     "output_type": "execute_result"
    },
    {
     "data": {
      "image/png": "[encoded data removed]",
      "text/plain": [
       "<matplotlib.figure.Figure at 0x7f8b665af750>"
      ]
     },
     "metadata": {},
     "output_type": "display_data"
    }
   ],
   "source": [
    "#bivariate analysis of Age and class\n",
    "df.boxplot(column=\"age\",                # Column to plot\n",
    "                 by= \"class\",          # Column to split upon\n",
    "                 figsize= (30,20))      # Figure size\n",
    "\n",
    "#people who have never worked are below the age of 20 which implicates their income\n"
   ]
  },
  {
   "cell_type": "code",
   "execution_count": 196,
   "metadata": {},
   "outputs": [
    {
     "data": {
      "text/plain": [
       "class                            income\n",
       " Federal government              0          1971\n",
       "                                 1           449\n",
       " Local government                0          6245\n",
       "                                 1           668\n",
       " Never worked                    0           432\n",
       "                                 1             2\n",
       " Not in universe                 0         97205\n",
       "                                 1           557\n",
       " Private                         0         58662\n",
       "                                 1          5402\n",
       " Self-employed-incorporated      0          2020\n",
       "                                 1           753\n",
       " Self-employed-not incorporated  0          7016\n",
       "                                 1           782\n",
       " State government                0          3392\n",
       "                                 1           371\n",
       " Without pay                     0           159\n",
       "dtype: int64"
      ]
     },
     "execution_count": 196,
     "metadata": {},
     "output_type": "execute_result"
    }
   ],
   "source": [
    "#tabling class and income\n",
    "grouped = df.groupby(['class','income'])\n",
    "grouped.size()"
   ]
  },
  {
   "cell_type": "code",
   "execution_count": 197,
   "metadata": {},
   "outputs": [
    {
     "data": {
      "text/html": [
       "<div>\n",
       "<style>\n",
       "    .dataframe thead tr:only-child th {\n",
       "        text-align: right;\n",
       "    }\n",
       "\n",
       "    .dataframe thead th {\n",
       "        text-align: left;\n",
       "    }\n",
       "\n",
       "    .dataframe tbody tr th {\n",
       "        vertical-align: top;\n",
       "    }\n",
       "</style>\n",
       "<table border=\"1\" class=\"dataframe\">\n",
       "  <thead>\n",
       "    <tr style=\"text-align: right;\">\n",
       "      <th>class</th>\n",
       "      <th>Federal government</th>\n",
       "      <th>Local government</th>\n",
       "      <th>Never worked</th>\n",
       "      <th>Not in universe</th>\n",
       "      <th>Private</th>\n",
       "      <th>Self-employed-incorporated</th>\n",
       "      <th>Self-employed-not incorporated</th>\n",
       "      <th>State government</th>\n",
       "      <th>Without pay</th>\n",
       "    </tr>\n",
       "    <tr>\n",
       "      <th>income</th>\n",
       "      <th></th>\n",
       "      <th></th>\n",
       "      <th></th>\n",
       "      <th></th>\n",
       "      <th></th>\n",
       "      <th></th>\n",
       "      <th></th>\n",
       "      <th></th>\n",
       "      <th></th>\n",
       "    </tr>\n",
       "  </thead>\n",
       "  <tbody>\n",
       "    <tr>\n",
       "      <th>0</th>\n",
       "      <td>1971</td>\n",
       "      <td>6245</td>\n",
       "      <td>432</td>\n",
       "      <td>97205</td>\n",
       "      <td>58662</td>\n",
       "      <td>2020</td>\n",
       "      <td>7016</td>\n",
       "      <td>3392</td>\n",
       "      <td>159</td>\n",
       "    </tr>\n",
       "    <tr>\n",
       "      <th>1</th>\n",
       "      <td>449</td>\n",
       "      <td>668</td>\n",
       "      <td>2</td>\n",
       "      <td>557</td>\n",
       "      <td>5402</td>\n",
       "      <td>753</td>\n",
       "      <td>782</td>\n",
       "      <td>371</td>\n",
       "      <td>0</td>\n",
       "    </tr>\n",
       "  </tbody>\n",
       "</table>\n",
       "</div>"
      ],
      "text/plain": [
       "class    Federal government   Local government   Never worked  \\\n",
       "income                                                          \n",
       "0                      1971               6245            432   \n",
       "1                       449                668              2   \n",
       "\n",
       "class    Not in universe   Private   Self-employed-incorporated  \\\n",
       "income                                                            \n",
       "0                  97205     58662                         2020   \n",
       "1                    557      5402                          753   \n",
       "\n",
       "class    Self-employed-not incorporated   State government   Without pay  \n",
       "income                                                                    \n",
       "0                                  7016               3392           159  \n",
       "1                                   782                371             0  "
      ]
     },
     "execution_count": 197,
     "metadata": {},
     "output_type": "execute_result"
    }
   ],
   "source": [
    "#making the picture simple\n",
    "table = pd.crosstab(index=df[\"income\"], \n",
    "                          columns=df[\"class\"])\n",
    "table"
   ]
  },
  {
   "cell_type": "code",
   "execution_count": 198,
   "metadata": {},
   "outputs": [
    {
     "data": {
      "text/plain": [
       "<matplotlib.axes._subplots.AxesSubplot at 0x7f8b66a1ca10>"
      ]
     },
     "execution_count": 198,
     "metadata": {},
     "output_type": "execute_result"
    },
    {
     "data": {
      "image/png": "[encoded data removed]",
      "text/plain": [
       "<matplotlib.figure.Figure at 0x7f8b6733d790>"
      ]
     },
     "metadata": {},
     "output_type": "display_data"
    }
   ],
   "source": [
    "#exploring Education of the individuals\n",
    "\n",
    "cross_tab = pd.crosstab(index = df[\"education\"],  \n",
    "                              columns=\"count\") \n",
    "cross_tab.plot.bar()\n"
   ]
  },
  {
   "cell_type": "code",
   "execution_count": 199,
   "metadata": {},
   "outputs": [
    {
     "data": {
      "text/html": [
       "<div>\n",
       "<style>\n",
       "    .dataframe thead tr:only-child th {\n",
       "        text-align: right;\n",
       "    }\n",
       "\n",
       "    .dataframe thead th {\n",
       "        text-align: left;\n",
       "    }\n",
       "\n",
       "    .dataframe tbody tr th {\n",
       "        vertical-align: top;\n",
       "    }\n",
       "</style>\n",
       "<table border=\"1\" class=\"dataframe\">\n",
       "  <thead>\n",
       "    <tr style=\"text-align: right;\">\n",
       "      <th>class</th>\n",
       "      <th>Federal government</th>\n",
       "      <th>Local government</th>\n",
       "      <th>Never worked</th>\n",
       "      <th>Not in universe</th>\n",
       "      <th>Private</th>\n",
       "      <th>Self-employed-incorporated</th>\n",
       "      <th>Self-employed-not incorporated</th>\n",
       "      <th>State government</th>\n",
       "      <th>Without pay</th>\n",
       "    </tr>\n",
       "    <tr>\n",
       "      <th>education</th>\n",
       "      <th></th>\n",
       "      <th></th>\n",
       "      <th></th>\n",
       "      <th></th>\n",
       "      <th></th>\n",
       "      <th></th>\n",
       "      <th></th>\n",
       "      <th></th>\n",
       "      <th></th>\n",
       "    </tr>\n",
       "  </thead>\n",
       "  <tbody>\n",
       "    <tr>\n",
       "      <th>10th grade</th>\n",
       "      <td>29</td>\n",
       "      <td>130</td>\n",
       "      <td>88</td>\n",
       "      <td>4120</td>\n",
       "      <td>2525</td>\n",
       "      <td>46</td>\n",
       "      <td>245</td>\n",
       "      <td>53</td>\n",
       "      <td>9</td>\n",
       "    </tr>\n",
       "    <tr>\n",
       "      <th>11th grade</th>\n",
       "      <td>30</td>\n",
       "      <td>151</td>\n",
       "      <td>66</td>\n",
       "      <td>3056</td>\n",
       "      <td>2936</td>\n",
       "      <td>49</td>\n",
       "      <td>228</td>\n",
       "      <td>44</td>\n",
       "      <td>6</td>\n",
       "    </tr>\n",
       "    <tr>\n",
       "      <th>12th grade no diploma</th>\n",
       "      <td>12</td>\n",
       "      <td>45</td>\n",
       "      <td>14</td>\n",
       "      <td>921</td>\n",
       "      <td>922</td>\n",
       "      <td>17</td>\n",
       "      <td>74</td>\n",
       "      <td>24</td>\n",
       "      <td>2</td>\n",
       "    </tr>\n",
       "    <tr>\n",
       "      <th>1st 2nd 3rd or 4th grade</th>\n",
       "      <td>1</td>\n",
       "      <td>23</td>\n",
       "      <td>4</td>\n",
       "      <td>1123</td>\n",
       "      <td>558</td>\n",
       "      <td>2</td>\n",
       "      <td>30</td>\n",
       "      <td>7</td>\n",
       "      <td>1</td>\n",
       "    </tr>\n",
       "    <tr>\n",
       "      <th>5th or 6th grade</th>\n",
       "      <td>8</td>\n",
       "      <td>25</td>\n",
       "      <td>3</td>\n",
       "      <td>1851</td>\n",
       "      <td>1188</td>\n",
       "      <td>16</td>\n",
       "      <td>88</td>\n",
       "      <td>7</td>\n",
       "      <td>3</td>\n",
       "    </tr>\n",
       "    <tr>\n",
       "      <th>7th and 8th grade</th>\n",
       "      <td>15</td>\n",
       "      <td>93</td>\n",
       "      <td>48</td>\n",
       "      <td>5786</td>\n",
       "      <td>1446</td>\n",
       "      <td>38</td>\n",
       "      <td>283</td>\n",
       "      <td>30</td>\n",
       "      <td>14</td>\n",
       "    </tr>\n",
       "    <tr>\n",
       "      <th>9th grade</th>\n",
       "      <td>13</td>\n",
       "      <td>87</td>\n",
       "      <td>108</td>\n",
       "      <td>3923</td>\n",
       "      <td>1674</td>\n",
       "      <td>31</td>\n",
       "      <td>170</td>\n",
       "      <td>17</td>\n",
       "      <td>9</td>\n",
       "    </tr>\n",
       "    <tr>\n",
       "      <th>Associates degree-academic program</th>\n",
       "      <td>140</td>\n",
       "      <td>251</td>\n",
       "      <td>2</td>\n",
       "      <td>807</td>\n",
       "      <td>2213</td>\n",
       "      <td>112</td>\n",
       "      <td>222</td>\n",
       "      <td>130</td>\n",
       "      <td>3</td>\n",
       "    </tr>\n",
       "    <tr>\n",
       "      <th>Associates degree-occup /vocational</th>\n",
       "      <td>96</td>\n",
       "      <td>279</td>\n",
       "      <td>3</td>\n",
       "      <td>1026</td>\n",
       "      <td>2740</td>\n",
       "      <td>95</td>\n",
       "      <td>331</td>\n",
       "      <td>177</td>\n",
       "      <td>7</td>\n",
       "    </tr>\n",
       "    <tr>\n",
       "      <th>Bachelors degree(BA AB BS)</th>\n",
       "      <td>501</td>\n",
       "      <td>1728</td>\n",
       "      <td>9</td>\n",
       "      <td>3338</td>\n",
       "      <td>9051</td>\n",
       "      <td>632</td>\n",
       "      <td>1143</td>\n",
       "      <td>843</td>\n",
       "      <td>23</td>\n",
       "    </tr>\n",
       "    <tr>\n",
       "      <th>Children</th>\n",
       "      <td>0</td>\n",
       "      <td>0</td>\n",
       "      <td>0</td>\n",
       "      <td>47065</td>\n",
       "      <td>0</td>\n",
       "      <td>0</td>\n",
       "      <td>0</td>\n",
       "      <td>0</td>\n",
       "      <td>0</td>\n",
       "    </tr>\n",
       "    <tr>\n",
       "      <th>Doctorate degree(PhD EdD)</th>\n",
       "      <td>33</td>\n",
       "      <td>58</td>\n",
       "      <td>0</td>\n",
       "      <td>173</td>\n",
       "      <td>390</td>\n",
       "      <td>48</td>\n",
       "      <td>109</td>\n",
       "      <td>197</td>\n",
       "      <td>0</td>\n",
       "    </tr>\n",
       "    <tr>\n",
       "      <th>High school graduate</th>\n",
       "      <td>693</td>\n",
       "      <td>1648</td>\n",
       "      <td>60</td>\n",
       "      <td>15498</td>\n",
       "      <td>22240</td>\n",
       "      <td>799</td>\n",
       "      <td>2748</td>\n",
       "      <td>814</td>\n",
       "      <td>49</td>\n",
       "    </tr>\n",
       "    <tr>\n",
       "      <th>Less than 1st grade</th>\n",
       "      <td>0</td>\n",
       "      <td>5</td>\n",
       "      <td>1</td>\n",
       "      <td>557</td>\n",
       "      <td>214</td>\n",
       "      <td>0</td>\n",
       "      <td>13</td>\n",
       "      <td>4</td>\n",
       "      <td>0</td>\n",
       "    </tr>\n",
       "    <tr>\n",
       "      <th>Masters degree(MA MS MEng MEd MSW MBA)</th>\n",
       "      <td>175</td>\n",
       "      <td>1156</td>\n",
       "      <td>0</td>\n",
       "      <td>1018</td>\n",
       "      <td>2219</td>\n",
       "      <td>158</td>\n",
       "      <td>346</td>\n",
       "      <td>475</td>\n",
       "      <td>1</td>\n",
       "    </tr>\n",
       "    <tr>\n",
       "      <th>Prof school degree (MD DDS DVM LLB JD)</th>\n",
       "      <td>56</td>\n",
       "      <td>89</td>\n",
       "      <td>3</td>\n",
       "      <td>227</td>\n",
       "      <td>501</td>\n",
       "      <td>141</td>\n",
       "      <td>247</td>\n",
       "      <td>86</td>\n",
       "      <td>1</td>\n",
       "    </tr>\n",
       "    <tr>\n",
       "      <th>Some college but no degree</th>\n",
       "      <td>618</td>\n",
       "      <td>1145</td>\n",
       "      <td>25</td>\n",
       "      <td>7273</td>\n",
       "      <td>13247</td>\n",
       "      <td>589</td>\n",
       "      <td>1521</td>\n",
       "      <td>855</td>\n",
       "      <td>31</td>\n",
       "    </tr>\n",
       "  </tbody>\n",
       "</table>\n",
       "</div>"
      ],
      "text/plain": [
       "class                                     Federal government  \\\n",
       "education                                                      \n",
       " 10th grade                                               29   \n",
       " 11th grade                                               30   \n",
       " 12th grade no diploma                                    12   \n",
       " 1st 2nd 3rd or 4th grade                                  1   \n",
       " 5th or 6th grade                                          8   \n",
       " 7th and 8th grade                                        15   \n",
       " 9th grade                                                13   \n",
       " Associates degree-academic program                      140   \n",
       " Associates degree-occup /vocational                      96   \n",
       " Bachelors degree(BA AB BS)                              501   \n",
       " Children                                                  0   \n",
       " Doctorate degree(PhD EdD)                                33   \n",
       " High school graduate                                    693   \n",
       " Less than 1st grade                                       0   \n",
       " Masters degree(MA MS MEng MEd MSW MBA)                  175   \n",
       " Prof school degree (MD DDS DVM LLB JD)                   56   \n",
       " Some college but no degree                              618   \n",
       "\n",
       "class                                     Local government   Never worked  \\\n",
       "education                                                                   \n",
       " 10th grade                                            130             88   \n",
       " 11th grade                                            151             66   \n",
       " 12th grade no diploma                                  45             14   \n",
       " 1st 2nd 3rd or 4th grade                               23              4   \n",
       " 5th or 6th grade                                       25              3   \n",
       " 7th and 8th grade                                      93             48   \n",
       " 9th grade                                              87            108   \n",
       " Associates degree-academic program                    251              2   \n",
       " Associates degree-occup /vocational                   279              3   \n",
       " Bachelors degree(BA AB BS)                           1728              9   \n",
       " Children                                                0              0   \n",
       " Doctorate degree(PhD EdD)                              58              0   \n",
       " High school graduate                                 1648             60   \n",
       " Less than 1st grade                                     5              1   \n",
       " Masters degree(MA MS MEng MEd MSW MBA)               1156              0   \n",
       " Prof school degree (MD DDS DVM LLB JD)                 89              3   \n",
       " Some college but no degree                           1145             25   \n",
       "\n",
       "class                                     Not in universe   Private  \\\n",
       "education                                                             \n",
       " 10th grade                                          4120      2525   \n",
       " 11th grade                                          3056      2936   \n",
       " 12th grade no diploma                                921       922   \n",
       " 1st 2nd 3rd or 4th grade                            1123       558   \n",
       " 5th or 6th grade                                    1851      1188   \n",
       " 7th and 8th grade                                   5786      1446   \n",
       " 9th grade                                           3923      1674   \n",
       " Associates degree-academic program                   807      2213   \n",
       " Associates degree-occup /vocational                 1026      2740   \n",
       " Bachelors degree(BA AB BS)                          3338      9051   \n",
       " Children                                           47065         0   \n",
       " Doctorate degree(PhD EdD)                            173       390   \n",
       " High school graduate                               15498     22240   \n",
       " Less than 1st grade                                  557       214   \n",
       " Masters degree(MA MS MEng MEd MSW MBA)              1018      2219   \n",
       " Prof school degree (MD DDS DVM LLB JD)               227       501   \n",
       " Some college but no degree                          7273     13247   \n",
       "\n",
       "class                                     Self-employed-incorporated  \\\n",
       "education                                                              \n",
       " 10th grade                                                       46   \n",
       " 11th grade                                                       49   \n",
       " 12th grade no diploma                                            17   \n",
       " 1st 2nd 3rd or 4th grade                                          2   \n",
       " 5th or 6th grade                                                 16   \n",
       " 7th and 8th grade                                                38   \n",
       " 9th grade                                                        31   \n",
       " Associates degree-academic program                              112   \n",
       " Associates degree-occup /vocational                              95   \n",
       " Bachelors degree(BA AB BS)                                      632   \n",
       " Children                                                          0   \n",
       " Doctorate degree(PhD EdD)                                        48   \n",
       " High school graduate                                            799   \n",
       " Less than 1st grade                                               0   \n",
       " Masters degree(MA MS MEng MEd MSW MBA)                          158   \n",
       " Prof school degree (MD DDS DVM LLB JD)                          141   \n",
       " Some college but no degree                                      589   \n",
       "\n",
       "class                                     Self-employed-not incorporated  \\\n",
       "education                                                                  \n",
       " 10th grade                                                          245   \n",
       " 11th grade                                                          228   \n",
       " 12th grade no diploma                                                74   \n",
       " 1st 2nd 3rd or 4th grade                                             30   \n",
       " 5th or 6th grade                                                     88   \n",
       " 7th and 8th grade                                                   283   \n",
       " 9th grade                                                           170   \n",
       " Associates degree-academic program                                  222   \n",
       " Associates degree-occup /vocational                                 331   \n",
       " Bachelors degree(BA AB BS)                                         1143   \n",
       " Children                                                              0   \n",
       " Doctorate degree(PhD EdD)                                           109   \n",
       " High school graduate                                               2748   \n",
       " Less than 1st grade                                                  13   \n",
       " Masters degree(MA MS MEng MEd MSW MBA)                              346   \n",
       " Prof school degree (MD DDS DVM LLB JD)                              247   \n",
       " Some college but no degree                                         1521   \n",
       "\n",
       "class                                     State government   Without pay  \n",
       "education                                                                 \n",
       " 10th grade                                             53             9  \n",
       " 11th grade                                             44             6  \n",
       " 12th grade no diploma                                  24             2  \n",
       " 1st 2nd 3rd or 4th grade                                7             1  \n",
       " 5th or 6th grade                                        7             3  \n",
       " 7th and 8th grade                                      30            14  \n",
       " 9th grade                                              17             9  \n",
       " Associates degree-academic program                    130             3  \n",
       " Associates degree-occup /vocational                   177             7  \n",
       " Bachelors degree(BA AB BS)                            843            23  \n",
       " Children                                                0             0  \n",
       " Doctorate degree(PhD EdD)                             197             0  \n",
       " High school graduate                                  814            49  \n",
       " Less than 1st grade                                     4             0  \n",
       " Masters degree(MA MS MEng MEd MSW MBA)                475             1  \n",
       " Prof school degree (MD DDS DVM LLB JD)                 86             1  \n",
       " Some college but no degree                            855            31  "
      ]
     },
     "execution_count": 199,
     "metadata": {},
     "output_type": "execute_result"
    }
   ],
   "source": [
    "#tabling education and class\n",
    "\n",
    "table = pd.crosstab(index=df[\"education\"], \n",
    "                          columns=df[\"class\"])\n",
    "table"
   ]
  },
  {
   "cell_type": "code",
   "execution_count": 200,
   "metadata": {},
   "outputs": [
    {
     "data": {
      "text/html": [
       "<div>\n",
       "<style>\n",
       "    .dataframe thead tr:only-child th {\n",
       "        text-align: right;\n",
       "    }\n",
       "\n",
       "    .dataframe thead th {\n",
       "        text-align: left;\n",
       "    }\n",
       "\n",
       "    .dataframe tbody tr th {\n",
       "        vertical-align: top;\n",
       "    }\n",
       "</style>\n",
       "<table border=\"1\" class=\"dataframe\">\n",
       "  <thead>\n",
       "    <tr style=\"text-align: right;\">\n",
       "      <th>income</th>\n",
       "      <th>0</th>\n",
       "      <th>1</th>\n",
       "    </tr>\n",
       "    <tr>\n",
       "      <th>education</th>\n",
       "      <th></th>\n",
       "      <th></th>\n",
       "    </tr>\n",
       "  </thead>\n",
       "  <tbody>\n",
       "    <tr>\n",
       "      <th>10th grade</th>\n",
       "      <td>7203</td>\n",
       "      <td>42</td>\n",
       "    </tr>\n",
       "    <tr>\n",
       "      <th>11th grade</th>\n",
       "      <td>6507</td>\n",
       "      <td>59</td>\n",
       "    </tr>\n",
       "    <tr>\n",
       "      <th>12th grade no diploma</th>\n",
       "      <td>2004</td>\n",
       "      <td>27</td>\n",
       "    </tr>\n",
       "    <tr>\n",
       "      <th>1st 2nd 3rd or 4th grade</th>\n",
       "      <td>1737</td>\n",
       "      <td>12</td>\n",
       "    </tr>\n",
       "    <tr>\n",
       "      <th>5th or 6th grade</th>\n",
       "      <td>3171</td>\n",
       "      <td>18</td>\n",
       "    </tr>\n",
       "    <tr>\n",
       "      <th>7th and 8th grade</th>\n",
       "      <td>7695</td>\n",
       "      <td>58</td>\n",
       "    </tr>\n",
       "    <tr>\n",
       "      <th>9th grade</th>\n",
       "      <td>6003</td>\n",
       "      <td>29</td>\n",
       "    </tr>\n",
       "    <tr>\n",
       "      <th>Associates degree-academic program</th>\n",
       "      <td>3563</td>\n",
       "      <td>317</td>\n",
       "    </tr>\n",
       "    <tr>\n",
       "      <th>Associates degree-occup /vocational</th>\n",
       "      <td>4453</td>\n",
       "      <td>301</td>\n",
       "    </tr>\n",
       "    <tr>\n",
       "      <th>Bachelors degree(BA AB BS)</th>\n",
       "      <td>14412</td>\n",
       "      <td>2856</td>\n",
       "    </tr>\n",
       "    <tr>\n",
       "      <th>Children</th>\n",
       "      <td>47065</td>\n",
       "      <td>0</td>\n",
       "    </tr>\n",
       "    <tr>\n",
       "      <th>Doctorate degree(PhD EdD)</th>\n",
       "      <td>546</td>\n",
       "      <td>462</td>\n",
       "    </tr>\n",
       "    <tr>\n",
       "      <th>High school graduate</th>\n",
       "      <td>43129</td>\n",
       "      <td>1420</td>\n",
       "    </tr>\n",
       "    <tr>\n",
       "      <th>Less than 1st grade</th>\n",
       "      <td>793</td>\n",
       "      <td>1</td>\n",
       "    </tr>\n",
       "    <tr>\n",
       "      <th>Masters degree(MA MS MEng MEd MSW MBA)</th>\n",
       "      <td>4088</td>\n",
       "      <td>1460</td>\n",
       "    </tr>\n",
       "    <tr>\n",
       "      <th>Prof school degree (MD DDS DVM LLB JD)</th>\n",
       "      <td>753</td>\n",
       "      <td>598</td>\n",
       "    </tr>\n",
       "    <tr>\n",
       "      <th>Some college but no degree</th>\n",
       "      <td>23980</td>\n",
       "      <td>1324</td>\n",
       "    </tr>\n",
       "  </tbody>\n",
       "</table>\n",
       "</div>"
      ],
      "text/plain": [
       "income                                       0     1\n",
       "education                                           \n",
       " 10th grade                               7203    42\n",
       " 11th grade                               6507    59\n",
       " 12th grade no diploma                    2004    27\n",
       " 1st 2nd 3rd or 4th grade                 1737    12\n",
       " 5th or 6th grade                         3171    18\n",
       " 7th and 8th grade                        7695    58\n",
       " 9th grade                                6003    29\n",
       " Associates degree-academic program       3563   317\n",
       " Associates degree-occup /vocational      4453   301\n",
       " Bachelors degree(BA AB BS)              14412  2856\n",
       " Children                                47065     0\n",
       " Doctorate degree(PhD EdD)                 546   462\n",
       " High school graduate                    43129  1420\n",
       " Less than 1st grade                       793     1\n",
       " Masters degree(MA MS MEng MEd MSW MBA)   4088  1460\n",
       " Prof school degree (MD DDS DVM LLB JD)    753   598\n",
       " Some college but no degree              23980  1324"
      ]
     },
     "execution_count": 200,
     "metadata": {},
     "output_type": "execute_result"
    }
   ],
   "source": [
    "#education and income\n",
    "\n",
    "table = pd.crosstab(index=df[\"education\"], \n",
    "                          columns=df[\"income\"])\n",
    "table\n",
    "\n",
    "#high school graduates and children are most in number\n",
    "#PHD graduates still earn less than 50,000\n",
    "#high school graduates who earn >50,000 are higher than phds"
   ]
  },
  {
   "cell_type": "code",
   "execution_count": 201,
   "metadata": {},
   "outputs": [
    {
     "data": {
      "text/plain": [
       "<matplotlib.axes._subplots.AxesSubplot at 0x7f8b66b79610>"
      ]
     },
     "execution_count": 201,
     "metadata": {},
     "output_type": "execute_result"
    },
    {
     "data": {
      "image/png": "[encoded data removed]",
      "text/plain": [
       "<matplotlib.figure.Figure at 0x7f8b66fc47d0>"
      ]
     },
     "metadata": {},
     "output_type": "display_data"
    }
   ],
   "source": [
    "#Enrollment in an institution last year\n",
    "cross_tab = pd.crosstab(index = df[\"enroll_inst_last_wk\"],columns=\"count\")      \n",
    "cross_tab.plot.bar()\n"
   ]
  },
  {
   "cell_type": "code",
   "execution_count": 202,
   "metadata": {},
   "outputs": [
    {
     "name": "stdout",
     "output_type": "stream",
     "text": [
      "(col_0\n",
      "count    186086\n",
      "dtype: int64, '\\n')\n",
      "((3, 1), '\\n')\n"
     ]
    },
    {
     "data": {
      "text/html": [
       "<div>\n",
       "<style>\n",
       "    .dataframe thead tr:only-child th {\n",
       "        text-align: right;\n",
       "    }\n",
       "\n",
       "    .dataframe thead th {\n",
       "        text-align: left;\n",
       "    }\n",
       "\n",
       "    .dataframe tbody tr th {\n",
       "        vertical-align: top;\n",
       "    }\n",
       "</style>\n",
       "<table border=\"1\" class=\"dataframe\">\n",
       "  <thead>\n",
       "    <tr style=\"text-align: right;\">\n",
       "      <th>col_0</th>\n",
       "      <th>count</th>\n",
       "    </tr>\n",
       "    <tr>\n",
       "      <th>enroll_inst_last_wk</th>\n",
       "      <th></th>\n",
       "    </tr>\n",
       "  </thead>\n",
       "  <tbody>\n",
       "    <tr>\n",
       "      <th>College or university</th>\n",
       "      <td>5437</td>\n",
       "    </tr>\n",
       "    <tr>\n",
       "      <th>High school</th>\n",
       "      <td>6710</td>\n",
       "    </tr>\n",
       "    <tr>\n",
       "      <th>Not in universe</th>\n",
       "      <td>173939</td>\n",
       "    </tr>\n",
       "  </tbody>\n",
       "</table>\n",
       "</div>"
      ],
      "text/plain": [
       "col_0                    count\n",
       "enroll_inst_last_wk           \n",
       " College or university    5437\n",
       " High school              6710\n",
       " Not in universe        173939"
      ]
     },
     "execution_count": 202,
     "metadata": {},
     "output_type": "execute_result"
    }
   ],
   "source": [
    "#tabling it \n",
    "#not in universe : misreported or not filled up in the data\n",
    "print (cross_tab.sum(), \"\\n\")   \n",
    "print (cross_tab.shape, \"\\n\") \n",
    "cross_tab.iloc[0:3]  "
   ]
  },
  {
   "cell_type": "code",
   "execution_count": 203,
   "metadata": {},
   "outputs": [
    {
     "data": {
      "text/plain": [
       "<matplotlib.axes._subplots.AxesSubplot at 0x7f8b66cdf8d0>"
      ]
     },
     "execution_count": 203,
     "metadata": {},
     "output_type": "execute_result"
    },
    {
     "data": {
      "image/png": "[encoded data removed]",
      "text/plain": [
       "<matplotlib.figure.Figure at 0x7f8b66ce2dd0>"
      ]
     },
     "metadata": {},
     "output_type": "display_data"
    }
   ],
   "source": [
    "#exploring marital status\n",
    "\n",
    "cross_tab = pd.crosstab(index = df[\"marital_Status\"],columns=\"count\")      \n",
    "cross_tab.plot.bar()\n"
   ]
  },
  {
   "cell_type": "code",
   "execution_count": 204,
   "metadata": {},
   "outputs": [
    {
     "name": "stdout",
     "output_type": "stream",
     "text": [
      "(col_0\n",
      "count    186086\n",
      "dtype: int64, '\\n')\n",
      "((7, 1), '\\n')\n"
     ]
    },
    {
     "data": {
      "text/html": [
       "<div>\n",
       "<style>\n",
       "    .dataframe thead tr:only-child th {\n",
       "        text-align: right;\n",
       "    }\n",
       "\n",
       "    .dataframe thead th {\n",
       "        text-align: left;\n",
       "    }\n",
       "\n",
       "    .dataframe tbody tr th {\n",
       "        vertical-align: top;\n",
       "    }\n",
       "</style>\n",
       "<table border=\"1\" class=\"dataframe\">\n",
       "  <thead>\n",
       "    <tr style=\"text-align: right;\">\n",
       "      <th>col_0</th>\n",
       "      <th>count</th>\n",
       "    </tr>\n",
       "    <tr>\n",
       "      <th>marital_Status</th>\n",
       "      <th></th>\n",
       "    </tr>\n",
       "  </thead>\n",
       "  <tbody>\n",
       "    <tr>\n",
       "      <th>Divorced</th>\n",
       "      <td>11417</td>\n",
       "    </tr>\n",
       "    <tr>\n",
       "      <th>Married-A F spouse present</th>\n",
       "      <td>620</td>\n",
       "    </tr>\n",
       "    <tr>\n",
       "      <th>Married-civilian spouse present</th>\n",
       "      <td>76048</td>\n",
       "    </tr>\n",
       "    <tr>\n",
       "      <th>Married-spouse absent</th>\n",
       "      <td>1418</td>\n",
       "    </tr>\n",
       "    <tr>\n",
       "      <th>Never married</th>\n",
       "      <td>83537</td>\n",
       "    </tr>\n",
       "    <tr>\n",
       "      <th>Separated</th>\n",
       "      <td>3199</td>\n",
       "    </tr>\n",
       "    <tr>\n",
       "      <th>Widowed</th>\n",
       "      <td>9847</td>\n",
       "    </tr>\n",
       "  </tbody>\n",
       "</table>\n",
       "</div>"
      ],
      "text/plain": [
       "col_0                             count\n",
       "marital_Status                         \n",
       " Divorced                         11417\n",
       " Married-A F spouse present         620\n",
       " Married-civilian spouse present  76048\n",
       " Married-spouse absent             1418\n",
       " Never married                    83537\n",
       " Separated                         3199\n",
       " Widowed                           9847"
      ]
     },
     "execution_count": 204,
     "metadata": {},
     "output_type": "execute_result"
    }
   ],
   "source": [
    "#tabling\n",
    "print (cross_tab.sum(), \"\\n\")  \n",
    "print (cross_tab.shape, \"\\n\")   \n",
    "cross_tab.iloc[0:8]  \n",
    "#never married includes Major share of our children observations"
   ]
  },
  {
   "cell_type": "code",
   "execution_count": 205,
   "metadata": {},
   "outputs": [
    {
     "data": {
      "text/html": [
       "<div>\n",
       "<style>\n",
       "    .dataframe thead tr:only-child th {\n",
       "        text-align: right;\n",
       "    }\n",
       "\n",
       "    .dataframe thead th {\n",
       "        text-align: left;\n",
       "    }\n",
       "\n",
       "    .dataframe tbody tr th {\n",
       "        vertical-align: top;\n",
       "    }\n",
       "</style>\n",
       "<table border=\"1\" class=\"dataframe\">\n",
       "  <thead>\n",
       "    <tr style=\"text-align: right;\">\n",
       "      <th>marital_Status</th>\n",
       "      <th>Divorced</th>\n",
       "      <th>Married-A F spouse present</th>\n",
       "      <th>Married-civilian spouse present</th>\n",
       "      <th>Married-spouse absent</th>\n",
       "      <th>Never married</th>\n",
       "      <th>Separated</th>\n",
       "      <th>Widowed</th>\n",
       "    </tr>\n",
       "    <tr>\n",
       "      <th>income</th>\n",
       "      <th></th>\n",
       "      <th></th>\n",
       "      <th></th>\n",
       "      <th></th>\n",
       "      <th></th>\n",
       "      <th></th>\n",
       "      <th></th>\n",
       "    </tr>\n",
       "  </thead>\n",
       "  <tbody>\n",
       "    <tr>\n",
       "      <th>0</th>\n",
       "      <td>10609</td>\n",
       "      <td>609</td>\n",
       "      <td>69082</td>\n",
       "      <td>1350</td>\n",
       "      <td>82720</td>\n",
       "      <td>3078</td>\n",
       "      <td>9654</td>\n",
       "    </tr>\n",
       "    <tr>\n",
       "      <th>1</th>\n",
       "      <td>808</td>\n",
       "      <td>11</td>\n",
       "      <td>6966</td>\n",
       "      <td>68</td>\n",
       "      <td>817</td>\n",
       "      <td>121</td>\n",
       "      <td>193</td>\n",
       "    </tr>\n",
       "  </tbody>\n",
       "</table>\n",
       "</div>"
      ],
      "text/plain": [
       "marital_Status   Divorced   Married-A F spouse present  \\\n",
       "income                                                   \n",
       "0                   10609                          609   \n",
       "1                     808                           11   \n",
       "\n",
       "marital_Status   Married-civilian spouse present   Married-spouse absent  \\\n",
       "income                                                                     \n",
       "0                                          69082                    1350   \n",
       "1                                           6966                      68   \n",
       "\n",
       "marital_Status   Never married   Separated   Widowed  \n",
       "income                                                \n",
       "0                        82720        3078      9654  \n",
       "1                          817         121       193  "
      ]
     },
     "execution_count": 205,
     "metadata": {},
     "output_type": "execute_result"
    }
   ],
   "source": [
    "#with respect to income /marital status \n",
    "table = pd.crosstab(index=df[\"income\"],columns=df[\"marital_Status\"])\n",
    "table\n",
    "\n",
    "#married spouse present dominates class '1' is this family income?"
   ]
  },
  {
   "cell_type": "code",
   "execution_count": 206,
   "metadata": {},
   "outputs": [
    {
     "data": {
      "text/html": [
       "<div>\n",
       "<style>\n",
       "    .dataframe thead tr:only-child th {\n",
       "        text-align: right;\n",
       "    }\n",
       "\n",
       "    .dataframe thead th {\n",
       "        text-align: left;\n",
       "    }\n",
       "\n",
       "    .dataframe tbody tr th {\n",
       "        vertical-align: top;\n",
       "    }\n",
       "</style>\n",
       "<table border=\"1\" class=\"dataframe\">\n",
       "  <thead>\n",
       "    <tr style=\"text-align: right;\">\n",
       "      <th>race</th>\n",
       "      <th>Amer Indian Aleut or Eskimo</th>\n",
       "      <th>Asian or Pacific Islander</th>\n",
       "      <th>Black</th>\n",
       "      <th>Other</th>\n",
       "      <th>White</th>\n",
       "    </tr>\n",
       "    <tr>\n",
       "      <th>income</th>\n",
       "      <th></th>\n",
       "      <th></th>\n",
       "      <th></th>\n",
       "      <th></th>\n",
       "      <th></th>\n",
       "    </tr>\n",
       "  </thead>\n",
       "  <tbody>\n",
       "    <tr>\n",
       "      <th>0</th>\n",
       "      <td>2115</td>\n",
       "      <td>5180</td>\n",
       "      <td>18569</td>\n",
       "      <td>3476</td>\n",
       "      <td>147762</td>\n",
       "    </tr>\n",
       "    <tr>\n",
       "      <th>1</th>\n",
       "      <td>35</td>\n",
       "      <td>316</td>\n",
       "      <td>408</td>\n",
       "      <td>71</td>\n",
       "      <td>8154</td>\n",
       "    </tr>\n",
       "  </tbody>\n",
       "</table>\n",
       "</div>"
      ],
      "text/plain": [
       "race     Amer Indian Aleut or Eskimo   Asian or Pacific Islander   Black  \\\n",
       "income                                                                     \n",
       "0                               2115                        5180   18569   \n",
       "1                                 35                         316     408   \n",
       "\n",
       "race     Other   White  \n",
       "income                  \n",
       "0         3476  147762  \n",
       "1           71    8154  "
      ]
     },
     "execution_count": 206,
     "metadata": {},
     "output_type": "execute_result"
    }
   ],
   "source": [
    "#race variable exploration with income\n",
    "\n",
    "table = pd.crosstab(index=df[\"income\"],columns=df[\"race\"])\n",
    "\n",
    "table\n",
    "\n",
    "#clearly class '1' (>50,000)dominated by observations from white race\n"
   ]
  },
  {
   "cell_type": "code",
   "execution_count": 207,
   "metadata": {},
   "outputs": [
    {
     "data": {
      "text/html": [
       "<div>\n",
       "<style>\n",
       "    .dataframe thead tr:only-child th {\n",
       "        text-align: right;\n",
       "    }\n",
       "\n",
       "    .dataframe thead th {\n",
       "        text-align: left;\n",
       "    }\n",
       "\n",
       "    .dataframe tbody tr th {\n",
       "        vertical-align: top;\n",
       "    }\n",
       "</style>\n",
       "<table border=\"1\" class=\"dataframe\">\n",
       "  <thead>\n",
       "    <tr style=\"text-align: right;\">\n",
       "      <th>origin</th>\n",
       "      <th>All other</th>\n",
       "      <th>Central or South American</th>\n",
       "      <th>Chicano</th>\n",
       "      <th>Cuban</th>\n",
       "      <th>Do not know</th>\n",
       "      <th>Mexican (Mexicano)</th>\n",
       "      <th>Mexican-American</th>\n",
       "      <th>NA</th>\n",
       "      <th>Other Spanish</th>\n",
       "      <th>Puerto Rican</th>\n",
       "    </tr>\n",
       "    <tr>\n",
       "      <th>income</th>\n",
       "      <th></th>\n",
       "      <th></th>\n",
       "      <th></th>\n",
       "      <th></th>\n",
       "      <th></th>\n",
       "      <th></th>\n",
       "      <th></th>\n",
       "      <th></th>\n",
       "      <th></th>\n",
       "      <th></th>\n",
       "    </tr>\n",
       "  </thead>\n",
       "  <tbody>\n",
       "    <tr>\n",
       "      <th>0</th>\n",
       "      <td>150854</td>\n",
       "      <td>3713</td>\n",
       "      <td>286</td>\n",
       "      <td>1044</td>\n",
       "      <td>284</td>\n",
       "      <td>6956</td>\n",
       "      <td>7669</td>\n",
       "      <td>786</td>\n",
       "      <td>2340</td>\n",
       "      <td>3170</td>\n",
       "    </tr>\n",
       "    <tr>\n",
       "      <th>1</th>\n",
       "      <td>8508</td>\n",
       "      <td>63</td>\n",
       "      <td>3</td>\n",
       "      <td>47</td>\n",
       "      <td>4</td>\n",
       "      <td>70</td>\n",
       "      <td>132</td>\n",
       "      <td>44</td>\n",
       "      <td>62</td>\n",
       "      <td>51</td>\n",
       "    </tr>\n",
       "  </tbody>\n",
       "</table>\n",
       "</div>"
      ],
      "text/plain": [
       "origin   All other   Central or South American   Chicano   Cuban  \\\n",
       "income                                                             \n",
       "0           150854                        3713       286    1044   \n",
       "1             8508                          63         3      47   \n",
       "\n",
       "origin   Do not know   Mexican (Mexicano)   Mexican-American   NA  \\\n",
       "income                                                              \n",
       "0                284                 6956               7669  786   \n",
       "1                  4                   70                132   44   \n",
       "\n",
       "origin   Other Spanish   Puerto Rican  \n",
       "income                                 \n",
       "0                 2340           3170  \n",
       "1                   62             51  "
      ]
     },
     "execution_count": 207,
     "metadata": {},
     "output_type": "execute_result"
    }
   ],
   "source": [
    "#origin variable with income\n",
    "table = pd.crosstab(index=df[\"income\"],columns=df[\"origin\"])\n",
    "table\n",
    "\n",
    "#american origin people dominate the class'1'"
   ]
  },
  {
   "cell_type": "code",
   "execution_count": 208,
   "metadata": {},
   "outputs": [
    {
     "data": {
      "text/html": [
       "<div>\n",
       "<style>\n",
       "    .dataframe thead tr:only-child th {\n",
       "        text-align: right;\n",
       "    }\n",
       "\n",
       "    .dataframe thead th {\n",
       "        text-align: left;\n",
       "    }\n",
       "\n",
       "    .dataframe tbody tr th {\n",
       "        vertical-align: top;\n",
       "    }\n",
       "</style>\n",
       "<table border=\"1\" class=\"dataframe\">\n",
       "  <thead>\n",
       "    <tr style=\"text-align: right;\">\n",
       "      <th>sex</th>\n",
       "      <th>Female</th>\n",
       "      <th>Male</th>\n",
       "    </tr>\n",
       "    <tr>\n",
       "      <th>income</th>\n",
       "      <th></th>\n",
       "      <th></th>\n",
       "    </tr>\n",
       "  </thead>\n",
       "  <tbody>\n",
       "    <tr>\n",
       "      <th>0</th>\n",
       "      <td>97031</td>\n",
       "      <td>80071</td>\n",
       "    </tr>\n",
       "    <tr>\n",
       "      <th>1</th>\n",
       "      <td>2047</td>\n",
       "      <td>6937</td>\n",
       "    </tr>\n",
       "  </tbody>\n",
       "</table>\n",
       "</div>"
      ],
      "text/plain": [
       "sex      Female   Male\n",
       "income                \n",
       "0         97031  80071\n",
       "1          2047   6937"
      ]
     },
     "execution_count": 208,
     "metadata": {},
     "output_type": "execute_result"
    }
   ],
   "source": [
    "#income vs sex\n",
    "#dominated by males\n",
    "\n",
    "table = pd.crosstab(index=df[\"income\"],columns=df[\"sex\"])\n",
    "\n",
    "table"
   ]
  },
  {
   "cell_type": "code",
   "execution_count": 209,
   "metadata": {},
   "outputs": [
    {
     "data": {
      "text/html": [
       "<div>\n",
       "<style>\n",
       "    .dataframe thead tr:only-child th {\n",
       "        text-align: right;\n",
       "    }\n",
       "\n",
       "    .dataframe thead th {\n",
       "        text-align: left;\n",
       "    }\n",
       "\n",
       "    .dataframe tbody tr th {\n",
       "        vertical-align: top;\n",
       "    }\n",
       "</style>\n",
       "<table border=\"1\" class=\"dataframe\">\n",
       "  <thead>\n",
       "    <tr style=\"text-align: right;\">\n",
       "      <th>prev_region</th>\n",
       "      <th>Abroad</th>\n",
       "      <th>Midwest</th>\n",
       "      <th>Northeast</th>\n",
       "      <th>Not in universe</th>\n",
       "      <th>South</th>\n",
       "      <th>West</th>\n",
       "    </tr>\n",
       "    <tr>\n",
       "      <th>income</th>\n",
       "      <th></th>\n",
       "      <th></th>\n",
       "      <th></th>\n",
       "      <th></th>\n",
       "      <th></th>\n",
       "      <th></th>\n",
       "    </tr>\n",
       "  </thead>\n",
       "  <tbody>\n",
       "    <tr>\n",
       "      <th>0</th>\n",
       "      <td>485</td>\n",
       "      <td>3274</td>\n",
       "      <td>2441</td>\n",
       "      <td>162711</td>\n",
       "      <td>4482</td>\n",
       "      <td>3709</td>\n",
       "    </tr>\n",
       "    <tr>\n",
       "      <th>1</th>\n",
       "      <td>14</td>\n",
       "      <td>80</td>\n",
       "      <td>109</td>\n",
       "      <td>8518</td>\n",
       "      <td>142</td>\n",
       "      <td>121</td>\n",
       "    </tr>\n",
       "  </tbody>\n",
       "</table>\n",
       "</div>"
      ],
      "text/plain": [
       "prev_region   Abroad   Midwest   Northeast   Not in universe   South   West\n",
       "income                                                                     \n",
       "0                485      3274        2441            162711    4482   3709\n",
       "1                 14        80         109              8518     142    121"
      ]
     },
     "execution_count": 209,
     "metadata": {},
     "output_type": "execute_result"
    }
   ],
   "source": [
    "#income with previous region\n",
    "#cant include this variable as most of the observations are Not in universe\n",
    "table = pd.crosstab(index=df[\"income\"],columns=df[\"prev_region\"])\n",
    "\n",
    "table"
   ]
  },
  {
   "cell_type": "code",
   "execution_count": 210,
   "metadata": {},
   "outputs": [
    {
     "data": {
      "text/html": [
       "<div>\n",
       "<style>\n",
       "    .dataframe thead tr:only-child th {\n",
       "        text-align: right;\n",
       "    }\n",
       "\n",
       "    .dataframe thead th {\n",
       "        text-align: left;\n",
       "    }\n",
       "\n",
       "    .dataframe tbody tr th {\n",
       "        vertical-align: top;\n",
       "    }\n",
       "</style>\n",
       "<table border=\"1\" class=\"dataframe\">\n",
       "  <thead>\n",
       "    <tr style=\"text-align: right;\">\n",
       "      <th>tax_stat</th>\n",
       "      <th>Head of household</th>\n",
       "      <th>Joint both 65+</th>\n",
       "      <th>Joint both under 65</th>\n",
       "      <th>Joint one under 65 &amp; one 65+</th>\n",
       "      <th>Nonfiler</th>\n",
       "      <th>Single</th>\n",
       "    </tr>\n",
       "    <tr>\n",
       "      <th>income</th>\n",
       "      <th></th>\n",
       "      <th></th>\n",
       "      <th></th>\n",
       "      <th></th>\n",
       "      <th></th>\n",
       "      <th></th>\n",
       "    </tr>\n",
       "  </thead>\n",
       "  <tbody>\n",
       "    <tr>\n",
       "      <th>0</th>\n",
       "      <td>6511</td>\n",
       "      <td>7366</td>\n",
       "      <td>53733</td>\n",
       "      <td>3333</td>\n",
       "      <td>74283</td>\n",
       "      <td>31876</td>\n",
       "    </tr>\n",
       "    <tr>\n",
       "      <th>1</th>\n",
       "      <td>351</td>\n",
       "      <td>258</td>\n",
       "      <td>6512</td>\n",
       "      <td>196</td>\n",
       "      <td>35</td>\n",
       "      <td>1632</td>\n",
       "    </tr>\n",
       "  </tbody>\n",
       "</table>\n",
       "</div>"
      ],
      "text/plain": [
       "tax_stat   Head of household   Joint both 65+   Joint both under 65  \\\n",
       "income                                                                \n",
       "0                       6511             7366                 53733   \n",
       "1                        351              258                  6512   \n",
       "\n",
       "tax_stat   Joint one under 65 & one 65+   Nonfiler   Single  \n",
       "income                                                       \n",
       "0                                  3333      74283    31876  \n",
       "1                                   196         35     1632  "
      ]
     },
     "execution_count": 210,
     "metadata": {},
     "output_type": "execute_result"
    }
   ],
   "source": [
    "#filed taxes? with income\n",
    "table = pd.crosstab(index=df[\"income\"],columns=df[\"tax_stat\"])\n",
    "table\n",
    "\n",
    "#joint incomes have a great contribution for the class 1"
   ]
  },
  {
   "cell_type": "code",
   "execution_count": 211,
   "metadata": {},
   "outputs": [
    {
     "data": {
      "text/html": [
       "<div>\n",
       "<style>\n",
       "    .dataframe thead tr:only-child th {\n",
       "        text-align: right;\n",
       "    }\n",
       "\n",
       "    .dataframe thead th {\n",
       "        text-align: left;\n",
       "    }\n",
       "\n",
       "    .dataframe tbody tr th {\n",
       "        vertical-align: top;\n",
       "    }\n",
       "</style>\n",
       "<table border=\"1\" class=\"dataframe\">\n",
       "  <thead>\n",
       "    <tr style=\"text-align: right;\">\n",
       "      <th>business_or_Selfemp</th>\n",
       "      <th>0</th>\n",
       "      <th>1</th>\n",
       "      <th>2</th>\n",
       "    </tr>\n",
       "    <tr>\n",
       "      <th>income</th>\n",
       "      <th></th>\n",
       "      <th></th>\n",
       "      <th></th>\n",
       "    </tr>\n",
       "  </thead>\n",
       "  <tbody>\n",
       "    <tr>\n",
       "      <th>0</th>\n",
       "      <td>161500</td>\n",
       "      <td>1900</td>\n",
       "      <td>13702</td>\n",
       "    </tr>\n",
       "    <tr>\n",
       "      <th>1</th>\n",
       "      <td>7597</td>\n",
       "      <td>436</td>\n",
       "      <td>951</td>\n",
       "    </tr>\n",
       "  </tbody>\n",
       "</table>\n",
       "</div>"
      ],
      "text/plain": [
       "business_or_Selfemp       0     1      2\n",
       "income                                  \n",
       "0                    161500  1900  13702\n",
       "1                      7597   436    951"
      ]
     },
     "execution_count": 211,
     "metadata": {},
     "output_type": "execute_result"
    }
   ],
   "source": [
    "#Observations who are self employed or business or belong to other category\n",
    "\n",
    "table = pd.crosstab(index=df[\"income\"],columns=df[\"business_or_Selfemp\"])\n",
    "\n",
    "table"
   ]
  },
  {
   "cell_type": "code",
   "execution_count": 212,
   "metadata": {
    "collapsed": true
   },
   "outputs": [],
   "source": [
    "#replace the 'not in universe' value with -999 with regex\n",
    "\n",
    "df=df.replace(to_replace='Not', value=-999, regex=True)\n",
    "\n",
    "#replace -999 with nan for interpretation\n",
    "df=df.replace(-999, np.nan)\n"
   ]
  },
  {
   "cell_type": "code",
   "execution_count": 213,
   "metadata": {},
   "outputs": [
    {
     "data": {
      "text/plain": [
       "age                         0\n",
       "class                   97762\n",
       "detail_industry             0\n",
       "detail_occupation           0\n",
       "education                   0\n",
       "wage_hr                     0\n",
       "enroll_inst_last_wk    173939\n",
       "marital_Status              0\n",
       "major_industry          98196\n",
       "major_occupation        98196\n",
       "race                        0\n",
       "origin                      0\n",
       "sex                         0\n",
       "mem_laborUnion         172864\n",
       "reason_unemp           180275\n",
       "emp_stat                25728\n",
       "capgain                     0\n",
       "caploss                     0\n",
       "dividends                   0\n",
       "tax_stat                    0\n",
       "prev_region            171229\n",
       "prev_state             171229\n",
       "dfamily_stat            12124\n",
       "shousehold_stat             0\n",
       "inst_weight                 0\n",
       "mig_msa                  1913\n",
       "mig_in_reg               1499\n",
       "veteran_benefits         1499\n",
       "inHouse_oneyr           94343\n",
       "mig_prev_sun            78385\n",
       "num_emp_Empl                0\n",
       "fam_under_18           131324\n",
       "father_birth                0\n",
       "mother_birth                0\n",
       "birth_country               0\n",
       "citizenship             12853\n",
       "business_or_Selfemp         0\n",
       "veteran_ques           184268\n",
       "veteran_benefits            0\n",
       "weeks_yr                    0\n",
       "year                        0\n",
       "income                      0\n",
       "dtype: int64"
      ]
     },
     "execution_count": 213,
     "metadata": {},
     "output_type": "execute_result"
    }
   ],
   "source": [
    "#checking nulls now\n",
    "df.isnull().sum()"
   ]
  },
  {
   "cell_type": "code",
   "execution_count": 214,
   "metadata": {},
   "outputs": [
    {
     "data": {
      "text/plain": [
       "age                    False\n",
       "class                   True\n",
       "detail_industry        False\n",
       "detail_occupation      False\n",
       "education              False\n",
       "wage_hr                False\n",
       "enroll_inst_last_wk     True\n",
       "marital_Status         False\n",
       "major_industry          True\n",
       "major_occupation        True\n",
       "race                   False\n",
       "origin                 False\n",
       "sex                    False\n",
       "mem_laborUnion          True\n",
       "reason_unemp            True\n",
       "emp_stat               False\n",
       "capgain                False\n",
       "caploss                False\n",
       "dividends              False\n",
       "tax_stat               False\n",
       "prev_region             True\n",
       "prev_state              True\n",
       "dfamily_stat           False\n",
       "shousehold_stat        False\n",
       "inst_weight            False\n",
       "mig_msa                False\n",
       "mig_in_reg             False\n",
       "veteran_benefits       False\n",
       "inHouse_oneyr           True\n",
       "mig_prev_sun            True\n",
       "num_emp_Empl           False\n",
       "fam_under_18            True\n",
       "father_birth           False\n",
       "mother_birth           False\n",
       "birth_country          False\n",
       "citizenship            False\n",
       "business_or_Selfemp    False\n",
       "veteran_ques            True\n",
       "veteran_benefits       False\n",
       "weeks_yr               False\n",
       "year                   False\n",
       "income                 False\n",
       "dtype: bool"
      ]
     },
     "execution_count": 214,
     "metadata": {},
     "output_type": "execute_result"
    }
   ],
   "source": [
    "#dropping the columns where missing value is more than 30%\n",
    "\n",
    "df.isnull().sum()>=0.3*len(df)"
   ]
  },
  {
   "cell_type": "code",
   "execution_count": 215,
   "metadata": {
    "collapsed": true
   },
   "outputs": [],
   "source": [
    "#columns to drop are class, enroll_inst_last_wk,major_industry, major_occupation, mem_labor_union,readon_unemp, prev_region, prev_state, inHouse_oneyr,\n",
    "#mig_prev_sun, fam_under_18, veteran_ques,mig_msa\n",
    "\n",
    "#13 columns to be dropped"
   ]
  },
  {
   "cell_type": "code",
   "execution_count": 216,
   "metadata": {},
   "outputs": [
    {
     "data": {
      "text/plain": [
       " ?                   92844\n",
       " Nonmover            76886\n",
       " MSA to MSA           9907\n",
       " NonMSA to nonMSA     2701\n",
       " MSA to nonMSA         764\n",
       " NonMSA to MSA         576\n",
       " Abroad to MSA         423\n",
       " Abroad to nonMSA       72\n",
       "Name: mig_msa, dtype: int64"
      ]
     },
     "execution_count": 216,
     "metadata": {},
     "output_type": "execute_result"
    }
   ],
   "source": [
    "#check for nulls in migration column\n",
    "#? dominates the class count and can be set as missing value\n",
    "df['mig_msa'].value_counts()\n"
   ]
  },
  {
   "cell_type": "code",
   "execution_count": 217,
   "metadata": {},
   "outputs": [
    {
     "data": {
      "text/plain": [
       " All other                    159362\n",
       " Mexican-American               7801\n",
       " Mexican (Mexicano)             7026\n",
       " Central or South American      3776\n",
       " Puerto Rican                   3221\n",
       " Other Spanish                  2402\n",
       " Cuban                          1091\n",
       " NA                              830\n",
       " Chicano                         289\n",
       " Do not know                     288\n",
       "Name: origin, dtype: int64"
      ]
     },
     "execution_count": 217,
     "metadata": {},
     "output_type": "execute_result"
    }
   ],
   "source": [
    "#origin column exploration\n",
    "\n",
    "df['origin'].value_counts()"
   ]
  },
  {
   "cell_type": "code",
   "execution_count": 218,
   "metadata": {},
   "outputs": [
    {
     "data": {
      "text/plain": [
       " Children or Armed Forces              116952\n",
       " Full-time schedules                    35964\n",
       " PT for non-econ reasons usually FT      2916\n",
       " Unemployed full-time                    2214\n",
       " PT for econ reasons usually PT          1055\n",
       " Unemployed part- time                    796\n",
       " PT for econ reasons usually FT           461\n",
       "Name: emp_stat, dtype: int64"
      ]
     },
     "execution_count": 218,
     "metadata": {},
     "output_type": "execute_result"
    }
   ],
   "source": [
    "#emp_stat column counts\n",
    "df['emp_stat'].value_counts()"
   ]
  },
  {
   "cell_type": "code",
   "execution_count": 219,
   "metadata": {
    "collapsed": true
   },
   "outputs": [],
   "source": [
    "#dropping the columns from our observations\n",
    "df.drop(['class','enroll_inst_last_wk','major_industry','major_occupation','mem_laborUnion','reason_unemp','prev_region','prev_state','inHouse_oneyr','mig_prev_sun','fam_under_18','veteran_ques','mig_msa'],inplace=True,axis=1)\n"
   ]
  },
  {
   "cell_type": "code",
   "execution_count": 220,
   "metadata": {
    "collapsed": true
   },
   "outputs": [],
   "source": [
    "#create a copy of data\n",
    "\n",
    "X=df"
   ]
  },
  {
   "cell_type": "code",
   "execution_count": 221,
   "metadata": {
    "collapsed": true
   },
   "outputs": [],
   "source": [
    "#including only predictors\n",
    "\n",
    "#drop the target variable\n",
    "X=df.drop('income', axis=1, level=None, inplace=False, errors='raise')\n",
    "\n",
    "#origin column dominated by all other category more than 60% of the class \n",
    "\n",
    "X=X.drop('origin', axis=1, level=None, inplace=False, errors='raise')\n",
    "\n",
    "#emp-stat column dominated by children or armed forces category more than 60% of the class \n",
    "X=X.drop('emp_stat', axis=1, level=None, inplace=False, errors='raise')\n",
    "\n",
    "#similar to mig_msa column, mig_in_region column is dominated by 'missing values'\n",
    "\n",
    "X=X.drop('mig_in_reg', axis=1, level=None, inplace=False, errors='raise')\n",
    "\n",
    "#this doesnt add much weight to the prediction power\n",
    "X=X.drop('veteran_benefits', axis=1, level=None, inplace=False, errors='raise')\n",
    "\n",
    "\n",
    "#father and mother birth country cannot be related to income of our employee \n",
    "X=X.drop('father_birth', axis=1, level=None, inplace=False, errors='raise')\n",
    "X=X.drop('mother_birth', axis=1, level=None, inplace=False, errors='raise')\n",
    "\n",
    "#year can be dropped it doesnt give information about income\n",
    "X=X.drop('year', axis=1, level=None, inplace=False, errors='raise')\n",
    "\n",
    "\n",
    "#caploss  can be dropped as we already have capgain column\n",
    "\n",
    "X=X.drop('caploss', axis=1, level=None, inplace=False, errors='raise')\n",
    "\n",
    "#birth_country and citizenship will not add any value unless we have the visa status and drop the race column as well\n",
    "\n",
    "\n",
    "X=X.drop('birth_country', axis=1, level=None, inplace=False, errors='raise')\n",
    "\n",
    "\n",
    "X=X.drop('citizenship', axis=1, level=None, inplace=False, errors='raise')\n",
    "\n",
    "\n",
    "X=X.drop('race', axis=1, level=None, inplace=False, errors='raise')\n",
    "\n"
   ]
  },
  {
   "cell_type": "code",
   "execution_count": 222,
   "metadata": {},
   "outputs": [
    {
     "data": {
      "text/plain": [
       "(186086, 16)"
      ]
     },
     "execution_count": 222,
     "metadata": {},
     "output_type": "execute_result"
    }
   ],
   "source": [
    "#final shape\n",
    "X.shape"
   ]
  },
  {
   "cell_type": "code",
   "execution_count": 223,
   "metadata": {},
   "outputs": [
    {
     "data": {
      "text/plain": [
       "Index([u'age', u'detail_industry', u'detail_occupation', u'education',\n",
       "       u'wage_hr', u'marital_Status', u'sex', u'capgain', u'dividends',\n",
       "       u'tax_stat', u'dfamily_stat', u'shousehold_stat', u'inst_weight',\n",
       "       u'num_emp_Empl', u'business_or_Selfemp', u'weeks_yr'],\n",
       "      dtype='object')"
      ]
     },
     "execution_count": 223,
     "metadata": {},
     "output_type": "execute_result"
    }
   ],
   "source": [
    "X.columns\n"
   ]
  },
  {
   "cell_type": "code",
   "execution_count": 224,
   "metadata": {
    "collapsed": true
   },
   "outputs": [],
   "source": [
    "#encoding the categorical variables\n",
    "#Auto encodes any dataframe column of type category or object.\n",
    "def dummyEncode(dj):\n",
    "        columnsToEncode = list(dj.select_dtypes(include=['category','object']))\n",
    "        le = LabelEncoder()\n",
    "        for feature in columnsToEncode:\n",
    "            try:\n",
    "                dj[feature] = le.fit_transform(dj[feature])\n",
    "            except:\n",
    "                print('Error encoding '+feature)\n",
    "        return dj"
   ]
  },
  {
   "cell_type": "code",
   "execution_count": 225,
   "metadata": {
    "collapsed": true
   },
   "outputs": [],
   "source": [
    "X=dummyEncode(X)"
   ]
  },
  {
   "cell_type": "code",
   "execution_count": 226,
   "metadata": {
    "collapsed": true
   },
   "outputs": [],
   "source": [
    "y=df['income']"
   ]
  },
  {
   "cell_type": "code",
   "execution_count": 227,
   "metadata": {},
   "outputs": [
    {
     "name": "stdout",
     "output_type": "stream",
     "text": [
      "('Training score: ', 0.95201117768761589)\n",
      "('Testing score: ', 0.95306034714385512)\n"
     ]
    }
   ],
   "source": [
    "#import the model for Logistic regression\n",
    "from sklearn.linear_model import LogisticRegression \n",
    "X_train, X_test, y_train, y_test = train_test_split(X,y, test_size=0.2, random_state = 0)\n",
    "\n",
    "# Initialize logistic regression model\n",
    "logis=LogisticRegression(random_state=42)\n",
    "\n",
    "logis.fit(X_train, y_train) #fitting the model with the logistic Regression Model\n",
    "#calculate the training and Testing score\n",
    "logis_score_train = logis.score(X_train,y_train)\n",
    "print(\"Training score: \", logis_score_train)\n",
    "logis_score_test = logis.score(X_test,y_test)\n",
    "print(\"Testing score: \", logis_score_test)"
   ]
  },
  {
   "cell_type": "code",
   "execution_count": 228,
   "metadata": {},
   "outputs": [
    {
     "name": "stdout",
     "output_type": "stream",
     "text": [
      "AUC: 0.919 (0.004)\n",
      "[ 0.92479034  0.92115957  0.91334726  0.92083687  0.92073136  0.91816588\n",
      "  0.92068213  0.91960909  0.92208621  0.90948068]\n"
     ]
    }
   ],
   "source": [
    "# Using 10 fold Cross-Validation to train our Logistic Regression Model\n",
    "kfold = model_selection.KFold(n_splits=10, random_state=0)\n",
    "modelCV = LogisticRegression(class_weight = \"balanced\")\n",
    "scoring = 'roc_auc'\n",
    "results = model_selection.cross_val_score(modelCV, X, y, cv=kfold, scoring=scoring)\n",
    "print(\"AUC: %.3f (%.3f)\" % (results.mean(), results.std()))\n",
    "print(results)"
   ]
  },
  {
   "cell_type": "code",
   "execution_count": 229,
   "metadata": {},
   "outputs": [
    {
     "data": {
      "image/png": "[encoded data removed]",
      "text/plain": [
       "<matplotlib.figure.Figure at 0x7f8b66c55290>"
      ]
     },
     "metadata": {},
     "output_type": "display_data"
    }
   ],
   "source": [
    "predictions = logis.predict(X_test)\n",
    "cm = confusion_matrix(y_test, predictions) \n",
    "#The confusion matrix is used to evaluate the quality of the output of the DT-classifier  \n",
    "#We use it in combination with the heatmap to have a more visual interpretation of the\n",
    "#misclassified objects (employees).\n",
    "\n",
    "#values are stored in the dataframe df_cm and reused to build the heatmap\n",
    "df_cm = pd.DataFrame(cm, index = [i for i in np.unique(y)],  #create a dataframe for the unique entries in the target \n",
    "                  columns = [i for i in np.unique(y)])\n",
    " \n",
    "plt.figure(figsize = (5,5)) #we plot the heatmap with a size of 5 to 5 inches\n",
    "sns.heatmap(df_cm, annot=True,  #annot=True is printing the number in each category\n",
    "         fmt='.0f', #without a decimal place because here are only whole numbers possible\n",
    "         xticklabels = [\"below\", \"above\"] , yticklabels = [\"below\", \"above\"] )\n",
    "\n",
    "plt.ylabel('True label')\n",
    "plt.xlabel('Predicted label')\n",
    "plt.title('Confusion Matrix on test data with LOGISTIC-Classifier');"
   ]
  },
  {
   "cell_type": "code",
   "execution_count": 230,
   "metadata": {},
   "outputs": [
    {
     "name": "stdout",
     "output_type": "stream",
     "text": [
      "[[35281   149]\n",
      " [ 1598   190]]\n",
      "             precision    recall  f1-score   support\n",
      "\n",
      "          0       0.96      1.00      0.98     35430\n",
      "          1       0.56      0.11      0.18      1788\n",
      "\n",
      "avg / total       0.94      0.95      0.94     37218\n",
      "\n"
     ]
    }
   ],
   "source": [
    "print metrics.confusion_matrix(y_test, predictions)\n",
    "print metrics.classification_report(y_test, predictions)"
   ]
  },
  {
   "cell_type": "code",
   "execution_count": 231,
   "metadata": {
    "collapsed": true
   },
   "outputs": [],
   "source": [
    "#Modeling with decision trees \n",
    "from sklearn.tree import DecisionTreeClassifier"
   ]
  },
  {
   "cell_type": "code",
   "execution_count": 232,
   "metadata": {},
   "outputs": [
    {
     "data": {
      "text/plain": [
       "DecisionTreeClassifier(class_weight=None, criterion='gini', max_depth=None,\n",
       "            max_features=None, max_leaf_nodes=None,\n",
       "            min_impurity_decrease=0.0, min_impurity_split=None,\n",
       "            min_samples_leaf=1, min_samples_split=2,\n",
       "            min_weight_fraction_leaf=0.0, presort=False, random_state=42,\n",
       "            splitter='best')"
      ]
     },
     "execution_count": 232,
     "metadata": {},
     "output_type": "execute_result"
    }
   ],
   "source": [
    "dt = DecisionTreeClassifier(random_state=42) #instantiate the decision tree classifier\n",
    "dt.fit(X_train, y_train)"
   ]
  },
  {
   "cell_type": "code",
   "execution_count": 233,
   "metadata": {},
   "outputs": [
    {
     "name": "stdout",
     "output_type": "stream",
     "text": [
      "('Score: ', 0.99999328263965392)\n",
      "('Cross validation score, 10-fold cv: \\n', array([ 0.93679473,  0.93464535,  0.93605159,  0.93611876,  0.93585007,\n",
      "        0.93484248,  0.93698777,  0.93598012,  0.93557705,  0.93759237]))\n",
      "('Mean cross validation score: ', 0.93604402967168843)\n"
     ]
    }
   ],
   "source": [
    "# on the training data\n",
    "print('Score: ', dt.score(X_train, y_train))\n",
    "print('Cross validation score, 10-fold cv: \\n', cross_val_score(dt, X_train, y_train, cv=10)) \n",
    "#10-fold cross validation and  mean-value of 10-fold cross validation\n",
    "print('Mean cross validation score: ', cross_val_score(dt,X_train,y_train,cv=10).mean())\n"
   ]
  },
  {
   "cell_type": "code",
   "execution_count": 234,
   "metadata": {
    "collapsed": true
   },
   "outputs": [],
   "source": [
    "predictions = dt.predict(X_test) # and now use of the classifier on the testing set and instantiate for predicting"
   ]
  },
  {
   "cell_type": "code",
   "execution_count": 235,
   "metadata": {},
   "outputs": [
    {
     "name": "stdout",
     "output_type": "stream",
     "text": [
      "[[34141  1289]\n",
      " [ 1086   702]]\n",
      "             precision    recall  f1-score   support\n",
      "\n",
      "          0       0.97      0.96      0.97     35430\n",
      "          1       0.35      0.39      0.37      1788\n",
      "\n",
      "avg / total       0.94      0.94      0.94     37218\n",
      "\n"
     ]
    }
   ],
   "source": [
    "print metrics.confusion_matrix(y_test, predictions)\n",
    "print metrics.classification_report(y_test, predictions)"
   ]
  },
  {
   "cell_type": "code",
   "execution_count": 236,
   "metadata": {},
   "outputs": [
    {
     "data": {
      "image/png": "[encoded data removed]",
      "text/plain": [
       "<matplotlib.figure.Figure at 0x7f8b66a1ff10>"
      ]
     },
     "metadata": {},
     "output_type": "display_data"
    }
   ],
   "source": [
    "cm = confusion_matrix(y_test, predictions) \n",
    "#The confusion matrix is used to evaluate the quality of the output of the DT-classifier  \n",
    "#We use it in combination with the heatmap to have a more visual interpretation of the\n",
    "#misclassified objects (employees).\n",
    "\n",
    "#values are stored in the dataframe df_cm and reused to build the heatmap\n",
    "df_cm = pd.DataFrame(cm, index = [i for i in np.unique(y)],  #create a dataframe for the unique entries in the target \n",
    "                  columns = [i for i in np.unique(y)])\n",
    " \n",
    "plt.figure(figsize = (5,5)) #we plot the heatmap with a size of 5 to 5 inches\n",
    "sns.heatmap(df_cm, annot=True,  #annot=True is printing the number in each category\n",
    "         fmt='.0f', #without a decimal place because here are only whole numbers possible\n",
    "         xticklabels = [\"below\", \"above\"] , yticklabels = [\"below\", \"above\"] )\n",
    "\n",
    "plt.ylabel('True label')\n",
    "plt.xlabel('Predicted label')\n",
    "plt.title('Confusion Matrix on test data with DT-Classifier');"
   ]
  },
  {
   "cell_type": "code",
   "execution_count": 237,
   "metadata": {},
   "outputs": [
    {
     "name": "stdout",
     "output_type": "stream",
     "text": [
      "Feature importances: \n",
      "\n",
      "('\\xe2\\x80\\xa2', 'age', ':', 0.13799790321427777)\n",
      "('\\xe2\\x80\\xa2', 'detail_industry', ':', 0.087542090075382467)\n",
      "('\\xe2\\x80\\xa2', 'detail_occupation', ':', 0.13536428284375049)\n",
      "('\\xe2\\x80\\xa2', 'education', ':', 0.061447007969687641)\n",
      "('\\xe2\\x80\\xa2', 'wage_hr', ':', 0.0032257571425362733)\n",
      "('\\xe2\\x80\\xa2', 'marital_Status', ':', 0.01817004311987824)\n",
      "('\\xe2\\x80\\xa2', 'sex', ':', 0.041114953731410359)\n",
      "('\\xe2\\x80\\xa2', 'capgain', ':', 0.040336241212174079)\n",
      "('\\xe2\\x80\\xa2', 'dividends', ':', 0.075028704802679203)\n",
      "('\\xe2\\x80\\xa2', 'tax_stat', ':', 0.018524590697557186)\n",
      "('\\xe2\\x80\\xa2', 'dfamily_stat', ':', 0.017164471200634999)\n",
      "('\\xe2\\x80\\xa2', 'shousehold_stat', ':', 0.012806489037963456)\n",
      "('\\xe2\\x80\\xa2', 'inst_weight', ':', 0.2109037249835633)\n",
      "('\\xe2\\x80\\xa2', 'num_emp_Empl', ':', 0.041516532205124239)\n",
      "('\\xe2\\x80\\xa2', 'business_or_Selfemp', ':', 0.018274244375643935)\n",
      "('\\xe2\\x80\\xa2', 'weeks_yr', ':', 0.080582963387736281)\n"
     ]
    }
   ],
   "source": [
    "importances = dt.feature_importances_ \n",
    "#The relative rank (i.e. importance) of a feature used as a \n",
    "#decision node in a tree can be used to assess the relative importance of that feature (with respect \n",
    "#to the predictability of the target variable)\n",
    "print(\"Feature importances: \\n\")\n",
    "for f in range(len(X.columns)):  #for-loop with iteration = number of features\n",
    "    print('•', X.columns[f], \":\", importances[f]) #print each  line"
   ]
  },
  {
   "cell_type": "code",
   "execution_count": 238,
   "metadata": {},
   "outputs": [
    {
     "data": {
      "text/plain": [
       "GridSearchCV(cv=10, error_score='raise',\n",
       "       estimator=DecisionTreeClassifier(class_weight=None, criterion='gini', max_depth=None,\n",
       "            max_features=None, max_leaf_nodes=None,\n",
       "            min_impurity_decrease=0.0, min_impurity_split=None,\n",
       "            min_samples_leaf=1, min_samples_split=2,\n",
       "            min_weight_fraction_leaf=0.0, presort=False, random_state=42,\n",
       "            splitter='best'),\n",
       "       fit_params=None, iid=True, n_jobs=1,\n",
       "       param_grid={'max_depth': array([3, 4, 5, 6, 7, 8, 9])},\n",
       "       pre_dispatch='2*n_jobs', refit=True, return_train_score='warn',\n",
       "       scoring=None, verbose=0)"
      ]
     },
     "execution_count": 238,
     "metadata": {},
     "output_type": "execute_result"
    }
   ],
   "source": [
    "\n",
    "#The grid search provided by GridSearchCV exhaustively \n",
    "\n",
    "#generates candidates from a grid of parameter values specified with the param_grid parameter.\n",
    "\n",
    "\n",
    "param_grid = {'max_depth': np.arange(3, 10)} \n",
    "\n",
    "#Return evenly spaced values within a given interval.\n",
    "#Values are generated within the half-open interval [start, stop) (in other words, the interval \n",
    "#including start but excluding stop). \n",
    "\n",
    "tree = GridSearchCV(dt, param_grid, cv = 10) \n",
    "\n",
    "#Exhaustive search over \n",
    "#specified parameter values; The parameters of the estimator used to apply these methods are \n",
    "#optimized by cross-validated grid-search over a parameter grid for an estimator. here 10 folds  \n",
    "\n",
    "tree.fit( X_train, y_train ) #we adapt the model to our training data"
   ]
  },
  {
   "cell_type": "code",
   "execution_count": 239,
   "metadata": {},
   "outputs": [
    {
     "data": {
      "text/plain": [
       "{'max_depth': 6}"
      ]
     },
     "execution_count": 239,
     "metadata": {},
     "output_type": "execute_result"
    }
   ],
   "source": [
    "#Hyperparameters cannot be learned by fitting the model, that is why we  use \n",
    "#the method best_params_ for returning the best hyperparameter (equal to the best depth of the tree)\n",
    "tree.best_params_"
   ]
  },
  {
   "cell_type": "code",
   "execution_count": 240,
   "metadata": {},
   "outputs": [
    {
     "data": {
      "text/plain": [
       "0.95547061826584623"
      ]
     },
     "execution_count": 240,
     "metadata": {},
     "output_type": "execute_result"
    }
   ],
   "source": [
    "tree.best_score_ #returning the best cross validated score for the classifier"
   ]
  },
  {
   "cell_type": "code",
   "execution_count": 241,
   "metadata": {},
   "outputs": [
    {
     "data": {
      "text/plain": [
       "DecisionTreeClassifier(class_weight=None, criterion='gini', max_depth=6,\n",
       "            max_features=None, max_leaf_nodes=None,\n",
       "            min_impurity_decrease=0.0, min_impurity_split=None,\n",
       "            min_samples_leaf=1, min_samples_split=2,\n",
       "            min_weight_fraction_leaf=0.0, presort=False, random_state=42,\n",
       "            splitter='best')"
      ]
     },
     "execution_count": 241,
     "metadata": {},
     "output_type": "execute_result"
    }
   ],
   "source": [
    "#Build Final Decision Tree Model\n",
    "clf_tree = DecisionTreeClassifier( max_depth = 6 , random_state=42) #insert the calculated best hyperparameter\n",
    "clf_tree.fit( X_train, y_train) #and fit the model again on the training data"
   ]
  },
  {
   "cell_type": "code",
   "execution_count": 242,
   "metadata": {
    "collapsed": true
   },
   "outputs": [],
   "source": [
    "#Now we use the configured classifier again to make predictions (target-variable) on our testing set   \n",
    "tree_test_pred = pd.DataFrame( { 'actual':  y_test, \n",
    "                            'predicted': clf_tree.predict( X_test ) } )"
   ]
  },
  {
   "cell_type": "code",
   "execution_count": 243,
   "metadata": {},
   "outputs": [
    {
     "data": {
      "text/plain": [
       "0.95555913805148052"
      ]
     },
     "execution_count": 243,
     "metadata": {},
     "output_type": "execute_result"
    }
   ],
   "source": [
    "metrics.accuracy_score( tree_test_pred.actual, tree_test_pred.predicted )\n",
    "#In multilabel classification, this function computes subset accuracy: \n",
    "#the set of labels predicted for a sample must exactly match the corresponding \n",
    "#set of labels in actual."
   ]
  },
  {
   "cell_type": "code",
   "execution_count": 86,
   "metadata": {
    "collapsed": true
   },
   "outputs": [],
   "source": [
    "#comparing logistic and decision trees I choose to go with the logistic which has better precision and recall when compared\n",
    "#to decision tree.\n",
    "\n",
    "#now applying the model on the test set"
   ]
  },
  {
   "cell_type": "code",
   "execution_count": 88,
   "metadata": {
    "collapsed": true
   },
   "outputs": [],
   "source": [
    "#for the test set\n",
    "\n",
    "#drop the columns \n",
    "df1.drop(['class','enroll_inst_last_wk','major_industry','major_occupation','mem_laborUnion','reason_unemp','prev_region','prev_state','inHouse_oneyr','mig_prev_sun','fam_under_18','veteran_ques','mig_msa'],inplace=True,axis=1)\n"
   ]
  },
  {
   "cell_type": "code",
   "execution_count": 142,
   "metadata": {
    "collapsed": true
   },
   "outputs": [],
   "source": [
    "#test features\n",
    "\n",
    "X_test=df1"
   ]
  },
  {
   "cell_type": "code",
   "execution_count": 143,
   "metadata": {
    "collapsed": true
   },
   "outputs": [],
   "source": [
    "#extra columns to be dropped \n",
    "\n",
    "#including only predictors\n",
    "\n",
    "#drop the target variable\n",
    "X_test=df1.drop('income', axis=1, level=None, inplace=False, errors='raise')\n",
    "\n",
    "#origin column dominated by all other category more than 60% of the class \n",
    "\n",
    "X_test=X_test.drop('origin', axis=1, level=None, inplace=False, errors='raise')\n",
    "\n",
    "#emp-stat column dominated by children or armed forces category more than 60% of the class \n",
    "X_test=X_test.drop('emp_stat', axis=1, level=None, inplace=False, errors='raise')\n",
    "\n",
    "#similar to mig_msa column, mig_in_region column is dominated by 'missing values'\n",
    "\n",
    "X_test=X_test.drop('mig_in_reg', axis=1, level=None, inplace=False, errors='raise')\n",
    "\n",
    "#this doesnt add much weight to the prediction power\n",
    "X_test=X_test.drop('veteran_benefits', axis=1, level=None, inplace=False, errors='raise')\n",
    "\n",
    "\n",
    "#father and mother birth country cannot be related to income of our employee \n",
    "X_test=X_test.drop('father_birth', axis=1, level=None, inplace=False, errors='raise')\n",
    "X_test=X_test.drop('mother_birth', axis=1, level=None, inplace=False, errors='raise')\n",
    "\n",
    "#year can be dropped it doesnt give information about income\n",
    "X_test=X_test.drop('year', axis=1, level=None, inplace=False, errors='raise')\n",
    "\n",
    "X_test=X_test.drop('mig_within_reg', axis=1, level=None, inplace=False, errors='raise')\n",
    "\n",
    "#birth_country and citizenship will not add any value unless we have the visa status and drop the race column as well\n",
    "\n",
    "\n",
    "X_test=X_test.drop('birth_country', axis=1, level=None, inplace=False, errors='raise')\n",
    "\n",
    "\n",
    "X_test=X_test.drop('citizenship', axis=1, level=None, inplace=False, errors='raise')\n",
    "\n",
    "\n",
    "X_test=X_test.drop('race', axis=1, level=None, inplace=False, errors='raise')\n",
    "\n",
    "\n",
    "X_test=X_test.drop('caploss', axis=1, level=None, inplace=False, errors='raise')\n",
    "\n"
   ]
  },
  {
   "cell_type": "code",
   "execution_count": 144,
   "metadata": {
    "collapsed": true
   },
   "outputs": [],
   "source": [
    "\n",
    "#target variable test set\n",
    "y_test=df1['income']"
   ]
  },
  {
   "cell_type": "code",
   "execution_count": 145,
   "metadata": {
    "collapsed": true
   },
   "outputs": [],
   "source": [
    "#apply on features of  test set\n",
    "\n",
    "\n",
    "X_test=dummyEncode(X_test)"
   ]
  },
  {
   "cell_type": "code",
   "execution_count": 147,
   "metadata": {},
   "outputs": [
    {
     "name": "stdout",
     "output_type": "stream",
     "text": [
      "('Training score: ', 0.9541126145975517)\n",
      "('Testing score: ', 0.94562003187618404)\n"
     ]
    }
   ],
   "source": [
    "# Initialize logistic regression model\n",
    "logis=LogisticRegression(random_state=21)\n",
    "\n",
    "result=logis.fit(X,y) #fitting the model with the logistic Regression Model\n",
    "\n",
    "\n",
    "#calculate the training and Testing score\n",
    "logis_score_train = logis.score(X,y)\n",
    "print(\"Training score: \", logis_score_train)\n",
    "logis_score_test = logis.score(X_test,y_test)\n",
    "print(\"Testing score: \", logis_score_test)"
   ]
  },
  {
   "cell_type": "code",
   "execution_count": 148,
   "metadata": {},
   "outputs": [
    {
     "data": {
      "text/html": [
       "<div>\n",
       "<style>\n",
       "    .dataframe thead tr:only-child th {\n",
       "        text-align: right;\n",
       "    }\n",
       "\n",
       "    .dataframe thead th {\n",
       "        text-align: left;\n",
       "    }\n",
       "\n",
       "    .dataframe tbody tr th {\n",
       "        vertical-align: top;\n",
       "    }\n",
       "</style>\n",
       "<table border=\"1\" class=\"dataframe\">\n",
       "  <thead>\n",
       "    <tr style=\"text-align: right;\">\n",
       "      <th></th>\n",
       "      <th>0</th>\n",
       "      <th>1</th>\n",
       "    </tr>\n",
       "  </thead>\n",
       "  <tbody>\n",
       "    <tr>\n",
       "      <th>0</th>\n",
       "      <td>age</td>\n",
       "      <td>[0.028592659212]</td>\n",
       "    </tr>\n",
       "    <tr>\n",
       "      <th>1</th>\n",
       "      <td>detail_industry</td>\n",
       "      <td>[0.00739037343646]</td>\n",
       "    </tr>\n",
       "    <tr>\n",
       "      <th>2</th>\n",
       "      <td>detail_occupation</td>\n",
       "      <td>[-0.0557671928891]</td>\n",
       "    </tr>\n",
       "    <tr>\n",
       "      <th>3</th>\n",
       "      <td>education</td>\n",
       "      <td>[0.0310267391951]</td>\n",
       "    </tr>\n",
       "    <tr>\n",
       "      <th>4</th>\n",
       "      <td>wage_hr</td>\n",
       "      <td>[-0.00187189534616]</td>\n",
       "    </tr>\n",
       "    <tr>\n",
       "      <th>5</th>\n",
       "      <td>marital_Status</td>\n",
       "      <td>[-0.111430065388]</td>\n",
       "    </tr>\n",
       "    <tr>\n",
       "      <th>6</th>\n",
       "      <td>sex</td>\n",
       "      <td>[1.55547586892]</td>\n",
       "    </tr>\n",
       "    <tr>\n",
       "      <th>7</th>\n",
       "      <td>capgain</td>\n",
       "      <td>[0.00017294617986]</td>\n",
       "    </tr>\n",
       "    <tr>\n",
       "      <th>8</th>\n",
       "      <td>dividends</td>\n",
       "      <td>[0.000566568175277]</td>\n",
       "    </tr>\n",
       "    <tr>\n",
       "      <th>9</th>\n",
       "      <td>tax_stat</td>\n",
       "      <td>[-0.11655129464]</td>\n",
       "    </tr>\n",
       "    <tr>\n",
       "      <th>10</th>\n",
       "      <td>dfamily_stat</td>\n",
       "      <td>[0.0141776838109]</td>\n",
       "    </tr>\n",
       "    <tr>\n",
       "      <th>11</th>\n",
       "      <td>shousehold_stat</td>\n",
       "      <td>[-0.0101141758289]</td>\n",
       "    </tr>\n",
       "    <tr>\n",
       "      <th>12</th>\n",
       "      <td>inst_weight</td>\n",
       "      <td>[7.74830564178e-05]</td>\n",
       "    </tr>\n",
       "    <tr>\n",
       "      <th>13</th>\n",
       "      <td>num_emp_Empl</td>\n",
       "      <td>[0.146320217235]</td>\n",
       "    </tr>\n",
       "    <tr>\n",
       "      <th>14</th>\n",
       "      <td>business_or_Selfemp</td>\n",
       "      <td>[-0.0319746474921]</td>\n",
       "    </tr>\n",
       "    <tr>\n",
       "      <th>15</th>\n",
       "      <td>weeks_yr</td>\n",
       "      <td>[0.065687393774]</td>\n",
       "    </tr>\n",
       "  </tbody>\n",
       "</table>\n",
       "</div>"
      ],
      "text/plain": [
       "                      0                    1\n",
       "0                   age     [0.028592659212]\n",
       "1       detail_industry   [0.00739037343646]\n",
       "2     detail_occupation   [-0.0557671928891]\n",
       "3             education    [0.0310267391951]\n",
       "4               wage_hr  [-0.00187189534616]\n",
       "5        marital_Status    [-0.111430065388]\n",
       "6                   sex      [1.55547586892]\n",
       "7               capgain   [0.00017294617986]\n",
       "8             dividends  [0.000566568175277]\n",
       "9              tax_stat     [-0.11655129464]\n",
       "10         dfamily_stat    [0.0141776838109]\n",
       "11      shousehold_stat   [-0.0101141758289]\n",
       "12          inst_weight  [7.74830564178e-05]\n",
       "13         num_emp_Empl     [0.146320217235]\n",
       "14  business_or_Selfemp   [-0.0319746474921]\n",
       "15             weeks_yr     [0.065687393774]"
      ]
     },
     "execution_count": 148,
     "metadata": {},
     "output_type": "execute_result"
    }
   ],
   "source": [
    "# examine the coefficients\n",
    "pd.DataFrame(zip(X.columns, np.transpose(result.coef_)))\n",
    "#increase in number of employees working for employer,age corresponds to an increase in probability in earning more than 50,000\n",
    "#sex and weeks_yr does also correspond to increase in likelihood of earning more\n"
   ]
  },
  {
   "cell_type": "code",
   "execution_count": 149,
   "metadata": {},
   "outputs": [
    {
     "data": {
      "image/png": "[encoded data removed]",
      "text/plain": [
       "<matplotlib.figure.Figure at 0x7fd9850e9150>"
      ]
     },
     "metadata": {},
     "output_type": "display_data"
    }
   ],
   "source": [
    "predictions = logis.predict(X_test)\n",
    "\n",
    "\n",
    "cm = confusion_matrix(y_test, predictions) \n",
    "#The confusion matrix is used to evaluate the quality of the output of the DT-classifier  \n",
    "#We use it in combination with the heatmap to have a more visual interpretation of the\n",
    "#misclassified objects (employees).\n",
    "\n",
    "#values are stored in the dataframe df_cm and reused to build the heatmap\n",
    "df_cm = pd.DataFrame(cm, index = [i for i in np.unique(y)],  #create a dataframe for the unique entries in the target \n",
    "                  columns = [i for i in np.unique(y)])\n",
    " \n",
    "plt.figure(figsize = (5,5)) #we plot the heatmap with a size of 5 to 5 inches\n",
    "sns.heatmap(df_cm, annot=True,  #annot=True is printing the number in each category\n",
    "         fmt='.0f', #without a decimal place because here are only whole numbers possible\n",
    "         xticklabels = [\"below\", \"above\"] , yticklabels = [\"below\", \"above\"] )\n",
    "\n",
    "plt.ylabel('True label')\n",
    "plt.xlabel('Predicted label')\n",
    "plt.title('Confusion Matrix on test data with LOGISTIC-Classifier');"
   ]
  },
  {
   "cell_type": "code",
   "execution_count": 150,
   "metadata": {},
   "outputs": [
    {
     "name": "stdout",
     "output_type": "stream",
     "text": [
      "[[92780   795]\n",
      " [ 4630  1556]]\n",
      "             precision    recall  f1-score   support\n",
      "\n",
      "          0       0.95      0.99      0.97     93575\n",
      "          1       0.66      0.25      0.36      6186\n",
      "\n",
      "avg / total       0.93      0.95      0.93     99761\n",
      "\n"
     ]
    }
   ],
   "source": [
    "print metrics.confusion_matrix(y_test, predictions)\n",
    "print metrics.classification_report(y_test, predictions)"
   ]
  },
  {
   "cell_type": "code",
   "execution_count": 151,
   "metadata": {},
   "outputs": [
    {
     "name": "stdout",
     "output_type": "stream",
     "text": [
      "('Area Under the Curve:', 0.91304128953203223)\n"
     ]
    },
    {
     "data": {
      "image/png": "[encoded data removed]",
      "text/plain": [
       "<matplotlib.figure.Figure at 0x7fd9a5cd4410>"
      ]
     },
     "metadata": {},
     "output_type": "display_data"
    }
   ],
   "source": [
    "#we use ROC curve for visualization of the true positive rate(TPR) against the false positive rate(FPR)\n",
    "from sklearn.metrics import roc_curve, roc_auc_score #import the modules for the curve and metrics\n",
    "probabilities = logis.predict_proba(X_test) #To plot the curve, probability estimates are used\n",
    "#and they are calculated with the logistic regression classifier\n",
    "fpr, tpr, thresholds = roc_curve(y_test, probabilities[:,1]) #curve is calculated for the entries in \n",
    "#y_test against their calculated prediction with logistic regression classifier\n",
    "#the roc curve functionality returns fpr, tpr, thresholds; for further information see:\n",
    "#http://scikit-learn.org/stable/modules/generated/sklearn.metrics.roc_curve.html\n",
    "\n",
    "rates = pd.DataFrame({'False Positive Rate': fpr, 'True Positive Rate': tpr}) #the returned values \n",
    "#are saved in a dataframe\n",
    "\n",
    "roc = plt.figure(figsize = (10,6))\n",
    "rocax = roc.add_axes([0,0,1,1])\n",
    "rocax.plot(fpr, tpr, color='b', label='Logistic Regression')\n",
    "rocax.plot([0,1],[0,1],color='gray',ls='--',label='Baseline (Random Guessing)') #plot of angle bisectrix \n",
    "rocax.set_xlabel('False Positive Rate') #labeling x-axis\n",
    "rocax.set_ylabel('True Positive Rate')  #labeling y-axis\n",
    "rocax.set_title('ROC Curve')  #labeling the diagram itself\n",
    "rocax.legend() # showing the legend\n",
    "\n",
    "print('Area Under the Curve:', roc_auc_score(y_test, probabilities[:,1])) \n",
    "#calculating and printing AUC = Area Under the Curve"
   ]
  },
  {
   "cell_type": "code",
   "execution_count": 153,
   "metadata": {},
   "outputs": [
    {
     "name": "stdout",
     "output_type": "stream",
     "text": [
      "AUC: 0.919 (0.004)\n",
      "[ 0.92453491  0.92048492  0.9127534   0.92054419  0.92056826  0.91738015\n",
      "  0.91984492  0.91917547  0.92183276  0.90875449]\n"
     ]
    }
   ],
   "source": [
    "# Using 10 fold Cross-Validation to train our Logistic Regression Model\n",
    "from sklearn import model_selection\n",
    "\n",
    "kfold = model_selection.KFold(n_splits=10, random_state=0)\n",
    "modelCV = LogisticRegression(class_weight = \"balanced\")\n",
    "scoring = 'roc_auc'\n",
    "results = model_selection.cross_val_score(modelCV, X, y, cv=kfold, scoring=scoring)\n",
    "print(\"AUC: %.3f (%.3f)\" % (results.mean(), results.std()))\n",
    "print(results)"
   ]
  },
  {
   "cell_type": "code",
   "execution_count": 155,
   "metadata": {},
   "outputs": [
    {
     "name": "stdout",
     "output_type": "stream",
     "text": [
      "('Training score: ', 0.95172124716528916)\n",
      "('Testing score: ', 0.93799180040296304)\n"
     ]
    }
   ],
   "source": [
    "#logistic regression : exploring different models\n",
    "#1. scaling the features\n",
    "from sklearn.preprocessing import StandardScaler\n",
    "scaler = StandardScaler()\n",
    "scaler.fit(X)\n",
    "X_train_scaled = scaler.transform(X)\n",
    "X_test_scaled = scaler.transform(X_test)\n",
    "\n",
    "# Initialize logistic regression model\n",
    "logis=LogisticRegression(random_state=201)\n",
    "\n",
    "result=logis.fit(X,y) #fitting the model with the logistic Regression Model\n",
    "\n",
    "\n",
    "#calculate the training and Testing score\n",
    "logis_score_train = logis.score(X_train_scaled,y)\n",
    "print(\"Training score: \", logis_score_train)\n",
    "logis_score_test = logis.score(X_test_scaled,y_test)\n",
    "print(\"Testing score: \", logis_score_test)\n",
    "\n",
    "#accuracy drops"
   ]
  },
  {
   "cell_type": "code",
   "execution_count": 158,
   "metadata": {},
   "outputs": [
    {
     "name": "stdout",
     "output_type": "stream",
     "text": [
      "[[ 0.68829593  0.13104278 -0.79584132  0.1484322  -0.20456631 -0.11803215\n",
      "   0.79255016  0.16837965  0.22354168 -0.1372384   0.          0.18323511\n",
      "   0.08033431  0.34297972 -0.0042794   1.63988153]]\n",
      "('Training score: ', 0.95424696108251028)\n",
      "('Testing score: ', 0.94561000791892624)\n"
     ]
    }
   ],
   "source": [
    "#2. Logistic regression with L1 penalty and features scaled\n",
    "# C=0.1 with L1 penalty\n",
    "logreg = LogisticRegression(C=0.1, penalty='l1')\n",
    "logreg.fit(X_train_scaled, y)\n",
    "print logreg.coef_\n",
    "\n",
    "#calculate the training and Testing score\n",
    "logis_score_train = logreg.score(X_train_scaled,y)\n",
    "print(\"Training score: \", logis_score_train)\n",
    "logis_score_test = logreg.score(X_test_scaled,y_test)\n",
    "print(\"Testing score: \", logis_score_test)\n",
    "\n",
    "#accuracy still drops"
   ]
  },
  {
   "cell_type": "code",
   "execution_count": 159,
   "metadata": {},
   "outputs": [
    {
     "name": "stdout",
     "output_type": "stream",
     "text": [
      "[[ 0.6745407   0.13435804 -0.79308158  0.14870913 -0.20607258 -0.11816741\n",
      "   0.78816757  0.16831847  0.22266561 -0.13465746 -0.03547499  0.21641133\n",
      "   0.08102237  0.34240424 -0.00620027  1.60758705]]\n",
      "('Training score: ', 0.9542308395043152)\n",
      "('Testing score: ', 0.94558996000441053)\n"
     ]
    }
   ],
   "source": [
    "#3. Logistic regression with L2 penalty\n",
    "# try C=0.1 with L2 penalty\n",
    "logreg = LogisticRegression(C=0.1, penalty='l2')\n",
    "logreg.fit(X_train_scaled, y)\n",
    "print logreg.coef_\n",
    "\n",
    "#calculate the training and Testing score\n",
    "logis_score_train = logreg.score(X_train_scaled,y)\n",
    "print(\"Training score: \", logis_score_train)\n",
    "logis_score_test = logreg.score(X_test_scaled,y_test)\n",
    "print(\"Testing score: \", logis_score_test)\n",
    "\n",
    "#accuracy drops"
   ]
  },
  {
   "cell_type": "code",
   "execution_count": 160,
   "metadata": {
    "collapsed": true
   },
   "outputs": [],
   "source": [
    "# pipeline of StandardScaler and LogisticRegression\n",
    "from sklearn.pipeline import make_pipeline\n",
    "pipe = make_pipeline(StandardScaler(), LogisticRegression())"
   ]
  },
  {
   "cell_type": "code",
   "execution_count": 161,
   "metadata": {},
   "outputs": [
    {
     "name": "stderr",
     "output_type": "stream",
     "text": [
      "/home/ashish/miniconda2/lib/python2.7/site-packages/sklearn/grid_search.py:42: DeprecationWarning: This module was deprecated in version 0.18 in favor of the model_selection module into which all the refactored classes and functions are moved. This module will be removed in 0.20.\n",
      "  DeprecationWarning)\n",
      "/home/ashish/miniconda2/lib/python2.7/site-packages/sklearn/metrics/scorer.py:137: DeprecationWarning: Scoring method log_loss was renamed to neg_log_loss in version 0.18 and will be removed in 0.20.\n",
      "  sample_weight=sample_weight)\n",
      "/home/ashish/miniconda2/lib/python2.7/site-packages/sklearn/metrics/scorer.py:137: DeprecationWarning: Scoring method log_loss was renamed to neg_log_loss in version 0.18 and will be removed in 0.20.\n",
      "  sample_weight=sample_weight)\n",
      "/home/ashish/miniconda2/lib/python2.7/site-packages/sklearn/metrics/scorer.py:137: DeprecationWarning: Scoring method log_loss was renamed to neg_log_loss in version 0.18 and will be removed in 0.20.\n",
      "  sample_weight=sample_weight)\n",
      "/home/ashish/miniconda2/lib/python2.7/site-packages/sklearn/metrics/scorer.py:137: DeprecationWarning: Scoring method log_loss was renamed to neg_log_loss in version 0.18 and will be removed in 0.20.\n",
      "  sample_weight=sample_weight)\n",
      "/home/ashish/miniconda2/lib/python2.7/site-packages/sklearn/metrics/scorer.py:137: DeprecationWarning: Scoring method log_loss was renamed to neg_log_loss in version 0.18 and will be removed in 0.20.\n",
      "  sample_weight=sample_weight)\n",
      "/home/ashish/miniconda2/lib/python2.7/site-packages/sklearn/metrics/scorer.py:137: DeprecationWarning: Scoring method log_loss was renamed to neg_log_loss in version 0.18 and will be removed in 0.20.\n",
      "  sample_weight=sample_weight)\n",
      "/home/ashish/miniconda2/lib/python2.7/site-packages/sklearn/metrics/scorer.py:137: DeprecationWarning: Scoring method log_loss was renamed to neg_log_loss in version 0.18 and will be removed in 0.20.\n",
      "  sample_weight=sample_weight)\n",
      "/home/ashish/miniconda2/lib/python2.7/site-packages/sklearn/metrics/scorer.py:137: DeprecationWarning: Scoring method log_loss was renamed to neg_log_loss in version 0.18 and will be removed in 0.20.\n",
      "  sample_weight=sample_weight)\n",
      "/home/ashish/miniconda2/lib/python2.7/site-packages/sklearn/metrics/scorer.py:137: DeprecationWarning: Scoring method log_loss was renamed to neg_log_loss in version 0.18 and will be removed in 0.20.\n",
      "  sample_weight=sample_weight)\n",
      "/home/ashish/miniconda2/lib/python2.7/site-packages/sklearn/metrics/scorer.py:137: DeprecationWarning: Scoring method log_loss was renamed to neg_log_loss in version 0.18 and will be removed in 0.20.\n",
      "  sample_weight=sample_weight)\n",
      "/home/ashish/miniconda2/lib/python2.7/site-packages/sklearn/metrics/scorer.py:137: DeprecationWarning: Scoring method log_loss was renamed to neg_log_loss in version 0.18 and will be removed in 0.20.\n",
      "  sample_weight=sample_weight)\n",
      "/home/ashish/miniconda2/lib/python2.7/site-packages/sklearn/metrics/scorer.py:137: DeprecationWarning: Scoring method log_loss was renamed to neg_log_loss in version 0.18 and will be removed in 0.20.\n",
      "  sample_weight=sample_weight)\n",
      "/home/ashish/miniconda2/lib/python2.7/site-packages/sklearn/metrics/scorer.py:137: DeprecationWarning: Scoring method log_loss was renamed to neg_log_loss in version 0.18 and will be removed in 0.20.\n",
      "  sample_weight=sample_weight)\n",
      "/home/ashish/miniconda2/lib/python2.7/site-packages/sklearn/metrics/scorer.py:137: DeprecationWarning: Scoring method log_loss was renamed to neg_log_loss in version 0.18 and will be removed in 0.20.\n",
      "  sample_weight=sample_weight)\n",
      "/home/ashish/miniconda2/lib/python2.7/site-packages/sklearn/metrics/scorer.py:137: DeprecationWarning: Scoring method log_loss was renamed to neg_log_loss in version 0.18 and will be removed in 0.20.\n",
      "  sample_weight=sample_weight)\n",
      "/home/ashish/miniconda2/lib/python2.7/site-packages/sklearn/metrics/scorer.py:137: DeprecationWarning: Scoring method log_loss was renamed to neg_log_loss in version 0.18 and will be removed in 0.20.\n",
      "  sample_weight=sample_weight)\n",
      "/home/ashish/miniconda2/lib/python2.7/site-packages/sklearn/metrics/scorer.py:137: DeprecationWarning: Scoring method log_loss was renamed to neg_log_loss in version 0.18 and will be removed in 0.20.\n",
      "  sample_weight=sample_weight)\n",
      "/home/ashish/miniconda2/lib/python2.7/site-packages/sklearn/metrics/scorer.py:137: DeprecationWarning: Scoring method log_loss was renamed to neg_log_loss in version 0.18 and will be removed in 0.20.\n",
      "  sample_weight=sample_weight)\n",
      "/home/ashish/miniconda2/lib/python2.7/site-packages/sklearn/metrics/scorer.py:137: DeprecationWarning: Scoring method log_loss was renamed to neg_log_loss in version 0.18 and will be removed in 0.20.\n",
      "  sample_weight=sample_weight)\n",
      "/home/ashish/miniconda2/lib/python2.7/site-packages/sklearn/metrics/scorer.py:137: DeprecationWarning: Scoring method log_loss was renamed to neg_log_loss in version 0.18 and will be removed in 0.20.\n",
      "  sample_weight=sample_weight)\n",
      "/home/ashish/miniconda2/lib/python2.7/site-packages/sklearn/metrics/scorer.py:137: DeprecationWarning: Scoring method log_loss was renamed to neg_log_loss in version 0.18 and will be removed in 0.20.\n",
      "  sample_weight=sample_weight)\n",
      "/home/ashish/miniconda2/lib/python2.7/site-packages/sklearn/metrics/scorer.py:137: DeprecationWarning: Scoring method log_loss was renamed to neg_log_loss in version 0.18 and will be removed in 0.20.\n",
      "  sample_weight=sample_weight)\n",
      "/home/ashish/miniconda2/lib/python2.7/site-packages/sklearn/metrics/scorer.py:137: DeprecationWarning: Scoring method log_loss was renamed to neg_log_loss in version 0.18 and will be removed in 0.20.\n",
      "  sample_weight=sample_weight)\n",
      "/home/ashish/miniconda2/lib/python2.7/site-packages/sklearn/metrics/scorer.py:137: DeprecationWarning: Scoring method log_loss was renamed to neg_log_loss in version 0.18 and will be removed in 0.20.\n",
      "  sample_weight=sample_weight)\n",
      "/home/ashish/miniconda2/lib/python2.7/site-packages/sklearn/metrics/scorer.py:137: DeprecationWarning: Scoring method log_loss was renamed to neg_log_loss in version 0.18 and will be removed in 0.20.\n",
      "  sample_weight=sample_weight)\n",
      "/home/ashish/miniconda2/lib/python2.7/site-packages/sklearn/metrics/scorer.py:137: DeprecationWarning: Scoring method log_loss was renamed to neg_log_loss in version 0.18 and will be removed in 0.20.\n",
      "  sample_weight=sample_weight)\n",
      "/home/ashish/miniconda2/lib/python2.7/site-packages/sklearn/metrics/scorer.py:137: DeprecationWarning: Scoring method log_loss was renamed to neg_log_loss in version 0.18 and will be removed in 0.20.\n",
      "  sample_weight=sample_weight)\n",
      "/home/ashish/miniconda2/lib/python2.7/site-packages/sklearn/metrics/scorer.py:137: DeprecationWarning: Scoring method log_loss was renamed to neg_log_loss in version 0.18 and will be removed in 0.20.\n",
      "  sample_weight=sample_weight)\n",
      "/home/ashish/miniconda2/lib/python2.7/site-packages/sklearn/metrics/scorer.py:137: DeprecationWarning: Scoring method log_loss was renamed to neg_log_loss in version 0.18 and will be removed in 0.20.\n",
      "  sample_weight=sample_weight)\n",
      "/home/ashish/miniconda2/lib/python2.7/site-packages/sklearn/metrics/scorer.py:137: DeprecationWarning: Scoring method log_loss was renamed to neg_log_loss in version 0.18 and will be removed in 0.20.\n",
      "  sample_weight=sample_weight)\n",
      "/home/ashish/miniconda2/lib/python2.7/site-packages/sklearn/metrics/scorer.py:137: DeprecationWarning: Scoring method log_loss was renamed to neg_log_loss in version 0.18 and will be removed in 0.20.\n",
      "  sample_weight=sample_weight)\n",
      "/home/ashish/miniconda2/lib/python2.7/site-packages/sklearn/metrics/scorer.py:137: DeprecationWarning: Scoring method log_loss was renamed to neg_log_loss in version 0.18 and will be removed in 0.20.\n",
      "  sample_weight=sample_weight)\n",
      "/home/ashish/miniconda2/lib/python2.7/site-packages/sklearn/metrics/scorer.py:137: DeprecationWarning: Scoring method log_loss was renamed to neg_log_loss in version 0.18 and will be removed in 0.20.\n",
      "  sample_weight=sample_weight)\n",
      "/home/ashish/miniconda2/lib/python2.7/site-packages/sklearn/metrics/scorer.py:137: DeprecationWarning: Scoring method log_loss was renamed to neg_log_loss in version 0.18 and will be removed in 0.20.\n",
      "  sample_weight=sample_weight)\n",
      "/home/ashish/miniconda2/lib/python2.7/site-packages/sklearn/metrics/scorer.py:137: DeprecationWarning: Scoring method log_loss was renamed to neg_log_loss in version 0.18 and will be removed in 0.20.\n",
      "  sample_weight=sample_weight)\n"
     ]
    },
    {
     "name": "stderr",
     "output_type": "stream",
     "text": [
      "/home/ashish/miniconda2/lib/python2.7/site-packages/sklearn/metrics/scorer.py:137: DeprecationWarning: Scoring method log_loss was renamed to neg_log_loss in version 0.18 and will be removed in 0.20.\n",
      "  sample_weight=sample_weight)\n",
      "/home/ashish/miniconda2/lib/python2.7/site-packages/sklearn/metrics/scorer.py:137: DeprecationWarning: Scoring method log_loss was renamed to neg_log_loss in version 0.18 and will be removed in 0.20.\n",
      "  sample_weight=sample_weight)\n",
      "/home/ashish/miniconda2/lib/python2.7/site-packages/sklearn/metrics/scorer.py:137: DeprecationWarning: Scoring method log_loss was renamed to neg_log_loss in version 0.18 and will be removed in 0.20.\n",
      "  sample_weight=sample_weight)\n",
      "/home/ashish/miniconda2/lib/python2.7/site-packages/sklearn/metrics/scorer.py:137: DeprecationWarning: Scoring method log_loss was renamed to neg_log_loss in version 0.18 and will be removed in 0.20.\n",
      "  sample_weight=sample_weight)\n",
      "/home/ashish/miniconda2/lib/python2.7/site-packages/sklearn/metrics/scorer.py:137: DeprecationWarning: Scoring method log_loss was renamed to neg_log_loss in version 0.18 and will be removed in 0.20.\n",
      "  sample_weight=sample_weight)\n",
      "/home/ashish/miniconda2/lib/python2.7/site-packages/sklearn/metrics/scorer.py:137: DeprecationWarning: Scoring method log_loss was renamed to neg_log_loss in version 0.18 and will be removed in 0.20.\n",
      "  sample_weight=sample_weight)\n",
      "/home/ashish/miniconda2/lib/python2.7/site-packages/sklearn/metrics/scorer.py:137: DeprecationWarning: Scoring method log_loss was renamed to neg_log_loss in version 0.18 and will be removed in 0.20.\n",
      "  sample_weight=sample_weight)\n",
      "/home/ashish/miniconda2/lib/python2.7/site-packages/sklearn/metrics/scorer.py:137: DeprecationWarning: Scoring method log_loss was renamed to neg_log_loss in version 0.18 and will be removed in 0.20.\n",
      "  sample_weight=sample_weight)\n",
      "/home/ashish/miniconda2/lib/python2.7/site-packages/sklearn/metrics/scorer.py:137: DeprecationWarning: Scoring method log_loss was renamed to neg_log_loss in version 0.18 and will be removed in 0.20.\n",
      "  sample_weight=sample_weight)\n",
      "/home/ashish/miniconda2/lib/python2.7/site-packages/sklearn/metrics/scorer.py:137: DeprecationWarning: Scoring method log_loss was renamed to neg_log_loss in version 0.18 and will be removed in 0.20.\n",
      "  sample_weight=sample_weight)\n",
      "/home/ashish/miniconda2/lib/python2.7/site-packages/sklearn/metrics/scorer.py:137: DeprecationWarning: Scoring method log_loss was renamed to neg_log_loss in version 0.18 and will be removed in 0.20.\n",
      "  sample_weight=sample_weight)\n",
      "/home/ashish/miniconda2/lib/python2.7/site-packages/sklearn/metrics/scorer.py:137: DeprecationWarning: Scoring method log_loss was renamed to neg_log_loss in version 0.18 and will be removed in 0.20.\n",
      "  sample_weight=sample_weight)\n",
      "/home/ashish/miniconda2/lib/python2.7/site-packages/sklearn/metrics/scorer.py:137: DeprecationWarning: Scoring method log_loss was renamed to neg_log_loss in version 0.18 and will be removed in 0.20.\n",
      "  sample_weight=sample_weight)\n",
      "/home/ashish/miniconda2/lib/python2.7/site-packages/sklearn/metrics/scorer.py:137: DeprecationWarning: Scoring method log_loss was renamed to neg_log_loss in version 0.18 and will be removed in 0.20.\n",
      "  sample_weight=sample_weight)\n",
      "/home/ashish/miniconda2/lib/python2.7/site-packages/sklearn/metrics/scorer.py:137: DeprecationWarning: Scoring method log_loss was renamed to neg_log_loss in version 0.18 and will be removed in 0.20.\n",
      "  sample_weight=sample_weight)\n",
      "/home/ashish/miniconda2/lib/python2.7/site-packages/sklearn/metrics/scorer.py:137: DeprecationWarning: Scoring method log_loss was renamed to neg_log_loss in version 0.18 and will be removed in 0.20.\n",
      "  sample_weight=sample_weight)\n",
      "/home/ashish/miniconda2/lib/python2.7/site-packages/sklearn/metrics/scorer.py:137: DeprecationWarning: Scoring method log_loss was renamed to neg_log_loss in version 0.18 and will be removed in 0.20.\n",
      "  sample_weight=sample_weight)\n",
      "/home/ashish/miniconda2/lib/python2.7/site-packages/sklearn/metrics/scorer.py:137: DeprecationWarning: Scoring method log_loss was renamed to neg_log_loss in version 0.18 and will be removed in 0.20.\n",
      "  sample_weight=sample_weight)\n",
      "/home/ashish/miniconda2/lib/python2.7/site-packages/sklearn/metrics/scorer.py:137: DeprecationWarning: Scoring method log_loss was renamed to neg_log_loss in version 0.18 and will be removed in 0.20.\n",
      "  sample_weight=sample_weight)\n",
      "/home/ashish/miniconda2/lib/python2.7/site-packages/sklearn/metrics/scorer.py:137: DeprecationWarning: Scoring method log_loss was renamed to neg_log_loss in version 0.18 and will be removed in 0.20.\n",
      "  sample_weight=sample_weight)\n",
      "/home/ashish/miniconda2/lib/python2.7/site-packages/sklearn/metrics/scorer.py:137: DeprecationWarning: Scoring method log_loss was renamed to neg_log_loss in version 0.18 and will be removed in 0.20.\n",
      "  sample_weight=sample_weight)\n",
      "/home/ashish/miniconda2/lib/python2.7/site-packages/sklearn/metrics/scorer.py:137: DeprecationWarning: Scoring method log_loss was renamed to neg_log_loss in version 0.18 and will be removed in 0.20.\n",
      "  sample_weight=sample_weight)\n",
      "/home/ashish/miniconda2/lib/python2.7/site-packages/sklearn/metrics/scorer.py:137: DeprecationWarning: Scoring method log_loss was renamed to neg_log_loss in version 0.18 and will be removed in 0.20.\n",
      "  sample_weight=sample_weight)\n",
      "/home/ashish/miniconda2/lib/python2.7/site-packages/sklearn/metrics/scorer.py:137: DeprecationWarning: Scoring method log_loss was renamed to neg_log_loss in version 0.18 and will be removed in 0.20.\n",
      "  sample_weight=sample_weight)\n",
      "/home/ashish/miniconda2/lib/python2.7/site-packages/sklearn/metrics/scorer.py:137: DeprecationWarning: Scoring method log_loss was renamed to neg_log_loss in version 0.18 and will be removed in 0.20.\n",
      "  sample_weight=sample_weight)\n",
      "/home/ashish/miniconda2/lib/python2.7/site-packages/sklearn/metrics/scorer.py:137: DeprecationWarning: Scoring method log_loss was renamed to neg_log_loss in version 0.18 and will be removed in 0.20.\n",
      "  sample_weight=sample_weight)\n",
      "/home/ashish/miniconda2/lib/python2.7/site-packages/sklearn/metrics/scorer.py:137: DeprecationWarning: Scoring method log_loss was renamed to neg_log_loss in version 0.18 and will be removed in 0.20.\n",
      "  sample_weight=sample_weight)\n",
      "/home/ashish/miniconda2/lib/python2.7/site-packages/sklearn/metrics/scorer.py:137: DeprecationWarning: Scoring method log_loss was renamed to neg_log_loss in version 0.18 and will be removed in 0.20.\n",
      "  sample_weight=sample_weight)\n",
      "/home/ashish/miniconda2/lib/python2.7/site-packages/sklearn/metrics/scorer.py:137: DeprecationWarning: Scoring method log_loss was renamed to neg_log_loss in version 0.18 and will be removed in 0.20.\n",
      "  sample_weight=sample_weight)\n",
      "/home/ashish/miniconda2/lib/python2.7/site-packages/sklearn/metrics/scorer.py:137: DeprecationWarning: Scoring method log_loss was renamed to neg_log_loss in version 0.18 and will be removed in 0.20.\n",
      "  sample_weight=sample_weight)\n",
      "/home/ashish/miniconda2/lib/python2.7/site-packages/sklearn/metrics/scorer.py:137: DeprecationWarning: Scoring method log_loss was renamed to neg_log_loss in version 0.18 and will be removed in 0.20.\n",
      "  sample_weight=sample_weight)\n",
      "/home/ashish/miniconda2/lib/python2.7/site-packages/sklearn/metrics/scorer.py:137: DeprecationWarning: Scoring method log_loss was renamed to neg_log_loss in version 0.18 and will be removed in 0.20.\n",
      "  sample_weight=sample_weight)\n",
      "/home/ashish/miniconda2/lib/python2.7/site-packages/sklearn/metrics/scorer.py:137: DeprecationWarning: Scoring method log_loss was renamed to neg_log_loss in version 0.18 and will be removed in 0.20.\n",
      "  sample_weight=sample_weight)\n",
      "/home/ashish/miniconda2/lib/python2.7/site-packages/sklearn/metrics/scorer.py:137: DeprecationWarning: Scoring method log_loss was renamed to neg_log_loss in version 0.18 and will be removed in 0.20.\n",
      "  sample_weight=sample_weight)\n",
      "/home/ashish/miniconda2/lib/python2.7/site-packages/sklearn/metrics/scorer.py:137: DeprecationWarning: Scoring method log_loss was renamed to neg_log_loss in version 0.18 and will be removed in 0.20.\n",
      "  sample_weight=sample_weight)\n",
      "/home/ashish/miniconda2/lib/python2.7/site-packages/sklearn/metrics/scorer.py:137: DeprecationWarning: Scoring method log_loss was renamed to neg_log_loss in version 0.18 and will be removed in 0.20.\n",
      "  sample_weight=sample_weight)\n"
     ]
    },
    {
     "name": "stderr",
     "output_type": "stream",
     "text": [
      "/home/ashish/miniconda2/lib/python2.7/site-packages/sklearn/metrics/scorer.py:137: DeprecationWarning: Scoring method log_loss was renamed to neg_log_loss in version 0.18 and will be removed in 0.20.\n",
      "  sample_weight=sample_weight)\n",
      "/home/ashish/miniconda2/lib/python2.7/site-packages/sklearn/metrics/scorer.py:137: DeprecationWarning: Scoring method log_loss was renamed to neg_log_loss in version 0.18 and will be removed in 0.20.\n",
      "  sample_weight=sample_weight)\n",
      "/home/ashish/miniconda2/lib/python2.7/site-packages/sklearn/metrics/scorer.py:137: DeprecationWarning: Scoring method log_loss was renamed to neg_log_loss in version 0.18 and will be removed in 0.20.\n",
      "  sample_weight=sample_weight)\n",
      "/home/ashish/miniconda2/lib/python2.7/site-packages/sklearn/metrics/scorer.py:137: DeprecationWarning: Scoring method log_loss was renamed to neg_log_loss in version 0.18 and will be removed in 0.20.\n",
      "  sample_weight=sample_weight)\n",
      "/home/ashish/miniconda2/lib/python2.7/site-packages/sklearn/metrics/scorer.py:137: DeprecationWarning: Scoring method log_loss was renamed to neg_log_loss in version 0.18 and will be removed in 0.20.\n",
      "  sample_weight=sample_weight)\n",
      "/home/ashish/miniconda2/lib/python2.7/site-packages/sklearn/metrics/scorer.py:137: DeprecationWarning: Scoring method log_loss was renamed to neg_log_loss in version 0.18 and will be removed in 0.20.\n",
      "  sample_weight=sample_weight)\n",
      "/home/ashish/miniconda2/lib/python2.7/site-packages/sklearn/metrics/scorer.py:137: DeprecationWarning: Scoring method log_loss was renamed to neg_log_loss in version 0.18 and will be removed in 0.20.\n",
      "  sample_weight=sample_weight)\n",
      "/home/ashish/miniconda2/lib/python2.7/site-packages/sklearn/metrics/scorer.py:137: DeprecationWarning: Scoring method log_loss was renamed to neg_log_loss in version 0.18 and will be removed in 0.20.\n",
      "  sample_weight=sample_weight)\n",
      "/home/ashish/miniconda2/lib/python2.7/site-packages/sklearn/metrics/scorer.py:137: DeprecationWarning: Scoring method log_loss was renamed to neg_log_loss in version 0.18 and will be removed in 0.20.\n",
      "  sample_weight=sample_weight)\n",
      "/home/ashish/miniconda2/lib/python2.7/site-packages/sklearn/metrics/scorer.py:137: DeprecationWarning: Scoring method log_loss was renamed to neg_log_loss in version 0.18 and will be removed in 0.20.\n",
      "  sample_weight=sample_weight)\n",
      "/home/ashish/miniconda2/lib/python2.7/site-packages/sklearn/metrics/scorer.py:137: DeprecationWarning: Scoring method log_loss was renamed to neg_log_loss in version 0.18 and will be removed in 0.20.\n",
      "  sample_weight=sample_weight)\n",
      "/home/ashish/miniconda2/lib/python2.7/site-packages/sklearn/metrics/scorer.py:137: DeprecationWarning: Scoring method log_loss was renamed to neg_log_loss in version 0.18 and will be removed in 0.20.\n",
      "  sample_weight=sample_weight)\n",
      "/home/ashish/miniconda2/lib/python2.7/site-packages/sklearn/metrics/scorer.py:137: DeprecationWarning: Scoring method log_loss was renamed to neg_log_loss in version 0.18 and will be removed in 0.20.\n",
      "  sample_weight=sample_weight)\n",
      "/home/ashish/miniconda2/lib/python2.7/site-packages/sklearn/metrics/scorer.py:137: DeprecationWarning: Scoring method log_loss was renamed to neg_log_loss in version 0.18 and will be removed in 0.20.\n",
      "  sample_weight=sample_weight)\n",
      "/home/ashish/miniconda2/lib/python2.7/site-packages/sklearn/metrics/scorer.py:137: DeprecationWarning: Scoring method log_loss was renamed to neg_log_loss in version 0.18 and will be removed in 0.20.\n",
      "  sample_weight=sample_weight)\n",
      "/home/ashish/miniconda2/lib/python2.7/site-packages/sklearn/metrics/scorer.py:137: DeprecationWarning: Scoring method log_loss was renamed to neg_log_loss in version 0.18 and will be removed in 0.20.\n",
      "  sample_weight=sample_weight)\n",
      "/home/ashish/miniconda2/lib/python2.7/site-packages/sklearn/metrics/scorer.py:137: DeprecationWarning: Scoring method log_loss was renamed to neg_log_loss in version 0.18 and will be removed in 0.20.\n",
      "  sample_weight=sample_weight)\n",
      "/home/ashish/miniconda2/lib/python2.7/site-packages/sklearn/metrics/scorer.py:137: DeprecationWarning: Scoring method log_loss was renamed to neg_log_loss in version 0.18 and will be removed in 0.20.\n",
      "  sample_weight=sample_weight)\n",
      "/home/ashish/miniconda2/lib/python2.7/site-packages/sklearn/metrics/scorer.py:137: DeprecationWarning: Scoring method log_loss was renamed to neg_log_loss in version 0.18 and will be removed in 0.20.\n",
      "  sample_weight=sample_weight)\n",
      "/home/ashish/miniconda2/lib/python2.7/site-packages/sklearn/metrics/scorer.py:137: DeprecationWarning: Scoring method log_loss was renamed to neg_log_loss in version 0.18 and will be removed in 0.20.\n",
      "  sample_weight=sample_weight)\n",
      "/home/ashish/miniconda2/lib/python2.7/site-packages/sklearn/metrics/scorer.py:137: DeprecationWarning: Scoring method log_loss was renamed to neg_log_loss in version 0.18 and will be removed in 0.20.\n",
      "  sample_weight=sample_weight)\n",
      "/home/ashish/miniconda2/lib/python2.7/site-packages/sklearn/metrics/scorer.py:137: DeprecationWarning: Scoring method log_loss was renamed to neg_log_loss in version 0.18 and will be removed in 0.20.\n",
      "  sample_weight=sample_weight)\n",
      "/home/ashish/miniconda2/lib/python2.7/site-packages/sklearn/metrics/scorer.py:137: DeprecationWarning: Scoring method log_loss was renamed to neg_log_loss in version 0.18 and will be removed in 0.20.\n",
      "  sample_weight=sample_weight)\n",
      "/home/ashish/miniconda2/lib/python2.7/site-packages/sklearn/metrics/scorer.py:137: DeprecationWarning: Scoring method log_loss was renamed to neg_log_loss in version 0.18 and will be removed in 0.20.\n",
      "  sample_weight=sample_weight)\n",
      "/home/ashish/miniconda2/lib/python2.7/site-packages/sklearn/metrics/scorer.py:137: DeprecationWarning: Scoring method log_loss was renamed to neg_log_loss in version 0.18 and will be removed in 0.20.\n",
      "  sample_weight=sample_weight)\n",
      "/home/ashish/miniconda2/lib/python2.7/site-packages/sklearn/metrics/scorer.py:137: DeprecationWarning: Scoring method log_loss was renamed to neg_log_loss in version 0.18 and will be removed in 0.20.\n",
      "  sample_weight=sample_weight)\n",
      "/home/ashish/miniconda2/lib/python2.7/site-packages/sklearn/metrics/scorer.py:137: DeprecationWarning: Scoring method log_loss was renamed to neg_log_loss in version 0.18 and will be removed in 0.20.\n",
      "  sample_weight=sample_weight)\n",
      "/home/ashish/miniconda2/lib/python2.7/site-packages/sklearn/metrics/scorer.py:137: DeprecationWarning: Scoring method log_loss was renamed to neg_log_loss in version 0.18 and will be removed in 0.20.\n",
      "  sample_weight=sample_weight)\n",
      "/home/ashish/miniconda2/lib/python2.7/site-packages/sklearn/metrics/scorer.py:137: DeprecationWarning: Scoring method log_loss was renamed to neg_log_loss in version 0.18 and will be removed in 0.20.\n",
      "  sample_weight=sample_weight)\n"
     ]
    },
    {
     "data": {
      "text/plain": [
       "GridSearchCV(cv=10, error_score='raise',\n",
       "       estimator=Pipeline(memory=None,\n",
       "     steps=[('standardscaler', StandardScaler(copy=True, with_mean=True, with_std=True)), ('logisticregression', LogisticRegression(C=1.0, class_weight=None, dual=False, fit_intercept=True,\n",
       "          intercept_scaling=1, max_iter=100, multi_class='ovr', n_jobs=1,\n",
       "          penalty='l2', random_state=None, solver='liblinear', tol=0.0001,\n",
       "          verbose=0, warm_start=False))]),\n",
       "       fit_params={}, iid=True, n_jobs=1,\n",
       "       param_grid={'logisticregression__penalty': ['l1', 'l2'], 'logisticregression__C': array([  1.00000e-02,   1.00000e-01,   1.00000e+00,   1.00000e+01,\n",
       "         1.00000e+02])},\n",
       "       pre_dispatch='2*n_jobs', refit=True, scoring='log_loss', verbose=0)"
      ]
     },
     "execution_count": 161,
     "metadata": {},
     "output_type": "execute_result"
    }
   ],
   "source": [
    "# grid search for best combination of C and penalty\n",
    "from sklearn.grid_search import GridSearchCV\n",
    "C_range = 10.**np.arange(-2, 3)\n",
    "penalty_options = ['l1', 'l2']\n",
    "param_grid = dict(logisticregression__C=C_range, logisticregression__penalty=penalty_options)\n",
    "grid = GridSearchCV(pipe, param_grid, cv=10, scoring='log_loss')\n",
    "grid.fit(X, y)\n"
   ]
  },
  {
   "cell_type": "code",
   "execution_count": 162,
   "metadata": {},
   "outputs": [
    {
     "data": {
      "text/plain": [
       "[mean: -0.12446, std: 0.00235, params: {'logisticregression__penalty': 'l1', 'logisticregression__C': 0.01},\n",
       " mean: -0.12510, std: 0.00223, params: {'logisticregression__penalty': 'l2', 'logisticregression__C': 0.01},\n",
       " mean: -0.12424, std: 0.00249, params: {'logisticregression__penalty': 'l1', 'logisticregression__C': 0.10000000000000001},\n",
       " mean: -0.12426, std: 0.00247, params: {'logisticregression__penalty': 'l2', 'logisticregression__C': 0.10000000000000001},\n",
       " mean: -0.12424, std: 0.00251, params: {'logisticregression__penalty': 'l1', 'logisticregression__C': 1.0},\n",
       " mean: -0.12425, std: 0.00251, params: {'logisticregression__penalty': 'l2', 'logisticregression__C': 1.0},\n",
       " mean: -0.12425, std: 0.00251, params: {'logisticregression__penalty': 'l1', 'logisticregression__C': 10.0},\n",
       " mean: -0.12425, std: 0.00251, params: {'logisticregression__penalty': 'l2', 'logisticregression__C': 10.0},\n",
       " mean: -0.12425, std: 0.00251, params: {'logisticregression__penalty': 'l1', 'logisticregression__C': 100.0},\n",
       " mean: -0.12425, std: 0.00251, params: {'logisticregression__penalty': 'l2', 'logisticregression__C': 100.0}]"
      ]
     },
     "execution_count": 162,
     "metadata": {},
     "output_type": "execute_result"
    }
   ],
   "source": [
    "# print all log loss scores\n",
    "grid.grid_scores_"
   ]
  },
  {
   "cell_type": "code",
   "execution_count": 163,
   "metadata": {},
   "outputs": [
    {
     "name": "stdout",
     "output_type": "stream",
     "text": [
      "-0.124244213163\n",
      "{'logisticregression__penalty': 'l1', 'logisticregression__C': 0.10000000000000001}\n"
     ]
    }
   ],
   "source": [
    "# examine the best model\n",
    "print grid.best_score_\n",
    "print grid.best_params_\n",
    "\n",
    "#The parameters were already tried."
   ]
  },
  {
   "cell_type": "code",
   "execution_count": 164,
   "metadata": {
    "collapsed": true
   },
   "outputs": [],
   "source": [
    "#summary\n",
    "#Sensitivity is 95.25% and specificity is 66.18%\n",
    "#Model precision and recall for income below 50,000 prediction is 0.95,0.99\n",
    "#Model precision and recall for income above 50,000 prediction is 0.66,0.25\n"
   ]
  },
  {
   "cell_type": "code",
   "execution_count": 165,
   "metadata": {
    "collapsed": true
   },
   "outputs": [],
   "source": [
    "#challenges:\n",
    "\n",
    "#1.class imbalance\n",
    "#Model was able to classify the individuals below 50k with a great precision\n",
    "#this was not the case with the indiduals who earn above 50k\n",
    "#2.Missing values: As the data had columns with more than 40% of the observations missing\n",
    "#This effected the accuracy of the model and they were dropped because they were not part of the sample\n",
    "#3. More relavant features required: such as years of experience, more information about workplace\n",
    "#4.information about capital gain and losses directly impact earnings, years of investment can give us more insights"
   ]
  },
  {
   "cell_type": "code",
   "execution_count": null,
   "metadata": {
    "collapsed": true
   },
   "outputs": [],
   "source": []
  },
  {
   "cell_type": "code",
   "execution_count": null,
   "metadata": {
    "collapsed": true
   },
   "outputs": [],
   "source": []
  }
 ],
 "metadata": {
  "kernelspec": {
   "display_name": "Python 2",
   "language": "python",
   "name": "python2"
  },
  "language_info": {
   "codemirror_mode": {
    "name": "ipython",
    "version": 2
   },
   "file_extension": ".py",
   "mimetype": "text/x-python",
   "name": "python",
   "nbconvert_exporter": "python",
   "pygments_lexer": "ipython2",
   "version": "2.7.13"
  }
 },
 "nbformat": 4,
 "nbformat_minor": 2
}
